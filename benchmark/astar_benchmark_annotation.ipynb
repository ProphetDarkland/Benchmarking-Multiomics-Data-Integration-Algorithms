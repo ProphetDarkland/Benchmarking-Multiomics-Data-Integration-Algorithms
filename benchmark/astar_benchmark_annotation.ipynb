{
 "cells": [
  {
   "cell_type": "code",
   "execution_count": 1,
   "id": "3d288060-85cd-4df7-baef-6f0c31cb5b43",
   "metadata": {
    "collapsed": true,
    "jupyter": {
     "outputs_hidden": true
    },
    "tags": []
   },
   "outputs": [
    {
     "name": "stderr",
     "output_type": "stream",
     "text": [
      "Loading required package: cowplot\n",
      "\n",
      "Loading required package: Matrix\n",
      "\n",
      "Loading required package: patchwork\n",
      "\n",
      "\n",
      "Attaching package: ‘patchwork’\n",
      "\n",
      "\n",
      "The following object is masked from ‘package:cowplot’:\n",
      "\n",
      "    align_plots\n",
      "\n",
      "\n",
      "Registered S3 method overwritten by 'spatstat.geom':\n",
      "  method     from\n",
      "  print.boxx cli \n",
      "\n",
      "Attaching SeuratObject\n",
      "\n",
      "\n",
      "Attaching package: ‘MOFA2’\n",
      "\n",
      "\n",
      "The following object is masked from ‘package:stats’:\n",
      "\n",
      "    predict\n",
      "\n",
      "\n"
     ]
    }
   ],
   "source": [
    "library(rliger)\n",
    "library(Seurat)\n",
    "library(cluster)\n",
    "library(MOFA2)\n",
    "library(Signac)\n",
    "library(\"fgsea\", quietly = TRUE)\n",
    "\n",
    "seurat <- readRDS(\"/sibcb1/chenluonanlab6/zhangchuanchao2/ASTAR-seq/process/astar_seurat.rds\")\n",
    "mofa <- readRDS(\"/sibcb1/chenluonanlab6/zhangchuanchao2/ASTAR-seq/process/astar_mofa.rds\")\n",
    "liger <- readRDS(\"/sibcb1/chenluonanlab6/zhangchuanchao2/ASTAR-seq/process/astar_liger.rds\")\n",
    "mcia <- readRDS(\"/sibcb1/chenluonanlab6/zhangchuanchao2/ASTAR-seq/process/astar_mcia.rds\")\n",
    "icluster <- readRDS(\"/sibcb1/chenluonanlab6/zhangchuanchao2/ASTAR-seq/process/astar_icluster.rds\")\n",
    "tica <- readRDS(\"/sibcb1/chenluonanlab6/zhangchuanchao2/ASTAR-seq/process/astar_tica.rds\")"
   ]
  },
  {
   "cell_type": "code",
   "execution_count": 8,
   "id": "883893d4-46b4-4624-a923-bab48ec3d7f3",
   "metadata": {},
   "outputs": [
    {
     "data": {
      "text/plain": [
       "An object of class Seurat \n",
       "709875 features across 378 samples within 3 assays \n",
       "Active assay: SCT (16668 features, 3000 variable features)\n",
       " 2 other assays present: RNA, ATAC\n",
       " 5 dimensional reductions calculated: lsi, umap.atac, pca, umap.rna, wnn.umap"
      ]
     },
     "metadata": {},
     "output_type": "display_data"
    }
   ],
   "source": [
    "seurat"
   ]
  },
  {
   "cell_type": "code",
   "execution_count": 12,
   "id": "cdbd7720-f4a4-4236-8415-de9782b16c67",
   "metadata": {},
   "outputs": [
    {
     "data": {
      "text/plain": [
       "ChromatinAssay data with 665282 features for 378 cells\n",
       "Variable features: 665282 \n",
       "Genome: hg38 \n",
       "Annotation present: TRUE \n",
       "Motifs present: FALSE \n",
       "Fragment files: 1 "
      ]
     },
     "metadata": {},
     "output_type": "display_data"
    }
   ],
   "source": [
    "seurat[[\"ATAC\"]]"
   ]
  },
  {
   "cell_type": "code",
   "execution_count": null,
   "id": "733fb655-0ed2-457b-9ade-5c8069440511",
   "metadata": {},
   "outputs": [],
   "source": [
    "seurat[[]]"
   ]
  },
  {
   "cell_type": "code",
   "execution_count": null,
   "id": "f7bb87d2-567f-41e9-91f6-ad27d54c0185",
   "metadata": {},
   "outputs": [],
   "source": [
    "# 获得metagenes\n",
    "# MOFA2"
   ]
  },
  {
   "cell_type": "code",
   "execution_count": 9,
   "id": "1d54aadc-1370-4ad0-8b33-a5061ed6877b",
   "metadata": {},
   "outputs": [],
   "source": [
    "metagenes_mofa <- mofa@expectations$W$RNA"
   ]
  },
  {
   "cell_type": "code",
   "execution_count": null,
   "id": "64cd0e14-a1d9-47fd-bc51-656bec9c639a",
   "metadata": {},
   "outputs": [],
   "source": [
    "# liger"
   ]
  },
  {
   "cell_type": "code",
   "execution_count": 10,
   "id": "5c6246a1-f0f3-4cb6-8858-a2d3b3a2bca8",
   "metadata": {},
   "outputs": [],
   "source": [
    "metagenes_liger <- t(liger@W)"
   ]
  },
  {
   "cell_type": "code",
   "execution_count": null,
   "id": "c51d3d5a-2184-43e6-8618-e758bb1674a0",
   "metadata": {},
   "outputs": [],
   "source": [
    "# mcia"
   ]
  },
  {
   "cell_type": "code",
   "execution_count": 11,
   "id": "7fcc4876-31f1-4925-aa18-ed227e62ebcd",
   "metadata": {},
   "outputs": [
    {
     "data": {
      "text/html": [
       "<style>\n",
       ".list-inline {list-style: none; margin:0; padding: 0}\n",
       ".list-inline>li {display: inline-block}\n",
       ".list-inline>li:not(:last-child)::after {content: \"\\00b7\"; padding: 0 .5ex}\n",
       "</style>\n",
       "<ol class=list-inline><li>678401</li><li>15</li></ol>\n"
      ],
      "text/latex": [
       "\\begin{enumerate*}\n",
       "\\item 678401\n",
       "\\item 15\n",
       "\\end{enumerate*}\n"
      ],
      "text/markdown": [
       "1. 678401\n",
       "2. 15\n",
       "\n",
       "\n"
      ],
      "text/plain": [
       "[1] 678401     15"
      ]
     },
     "metadata": {},
     "output_type": "display_data"
    }
   ],
   "source": [
    "dim(mcia$mcoa$axis)"
   ]
  },
  {
   "cell_type": "code",
   "execution_count": 19,
   "id": "1967e7ca-a77f-4d7a-86a8-0e644823da61",
   "metadata": {
    "collapsed": true,
    "jupyter": {
     "outputs_hidden": true
    },
    "tags": []
   },
   "outputs": [
    {
     "data": {
      "text/html": [
       "<table class=\"dataframe\">\n",
       "<caption>A data.frame: 6 × 15</caption>\n",
       "<thead>\n",
       "\t<tr><th></th><th scope=col>Axis1</th><th scope=col>Axis2</th><th scope=col>Axis3</th><th scope=col>Axis4</th><th scope=col>Axis5</th><th scope=col>Axis6</th><th scope=col>Axis7</th><th scope=col>Axis8</th><th scope=col>Axis9</th><th scope=col>Axis10</th><th scope=col>Axis11</th><th scope=col>Axis12</th><th scope=col>Axis13</th><th scope=col>Axis14</th><th scope=col>Axis15</th></tr>\n",
       "\t<tr><th></th><th scope=col>&lt;dbl&gt;</th><th scope=col>&lt;dbl&gt;</th><th scope=col>&lt;dbl&gt;</th><th scope=col>&lt;dbl&gt;</th><th scope=col>&lt;dbl&gt;</th><th scope=col>&lt;dbl&gt;</th><th scope=col>&lt;dbl&gt;</th><th scope=col>&lt;dbl&gt;</th><th scope=col>&lt;dbl&gt;</th><th scope=col>&lt;dbl&gt;</th><th scope=col>&lt;dbl&gt;</th><th scope=col>&lt;dbl&gt;</th><th scope=col>&lt;dbl&gt;</th><th scope=col>&lt;dbl&gt;</th><th scope=col>&lt;dbl&gt;</th></tr>\n",
       "</thead>\n",
       "<tbody>\n",
       "\t<tr><th scope=row>A1BG</th><td>-1.774179</td><td> 0.378371240</td><td> 1.06290322</td><td>-0.24787430</td><td>-0.9236122</td><td> 0.4342407</td><td>-1.4526648</td><td>-0.006751329</td><td> 0.4021690</td><td> 1.2870713</td><td>-0.8071357</td><td>  0.7789623</td><td> -0.05882998</td><td>  0.4819433</td><td>-1.4135369</td></tr>\n",
       "\t<tr><th scope=row>A1BG.AS1</th><td>-0.481041</td><td> 2.515786613</td><td>-0.54768507</td><td> 0.02112326</td><td>-0.6816301</td><td> 0.3342524</td><td> 0.4923588</td><td>-0.254313207</td><td> 4.2156144</td><td>-1.1161850</td><td> 1.3138520</td><td>  0.1146542</td><td>  0.22486671</td><td> -0.4324380</td><td> 0.3846436</td></tr>\n",
       "\t<tr><th scope=row>A4GALT</th><td>-3.082301</td><td>-0.525195123</td><td>-5.18381139</td><td>-0.45200851</td><td>-1.8862021</td><td> 1.3828132</td><td> 0.5623725</td><td>-1.058947067</td><td> 0.5705312</td><td> 3.0800995</td><td>-2.0601376</td><td>-16.7758373</td><td>-14.20954227</td><td>-15.9775900</td><td> 2.0578602</td></tr>\n",
       "\t<tr><th scope=row>AAAS</th><td>-0.680713</td><td> 1.236173917</td><td>-0.83949853</td><td>-0.23530508</td><td>-1.0846615</td><td>-0.0398386</td><td>-0.3887579</td><td> 0.537325558</td><td>-0.1516353</td><td>-0.7549201</td><td>-1.0415386</td><td>  0.4891625</td><td>  0.23489301</td><td> -1.1387059</td><td> 0.5464906</td></tr>\n",
       "\t<tr><th scope=row>AACS</th><td>-2.088713</td><td>-0.001061085</td><td>-0.03493483</td><td> 0.01305581</td><td>-0.8157710</td><td>-0.5755069</td><td>-0.9656286</td><td>-0.544762252</td><td>-0.2289972</td><td>-0.6498452</td><td>-0.1858684</td><td> -0.5975686</td><td> -4.70988202</td><td>  1.0840281</td><td> 0.7828716</td></tr>\n",
       "\t<tr><th scope=row>AACSP1</th><td> 1.623560</td><td> 1.335367394</td><td> 1.73852969</td><td> 8.45565620</td><td> 0.9885225</td><td> 1.6374615</td><td>-2.0429975</td><td>-2.959009317</td><td>-1.3759513</td><td> 1.1724143</td><td>-0.6631845</td><td>  0.2793819</td><td> -0.80847518</td><td>  0.7975516</td><td>-3.2872325</td></tr>\n",
       "</tbody>\n",
       "</table>\n"
      ],
      "text/latex": [
       "A data.frame: 6 × 15\n",
       "\\begin{tabular}{r|lllllllllllllll}\n",
       "  & Axis1 & Axis2 & Axis3 & Axis4 & Axis5 & Axis6 & Axis7 & Axis8 & Axis9 & Axis10 & Axis11 & Axis12 & Axis13 & Axis14 & Axis15\\\\\n",
       "  & <dbl> & <dbl> & <dbl> & <dbl> & <dbl> & <dbl> & <dbl> & <dbl> & <dbl> & <dbl> & <dbl> & <dbl> & <dbl> & <dbl> & <dbl>\\\\\n",
       "\\hline\n",
       "\tA1BG & -1.774179 &  0.378371240 &  1.06290322 & -0.24787430 & -0.9236122 &  0.4342407 & -1.4526648 & -0.006751329 &  0.4021690 &  1.2870713 & -0.8071357 &   0.7789623 &  -0.05882998 &   0.4819433 & -1.4135369\\\\\n",
       "\tA1BG.AS1 & -0.481041 &  2.515786613 & -0.54768507 &  0.02112326 & -0.6816301 &  0.3342524 &  0.4923588 & -0.254313207 &  4.2156144 & -1.1161850 &  1.3138520 &   0.1146542 &   0.22486671 &  -0.4324380 &  0.3846436\\\\\n",
       "\tA4GALT & -3.082301 & -0.525195123 & -5.18381139 & -0.45200851 & -1.8862021 &  1.3828132 &  0.5623725 & -1.058947067 &  0.5705312 &  3.0800995 & -2.0601376 & -16.7758373 & -14.20954227 & -15.9775900 &  2.0578602\\\\\n",
       "\tAAAS & -0.680713 &  1.236173917 & -0.83949853 & -0.23530508 & -1.0846615 & -0.0398386 & -0.3887579 &  0.537325558 & -0.1516353 & -0.7549201 & -1.0415386 &   0.4891625 &   0.23489301 &  -1.1387059 &  0.5464906\\\\\n",
       "\tAACS & -2.088713 & -0.001061085 & -0.03493483 &  0.01305581 & -0.8157710 & -0.5755069 & -0.9656286 & -0.544762252 & -0.2289972 & -0.6498452 & -0.1858684 &  -0.5975686 &  -4.70988202 &   1.0840281 &  0.7828716\\\\\n",
       "\tAACSP1 &  1.623560 &  1.335367394 &  1.73852969 &  8.45565620 &  0.9885225 &  1.6374615 & -2.0429975 & -2.959009317 & -1.3759513 &  1.1724143 & -0.6631845 &   0.2793819 &  -0.80847518 &   0.7975516 & -3.2872325\\\\\n",
       "\\end{tabular}\n"
      ],
      "text/markdown": [
       "\n",
       "A data.frame: 6 × 15\n",
       "\n",
       "| <!--/--> | Axis1 &lt;dbl&gt; | Axis2 &lt;dbl&gt; | Axis3 &lt;dbl&gt; | Axis4 &lt;dbl&gt; | Axis5 &lt;dbl&gt; | Axis6 &lt;dbl&gt; | Axis7 &lt;dbl&gt; | Axis8 &lt;dbl&gt; | Axis9 &lt;dbl&gt; | Axis10 &lt;dbl&gt; | Axis11 &lt;dbl&gt; | Axis12 &lt;dbl&gt; | Axis13 &lt;dbl&gt; | Axis14 &lt;dbl&gt; | Axis15 &lt;dbl&gt; |\n",
       "|---|---|---|---|---|---|---|---|---|---|---|---|---|---|---|---|\n",
       "| A1BG | -1.774179 |  0.378371240 |  1.06290322 | -0.24787430 | -0.9236122 |  0.4342407 | -1.4526648 | -0.006751329 |  0.4021690 |  1.2870713 | -0.8071357 |   0.7789623 |  -0.05882998 |   0.4819433 | -1.4135369 |\n",
       "| A1BG.AS1 | -0.481041 |  2.515786613 | -0.54768507 |  0.02112326 | -0.6816301 |  0.3342524 |  0.4923588 | -0.254313207 |  4.2156144 | -1.1161850 |  1.3138520 |   0.1146542 |   0.22486671 |  -0.4324380 |  0.3846436 |\n",
       "| A4GALT | -3.082301 | -0.525195123 | -5.18381139 | -0.45200851 | -1.8862021 |  1.3828132 |  0.5623725 | -1.058947067 |  0.5705312 |  3.0800995 | -2.0601376 | -16.7758373 | -14.20954227 | -15.9775900 |  2.0578602 |\n",
       "| AAAS | -0.680713 |  1.236173917 | -0.83949853 | -0.23530508 | -1.0846615 | -0.0398386 | -0.3887579 |  0.537325558 | -0.1516353 | -0.7549201 | -1.0415386 |   0.4891625 |   0.23489301 |  -1.1387059 |  0.5464906 |\n",
       "| AACS | -2.088713 | -0.001061085 | -0.03493483 |  0.01305581 | -0.8157710 | -0.5755069 | -0.9656286 | -0.544762252 | -0.2289972 | -0.6498452 | -0.1858684 |  -0.5975686 |  -4.70988202 |   1.0840281 |  0.7828716 |\n",
       "| AACSP1 |  1.623560 |  1.335367394 |  1.73852969 |  8.45565620 |  0.9885225 |  1.6374615 | -2.0429975 | -2.959009317 | -1.3759513 |  1.1724143 | -0.6631845 |   0.2793819 |  -0.80847518 |   0.7975516 | -3.2872325 |\n",
       "\n"
      ],
      "text/plain": [
       "         Axis1     Axis2        Axis3       Axis4       Axis5      Axis6     \n",
       "A1BG     -1.774179  0.378371240  1.06290322 -0.24787430 -0.9236122  0.4342407\n",
       "A1BG.AS1 -0.481041  2.515786613 -0.54768507  0.02112326 -0.6816301  0.3342524\n",
       "A4GALT   -3.082301 -0.525195123 -5.18381139 -0.45200851 -1.8862021  1.3828132\n",
       "AAAS     -0.680713  1.236173917 -0.83949853 -0.23530508 -1.0846615 -0.0398386\n",
       "AACS     -2.088713 -0.001061085 -0.03493483  0.01305581 -0.8157710 -0.5755069\n",
       "AACSP1    1.623560  1.335367394  1.73852969  8.45565620  0.9885225  1.6374615\n",
       "         Axis7      Axis8        Axis9      Axis10     Axis11     Axis12     \n",
       "A1BG     -1.4526648 -0.006751329  0.4021690  1.2870713 -0.8071357   0.7789623\n",
       "A1BG.AS1  0.4923588 -0.254313207  4.2156144 -1.1161850  1.3138520   0.1146542\n",
       "A4GALT    0.5623725 -1.058947067  0.5705312  3.0800995 -2.0601376 -16.7758373\n",
       "AAAS     -0.3887579  0.537325558 -0.1516353 -0.7549201 -1.0415386   0.4891625\n",
       "AACS     -0.9656286 -0.544762252 -0.2289972 -0.6498452 -0.1858684  -0.5975686\n",
       "AACSP1   -2.0429975 -2.959009317 -1.3759513  1.1724143 -0.6631845   0.2793819\n",
       "         Axis13       Axis14      Axis15    \n",
       "A1BG      -0.05882998   0.4819433 -1.4135369\n",
       "A1BG.AS1   0.22486671  -0.4324380  0.3846436\n",
       "A4GALT   -14.20954227 -15.9775900  2.0578602\n",
       "AAAS       0.23489301  -1.1387059  0.5464906\n",
       "AACS      -4.70988202   1.0840281  0.7828716\n",
       "AACSP1    -0.80847518   0.7975516 -3.2872325"
      ]
     },
     "metadata": {},
     "output_type": "display_data"
    }
   ],
   "source": [
    "head(mcia$mcoa$axis)"
   ]
  },
  {
   "cell_type": "code",
   "execution_count": 21,
   "id": "adec5564-4d85-43cd-8380-2264733c86fc",
   "metadata": {
    "collapsed": true,
    "jupyter": {
     "outputs_hidden": true
    },
    "tags": []
   },
   "outputs": [
    {
     "data": {
      "text/html": [
       "<table class=\"dataframe\">\n",
       "<caption>A data.frame: 14 × 15</caption>\n",
       "<thead>\n",
       "\t<tr><th></th><th scope=col>Axis1</th><th scope=col>Axis2</th><th scope=col>Axis3</th><th scope=col>Axis4</th><th scope=col>Axis5</th><th scope=col>Axis6</th><th scope=col>Axis7</th><th scope=col>Axis8</th><th scope=col>Axis9</th><th scope=col>Axis10</th><th scope=col>Axis11</th><th scope=col>Axis12</th><th scope=col>Axis13</th><th scope=col>Axis14</th><th scope=col>Axis15</th></tr>\n",
       "\t<tr><th></th><th scope=col>&lt;dbl&gt;</th><th scope=col>&lt;dbl&gt;</th><th scope=col>&lt;dbl&gt;</th><th scope=col>&lt;dbl&gt;</th><th scope=col>&lt;dbl&gt;</th><th scope=col>&lt;dbl&gt;</th><th scope=col>&lt;dbl&gt;</th><th scope=col>&lt;dbl&gt;</th><th scope=col>&lt;dbl&gt;</th><th scope=col>&lt;dbl&gt;</th><th scope=col>&lt;dbl&gt;</th><th scope=col>&lt;dbl&gt;</th><th scope=col>&lt;dbl&gt;</th><th scope=col>&lt;dbl&gt;</th><th scope=col>&lt;dbl&gt;</th></tr>\n",
       "</thead>\n",
       "<tbody>\n",
       "\t<tr><th scope=row>ZZZ3</th><td> 0.21944375</td><td>0.4527251</td><td>-0.1376365</td><td>-0.303694157</td><td>-0.49422044</td><td> 0.4811630</td><td> 0.002511343</td><td>-0.60945688</td><td>-0.71279566</td><td> 0.601417579</td><td>-0.025655423</td><td> 0.370717867</td><td> 0.86109862</td><td> 1.1895987474</td><td>-1.126638066</td></tr>\n",
       "\t<tr><th scope=row>chr1.9952.10704</th><td>-0.29420608</td><td>1.1092216</td><td> 0.5170782</td><td> 0.081125643</td><td>-0.32947093</td><td> 0.2067121</td><td>-0.028164649</td><td>-0.19682712</td><td>-0.03031302</td><td>-0.035827026</td><td>-0.005845364</td><td>-0.045429775</td><td> 0.05722119</td><td> 0.0943093914</td><td> 1.571518079</td></tr>\n",
       "\t<tr><th scope=row>chr1.10895.11536</th><td>-0.35988674</td><td>0.3685674</td><td> 0.2993570</td><td> 0.500259103</td><td> 0.23987978</td><td>-0.1341843</td><td>-0.100390639</td><td>-0.10349573</td><td>-0.21129865</td><td>-0.130406669</td><td> 0.122992065</td><td>-0.053082392</td><td> 0.19481629</td><td>-0.0737288161</td><td> 2.667006308</td></tr>\n",
       "\t<tr><th scope=row>chr1.11544.12334</th><td>-0.21570396</td><td>0.9597376</td><td> 0.4574582</td><td> 0.114384063</td><td>-0.41252583</td><td>-0.6862546</td><td> 0.260951596</td><td>-0.30164444</td><td> 0.33716888</td><td>-0.086034825</td><td> 0.032839030</td><td> 0.083139114</td><td> 0.22690566</td><td>-0.0005907678</td><td> 3.836950764</td></tr>\n",
       "\t<tr><th scope=row>chr1.12346.14086</th><td>-0.02847683</td><td>1.4419061</td><td> 0.5620947</td><td>-0.127718868</td><td>-0.46795067</td><td> 0.4020360</td><td>-0.233815722</td><td>-0.21194705</td><td> 0.02848001</td><td>-0.101289714</td><td> 0.141987792</td><td> 0.026176264</td><td>-0.03712151</td><td> 0.1384825113</td><td> 1.215698594</td></tr>\n",
       "\t<tr><th scope=row>chr1.14102.14739</th><td> 0.22006804</td><td>0.8514064</td><td> 0.2990814</td><td>-0.065784461</td><td>-0.02576071</td><td> 0.3315170</td><td> 0.120853126</td><td> 0.05810471</td><td> 0.55620143</td><td> 0.145884333</td><td> 0.270105008</td><td> 0.154634874</td><td> 0.10256823</td><td>-0.0238015037</td><td> 2.190233291</td></tr>\n",
       "\t<tr><th scope=row>chr1.14742.16538</th><td>-0.12491977</td><td>0.7840488</td><td> 0.4455867</td><td>-0.143372803</td><td> 0.08815231</td><td> 0.4156220</td><td> 0.812263797</td><td>-0.23505836</td><td> 0.29170288</td><td>-0.107144600</td><td> 0.052725369</td><td> 0.120506734</td><td> 0.13285414</td><td> 0.0521004880</td><td> 3.772923417</td></tr>\n",
       "\t<tr><th scope=row>chr1.16611.17391</th><td>-0.38348484</td><td>2.0180522</td><td> 0.6267757</td><td>-0.006850242</td><td>-0.82117208</td><td> 0.5259836</td><td>-0.235242824</td><td>-0.35806589</td><td>-0.14869520</td><td>-0.032533007</td><td>-0.256773410</td><td>-0.018290256</td><td>-0.30698153</td><td> 0.8573343214</td><td>-0.216609074</td></tr>\n",
       "\t<tr><th scope=row>chr1.17412.19391</th><td>-0.30174863</td><td>1.1943831</td><td> 0.2399740</td><td> 0.026069035</td><td>-0.44879202</td><td> 0.2041110</td><td> 0.074015143</td><td> 0.13399674</td><td> 1.10762079</td><td>-0.064873976</td><td> 0.432290192</td><td> 0.045014898</td><td> 0.31178899</td><td>-0.0982906796</td><td> 0.847650297</td></tr>\n",
       "\t<tr><th scope=row>chr1.19430.20514</th><td>-0.08820415</td><td>2.4960100</td><td> 0.6836746</td><td> 0.003762491</td><td>-0.79087575</td><td> 0.5065417</td><td>-0.230734026</td><td>-0.35921780</td><td>-0.26365146</td><td> 0.072054214</td><td>-0.031385656</td><td>-0.121294096</td><td>-0.19993443</td><td>-0.1072832197</td><td> 0.006968833</td></tr>\n",
       "\t<tr><th scope=row>chr1.20549.21061</th><td>-0.36430700</td><td>2.9254662</td><td> 0.9040165</td><td> 0.012672611</td><td>-0.94154570</td><td> 0.5174016</td><td>-0.713137001</td><td>-0.45410485</td><td>-0.25347798</td><td>-0.079631618</td><td> 0.147829467</td><td> 0.105309794</td><td>-0.12129521</td><td> 0.0587010115</td><td>-1.122398213</td></tr>\n",
       "\t<tr><th scope=row>chr1.21106.23415</th><td> 0.04498948</td><td>1.4837077</td><td> 0.1804433</td><td>-0.055527034</td><td>-0.61413635</td><td> 0.2324725</td><td>-0.392729291</td><td>-0.14348631</td><td>-0.16699414</td><td> 0.188077140</td><td>-0.095134012</td><td>-0.050619491</td><td>-0.28570533</td><td> 0.8337354900</td><td> 0.161930034</td></tr>\n",
       "\t<tr><th scope=row>chr1.24209.25326</th><td> 0.04820793</td><td>2.3699801</td><td> 0.7539083</td><td>-0.094928303</td><td>-0.63772860</td><td> 0.4708391</td><td>-0.493761405</td><td>-0.40799534</td><td>-0.21165152</td><td> 0.009184764</td><td>-0.019560421</td><td>-0.008270593</td><td> 0.09906524</td><td> 0.0989734682</td><td> 0.049031602</td></tr>\n",
       "\t<tr><th scope=row>chr1.25418.26993</th><td> 0.16304928</td><td>1.5560472</td><td> 0.4866165</td><td>-0.036903724</td><td>-0.57887896</td><td> 0.4126674</td><td>-0.333211995</td><td>-0.33514484</td><td> 0.04770475</td><td> 0.013983568</td><td> 0.064892901</td><td>-0.076873776</td><td>-0.05176355</td><td> 0.4079295296</td><td> 0.483670129</td></tr>\n",
       "</tbody>\n",
       "</table>\n"
      ],
      "text/latex": [
       "A data.frame: 14 × 15\n",
       "\\begin{tabular}{r|lllllllllllllll}\n",
       "  & Axis1 & Axis2 & Axis3 & Axis4 & Axis5 & Axis6 & Axis7 & Axis8 & Axis9 & Axis10 & Axis11 & Axis12 & Axis13 & Axis14 & Axis15\\\\\n",
       "  & <dbl> & <dbl> & <dbl> & <dbl> & <dbl> & <dbl> & <dbl> & <dbl> & <dbl> & <dbl> & <dbl> & <dbl> & <dbl> & <dbl> & <dbl>\\\\\n",
       "\\hline\n",
       "\tZZZ3 &  0.21944375 & 0.4527251 & -0.1376365 & -0.303694157 & -0.49422044 &  0.4811630 &  0.002511343 & -0.60945688 & -0.71279566 &  0.601417579 & -0.025655423 &  0.370717867 &  0.86109862 &  1.1895987474 & -1.126638066\\\\\n",
       "\tchr1.9952.10704 & -0.29420608 & 1.1092216 &  0.5170782 &  0.081125643 & -0.32947093 &  0.2067121 & -0.028164649 & -0.19682712 & -0.03031302 & -0.035827026 & -0.005845364 & -0.045429775 &  0.05722119 &  0.0943093914 &  1.571518079\\\\\n",
       "\tchr1.10895.11536 & -0.35988674 & 0.3685674 &  0.2993570 &  0.500259103 &  0.23987978 & -0.1341843 & -0.100390639 & -0.10349573 & -0.21129865 & -0.130406669 &  0.122992065 & -0.053082392 &  0.19481629 & -0.0737288161 &  2.667006308\\\\\n",
       "\tchr1.11544.12334 & -0.21570396 & 0.9597376 &  0.4574582 &  0.114384063 & -0.41252583 & -0.6862546 &  0.260951596 & -0.30164444 &  0.33716888 & -0.086034825 &  0.032839030 &  0.083139114 &  0.22690566 & -0.0005907678 &  3.836950764\\\\\n",
       "\tchr1.12346.14086 & -0.02847683 & 1.4419061 &  0.5620947 & -0.127718868 & -0.46795067 &  0.4020360 & -0.233815722 & -0.21194705 &  0.02848001 & -0.101289714 &  0.141987792 &  0.026176264 & -0.03712151 &  0.1384825113 &  1.215698594\\\\\n",
       "\tchr1.14102.14739 &  0.22006804 & 0.8514064 &  0.2990814 & -0.065784461 & -0.02576071 &  0.3315170 &  0.120853126 &  0.05810471 &  0.55620143 &  0.145884333 &  0.270105008 &  0.154634874 &  0.10256823 & -0.0238015037 &  2.190233291\\\\\n",
       "\tchr1.14742.16538 & -0.12491977 & 0.7840488 &  0.4455867 & -0.143372803 &  0.08815231 &  0.4156220 &  0.812263797 & -0.23505836 &  0.29170288 & -0.107144600 &  0.052725369 &  0.120506734 &  0.13285414 &  0.0521004880 &  3.772923417\\\\\n",
       "\tchr1.16611.17391 & -0.38348484 & 2.0180522 &  0.6267757 & -0.006850242 & -0.82117208 &  0.5259836 & -0.235242824 & -0.35806589 & -0.14869520 & -0.032533007 & -0.256773410 & -0.018290256 & -0.30698153 &  0.8573343214 & -0.216609074\\\\\n",
       "\tchr1.17412.19391 & -0.30174863 & 1.1943831 &  0.2399740 &  0.026069035 & -0.44879202 &  0.2041110 &  0.074015143 &  0.13399674 &  1.10762079 & -0.064873976 &  0.432290192 &  0.045014898 &  0.31178899 & -0.0982906796 &  0.847650297\\\\\n",
       "\tchr1.19430.20514 & -0.08820415 & 2.4960100 &  0.6836746 &  0.003762491 & -0.79087575 &  0.5065417 & -0.230734026 & -0.35921780 & -0.26365146 &  0.072054214 & -0.031385656 & -0.121294096 & -0.19993443 & -0.1072832197 &  0.006968833\\\\\n",
       "\tchr1.20549.21061 & -0.36430700 & 2.9254662 &  0.9040165 &  0.012672611 & -0.94154570 &  0.5174016 & -0.713137001 & -0.45410485 & -0.25347798 & -0.079631618 &  0.147829467 &  0.105309794 & -0.12129521 &  0.0587010115 & -1.122398213\\\\\n",
       "\tchr1.21106.23415 &  0.04498948 & 1.4837077 &  0.1804433 & -0.055527034 & -0.61413635 &  0.2324725 & -0.392729291 & -0.14348631 & -0.16699414 &  0.188077140 & -0.095134012 & -0.050619491 & -0.28570533 &  0.8337354900 &  0.161930034\\\\\n",
       "\tchr1.24209.25326 &  0.04820793 & 2.3699801 &  0.7539083 & -0.094928303 & -0.63772860 &  0.4708391 & -0.493761405 & -0.40799534 & -0.21165152 &  0.009184764 & -0.019560421 & -0.008270593 &  0.09906524 &  0.0989734682 &  0.049031602\\\\\n",
       "\tchr1.25418.26993 &  0.16304928 & 1.5560472 &  0.4866165 & -0.036903724 & -0.57887896 &  0.4126674 & -0.333211995 & -0.33514484 &  0.04770475 &  0.013983568 &  0.064892901 & -0.076873776 & -0.05176355 &  0.4079295296 &  0.483670129\\\\\n",
       "\\end{tabular}\n"
      ],
      "text/markdown": [
       "\n",
       "A data.frame: 14 × 15\n",
       "\n",
       "| <!--/--> | Axis1 &lt;dbl&gt; | Axis2 &lt;dbl&gt; | Axis3 &lt;dbl&gt; | Axis4 &lt;dbl&gt; | Axis5 &lt;dbl&gt; | Axis6 &lt;dbl&gt; | Axis7 &lt;dbl&gt; | Axis8 &lt;dbl&gt; | Axis9 &lt;dbl&gt; | Axis10 &lt;dbl&gt; | Axis11 &lt;dbl&gt; | Axis12 &lt;dbl&gt; | Axis13 &lt;dbl&gt; | Axis14 &lt;dbl&gt; | Axis15 &lt;dbl&gt; |\n",
       "|---|---|---|---|---|---|---|---|---|---|---|---|---|---|---|---|\n",
       "| ZZZ3 |  0.21944375 | 0.4527251 | -0.1376365 | -0.303694157 | -0.49422044 |  0.4811630 |  0.002511343 | -0.60945688 | -0.71279566 |  0.601417579 | -0.025655423 |  0.370717867 |  0.86109862 |  1.1895987474 | -1.126638066 |\n",
       "| chr1.9952.10704 | -0.29420608 | 1.1092216 |  0.5170782 |  0.081125643 | -0.32947093 |  0.2067121 | -0.028164649 | -0.19682712 | -0.03031302 | -0.035827026 | -0.005845364 | -0.045429775 |  0.05722119 |  0.0943093914 |  1.571518079 |\n",
       "| chr1.10895.11536 | -0.35988674 | 0.3685674 |  0.2993570 |  0.500259103 |  0.23987978 | -0.1341843 | -0.100390639 | -0.10349573 | -0.21129865 | -0.130406669 |  0.122992065 | -0.053082392 |  0.19481629 | -0.0737288161 |  2.667006308 |\n",
       "| chr1.11544.12334 | -0.21570396 | 0.9597376 |  0.4574582 |  0.114384063 | -0.41252583 | -0.6862546 |  0.260951596 | -0.30164444 |  0.33716888 | -0.086034825 |  0.032839030 |  0.083139114 |  0.22690566 | -0.0005907678 |  3.836950764 |\n",
       "| chr1.12346.14086 | -0.02847683 | 1.4419061 |  0.5620947 | -0.127718868 | -0.46795067 |  0.4020360 | -0.233815722 | -0.21194705 |  0.02848001 | -0.101289714 |  0.141987792 |  0.026176264 | -0.03712151 |  0.1384825113 |  1.215698594 |\n",
       "| chr1.14102.14739 |  0.22006804 | 0.8514064 |  0.2990814 | -0.065784461 | -0.02576071 |  0.3315170 |  0.120853126 |  0.05810471 |  0.55620143 |  0.145884333 |  0.270105008 |  0.154634874 |  0.10256823 | -0.0238015037 |  2.190233291 |\n",
       "| chr1.14742.16538 | -0.12491977 | 0.7840488 |  0.4455867 | -0.143372803 |  0.08815231 |  0.4156220 |  0.812263797 | -0.23505836 |  0.29170288 | -0.107144600 |  0.052725369 |  0.120506734 |  0.13285414 |  0.0521004880 |  3.772923417 |\n",
       "| chr1.16611.17391 | -0.38348484 | 2.0180522 |  0.6267757 | -0.006850242 | -0.82117208 |  0.5259836 | -0.235242824 | -0.35806589 | -0.14869520 | -0.032533007 | -0.256773410 | -0.018290256 | -0.30698153 |  0.8573343214 | -0.216609074 |\n",
       "| chr1.17412.19391 | -0.30174863 | 1.1943831 |  0.2399740 |  0.026069035 | -0.44879202 |  0.2041110 |  0.074015143 |  0.13399674 |  1.10762079 | -0.064873976 |  0.432290192 |  0.045014898 |  0.31178899 | -0.0982906796 |  0.847650297 |\n",
       "| chr1.19430.20514 | -0.08820415 | 2.4960100 |  0.6836746 |  0.003762491 | -0.79087575 |  0.5065417 | -0.230734026 | -0.35921780 | -0.26365146 |  0.072054214 | -0.031385656 | -0.121294096 | -0.19993443 | -0.1072832197 |  0.006968833 |\n",
       "| chr1.20549.21061 | -0.36430700 | 2.9254662 |  0.9040165 |  0.012672611 | -0.94154570 |  0.5174016 | -0.713137001 | -0.45410485 | -0.25347798 | -0.079631618 |  0.147829467 |  0.105309794 | -0.12129521 |  0.0587010115 | -1.122398213 |\n",
       "| chr1.21106.23415 |  0.04498948 | 1.4837077 |  0.1804433 | -0.055527034 | -0.61413635 |  0.2324725 | -0.392729291 | -0.14348631 | -0.16699414 |  0.188077140 | -0.095134012 | -0.050619491 | -0.28570533 |  0.8337354900 |  0.161930034 |\n",
       "| chr1.24209.25326 |  0.04820793 | 2.3699801 |  0.7539083 | -0.094928303 | -0.63772860 |  0.4708391 | -0.493761405 | -0.40799534 | -0.21165152 |  0.009184764 | -0.019560421 | -0.008270593 |  0.09906524 |  0.0989734682 |  0.049031602 |\n",
       "| chr1.25418.26993 |  0.16304928 | 1.5560472 |  0.4866165 | -0.036903724 | -0.57887896 |  0.4126674 | -0.333211995 | -0.33514484 |  0.04770475 |  0.013983568 |  0.064892901 | -0.076873776 | -0.05176355 |  0.4079295296 |  0.483670129 |\n",
       "\n"
      ],
      "text/plain": [
       "                 Axis1       Axis2     Axis3      Axis4        Axis5      \n",
       "ZZZ3              0.21944375 0.4527251 -0.1376365 -0.303694157 -0.49422044\n",
       "chr1.9952.10704  -0.29420608 1.1092216  0.5170782  0.081125643 -0.32947093\n",
       "chr1.10895.11536 -0.35988674 0.3685674  0.2993570  0.500259103  0.23987978\n",
       "chr1.11544.12334 -0.21570396 0.9597376  0.4574582  0.114384063 -0.41252583\n",
       "chr1.12346.14086 -0.02847683 1.4419061  0.5620947 -0.127718868 -0.46795067\n",
       "chr1.14102.14739  0.22006804 0.8514064  0.2990814 -0.065784461 -0.02576071\n",
       "chr1.14742.16538 -0.12491977 0.7840488  0.4455867 -0.143372803  0.08815231\n",
       "chr1.16611.17391 -0.38348484 2.0180522  0.6267757 -0.006850242 -0.82117208\n",
       "chr1.17412.19391 -0.30174863 1.1943831  0.2399740  0.026069035 -0.44879202\n",
       "chr1.19430.20514 -0.08820415 2.4960100  0.6836746  0.003762491 -0.79087575\n",
       "chr1.20549.21061 -0.36430700 2.9254662  0.9040165  0.012672611 -0.94154570\n",
       "chr1.21106.23415  0.04498948 1.4837077  0.1804433 -0.055527034 -0.61413635\n",
       "chr1.24209.25326  0.04820793 2.3699801  0.7539083 -0.094928303 -0.63772860\n",
       "chr1.25418.26993  0.16304928 1.5560472  0.4866165 -0.036903724 -0.57887896\n",
       "                 Axis6      Axis7        Axis8       Axis9       Axis10      \n",
       "ZZZ3              0.4811630  0.002511343 -0.60945688 -0.71279566  0.601417579\n",
       "chr1.9952.10704   0.2067121 -0.028164649 -0.19682712 -0.03031302 -0.035827026\n",
       "chr1.10895.11536 -0.1341843 -0.100390639 -0.10349573 -0.21129865 -0.130406669\n",
       "chr1.11544.12334 -0.6862546  0.260951596 -0.30164444  0.33716888 -0.086034825\n",
       "chr1.12346.14086  0.4020360 -0.233815722 -0.21194705  0.02848001 -0.101289714\n",
       "chr1.14102.14739  0.3315170  0.120853126  0.05810471  0.55620143  0.145884333\n",
       "chr1.14742.16538  0.4156220  0.812263797 -0.23505836  0.29170288 -0.107144600\n",
       "chr1.16611.17391  0.5259836 -0.235242824 -0.35806589 -0.14869520 -0.032533007\n",
       "chr1.17412.19391  0.2041110  0.074015143  0.13399674  1.10762079 -0.064873976\n",
       "chr1.19430.20514  0.5065417 -0.230734026 -0.35921780 -0.26365146  0.072054214\n",
       "chr1.20549.21061  0.5174016 -0.713137001 -0.45410485 -0.25347798 -0.079631618\n",
       "chr1.21106.23415  0.2324725 -0.392729291 -0.14348631 -0.16699414  0.188077140\n",
       "chr1.24209.25326  0.4708391 -0.493761405 -0.40799534 -0.21165152  0.009184764\n",
       "chr1.25418.26993  0.4126674 -0.333211995 -0.33514484  0.04770475  0.013983568\n",
       "                 Axis11       Axis12       Axis13      Axis14       \n",
       "ZZZ3             -0.025655423  0.370717867  0.86109862  1.1895987474\n",
       "chr1.9952.10704  -0.005845364 -0.045429775  0.05722119  0.0943093914\n",
       "chr1.10895.11536  0.122992065 -0.053082392  0.19481629 -0.0737288161\n",
       "chr1.11544.12334  0.032839030  0.083139114  0.22690566 -0.0005907678\n",
       "chr1.12346.14086  0.141987792  0.026176264 -0.03712151  0.1384825113\n",
       "chr1.14102.14739  0.270105008  0.154634874  0.10256823 -0.0238015037\n",
       "chr1.14742.16538  0.052725369  0.120506734  0.13285414  0.0521004880\n",
       "chr1.16611.17391 -0.256773410 -0.018290256 -0.30698153  0.8573343214\n",
       "chr1.17412.19391  0.432290192  0.045014898  0.31178899 -0.0982906796\n",
       "chr1.19430.20514 -0.031385656 -0.121294096 -0.19993443 -0.1072832197\n",
       "chr1.20549.21061  0.147829467  0.105309794 -0.12129521  0.0587010115\n",
       "chr1.21106.23415 -0.095134012 -0.050619491 -0.28570533  0.8337354900\n",
       "chr1.24209.25326 -0.019560421 -0.008270593  0.09906524  0.0989734682\n",
       "chr1.25418.26993  0.064892901 -0.076873776 -0.05176355  0.4079295296\n",
       "                 Axis15      \n",
       "ZZZ3             -1.126638066\n",
       "chr1.9952.10704   1.571518079\n",
       "chr1.10895.11536  2.667006308\n",
       "chr1.11544.12334  3.836950764\n",
       "chr1.12346.14086  1.215698594\n",
       "chr1.14102.14739  2.190233291\n",
       "chr1.14742.16538  3.772923417\n",
       "chr1.16611.17391 -0.216609074\n",
       "chr1.17412.19391  0.847650297\n",
       "chr1.19430.20514  0.006968833\n",
       "chr1.20549.21061 -1.122398213\n",
       "chr1.21106.23415  0.161930034\n",
       "chr1.24209.25326  0.049031602\n",
       "chr1.25418.26993  0.483670129"
      ]
     },
     "metadata": {},
     "output_type": "display_data"
    }
   ],
   "source": [
    "mcia$mcoa$axis[16507:16520,]"
   ]
  },
  {
   "cell_type": "code",
   "execution_count": 22,
   "id": "c63b3bec-844f-4b67-bdf0-a66f3a13a3e2",
   "metadata": {},
   "outputs": [],
   "source": [
    "metagenes_mcia <- list()\n",
    "metagenes_mcia[[\"RNA\"]] <- as.matrix(mcia$mcoa$axis[1:16507, ])\n",
    "metagenes_mcia[[\"ATAC\"]] <- as.matrix(mcia$mcoa$axis[16507:678401,])\n",
    "rownames(metagenes_mcia[[\"RNA\"]])<-rownames(mcia$mcoa$axis[1:16507, ])\n",
    "rownames(metagenes_mcia[[\"ATAC\"]])<-rownames(mcia$mcoa$axis[16507:678401, ])"
   ]
  },
  {
   "cell_type": "code",
   "execution_count": null,
   "id": "6200b0d1-01dd-453a-8e19-917e12a79635",
   "metadata": {},
   "outputs": [],
   "source": [
    "# tICA"
   ]
  },
  {
   "cell_type": "code",
   "execution_count": 2,
   "id": "f9f58d42-b5a7-486f-a631-e1b3ced1bfc3",
   "metadata": {
    "tags": []
   },
   "outputs": [
    {
     "name": "stderr",
     "output_type": "stream",
     "text": [
      "\n",
      "Attaching package: ‘MASS’\n",
      "\n",
      "\n",
      "The following object is masked from ‘package:patchwork’:\n",
      "\n",
      "    area\n",
      "\n",
      "\n"
     ]
    }
   ],
   "source": [
    "library(MASS)"
   ]
  },
  {
   "cell_type": "code",
   "execution_count": 4,
   "id": "a96bff60-e701-4601-910a-ae834e256e35",
   "metadata": {},
   "outputs": [],
   "source": [
    "snare <- list()\n",
    "snare[[1]] <- as.matrix(seurat[[\"RNA\"]]@counts)\n",
    "snare[[2]] <- as.matrix(seurat[[\"ATAC\"]]@counts)\n",
    "metagenes_tica <- list()\n",
    "for(j in 1:length(snare)){\n",
    "  metagenes_tica[[j]] <- snare[[j]] %*% ginv(t(tica$signals))\n",
    "  rownames(metagenes_tica[[j]]) <- rownames(snare[[j]])\n",
    "}"
   ]
  },
  {
   "cell_type": "code",
   "execution_count": null,
   "id": "7b565476-9026-4efc-90d0-1adcf16e9aa9",
   "metadata": {},
   "outputs": [],
   "source": [
    "# icluster"
   ]
  },
  {
   "cell_type": "code",
   "execution_count": 25,
   "id": "c4eb70d0-f82c-4e2e-931d-3709f81be007",
   "metadata": {},
   "outputs": [],
   "source": [
    "metagenes_icluster <- list()\n",
    "metagenes_icluster[[\"RNA\"]] <- as.matrix(icluster$W[1:5000, ])\n",
    "rownames(metagenes_icluster[[\"RNA\"]]) <- rownames(icluster$W[1:5000, ])\n",
    "metagenes_icluster[[\"ATAC\"]] <- as.matrix(icluster$W[5001:10000, ])\n",
    "rownames(metagenes_icluster[[\"ATAC\"]]) <- rownames(icluster$W[5001:10000, ])"
   ]
  },
  {
   "cell_type": "code",
   "execution_count": null,
   "id": "f4f9b9b3-bc34-4e5f-9914-a8b29a7e525e",
   "metadata": {},
   "outputs": [],
   "source": []
  },
  {
   "cell_type": "code",
   "execution_count": null,
   "id": "145e780e-5eda-4f5c-a422-72b39fcd3c4b",
   "metadata": {},
   "outputs": [],
   "source": [
    "# 运行富集"
   ]
  },
  {
   "cell_type": "code",
   "execution_count": 26,
   "id": "7dbaf2a3-98d9-4a65-908e-b210d4f3cd85",
   "metadata": {
    "tags": []
   },
   "outputs": [],
   "source": [
    "# 富集函数\n",
    "annotations_comparison <- function(metagenes, path.database, pval.thr=0.05){\n",
    "    \n",
    "    # Load annotation database\n",
    "    pathways <- gmtPathways(path.database)\n",
    "    \n",
    "    # Containers to report results\n",
    "    report_number <- numeric(0)\n",
    "    report_nnzero <- numeric(0)\n",
    "    report_select <- numeric(0)\n",
    "    \n",
    "    # Number of factors\n",
    "    num.factors <- 10\n",
    "\n",
    "    # Variables\n",
    "    min_pval <- numeric(0)\n",
    "    path <- numeric(0)\n",
    "    n <- 0\n",
    "        \n",
    "    # Calculate biological annotation enrichment.\n",
    "    # For each factor,\n",
    "    for(j in 1:num.factors){\n",
    "        # Assign gene names\n",
    "        rnk <- setNames(as.matrix(metagenes[,j]), rownames(metagenes))\n",
    "        # Compute fgsea\n",
    "        fgseaRes <- fgsea(pathways, rnk, minSize=15, maxSize=100)\n",
    "        # If at least one pathway is significant\n",
    "        if(sum(fgseaRes$padj < pval.thr)!=0){\n",
    "            # Count this factor\n",
    "            n <- n+1\n",
    "            # Keep min adjusted p-value\n",
    "            min_pval <- rbind(min_pval, min(fgseaRes$padj))\n",
    "            # Keep names of significant pathways\n",
    "            path <- c(path, fgseaRes[fgseaRes$padj<pval.thr, \"pathway\"])\n",
    "        } else {\n",
    "            min_pval <- rbind(min_pval, NA)\n",
    "        }\n",
    "    }\n",
    "\n",
    "    # Report number of unique significant pathways  \n",
    "    if(length(path)==0){\n",
    "        report_number <- rbind(report_number, 0)\n",
    "    }else{\n",
    "        report_number <- rbind(report_number, length(unique(path)))\n",
    "    }\n",
    "    # Report selectivity \n",
    "    if(length(unique(path))==0){\n",
    "        report_select <- rbind(report_select, NA)\n",
    "    }else{\n",
    "        al<-length(unique(path))/length(path)\n",
    "        fl<-length(which(!is.na(min_pval)))/length(path)\n",
    "        report_select <- rbind(report_select, (al+fl)/2)\n",
    "    }\n",
    "    # Report number of factors associated with at least one significant pathway\n",
    "    report_nnzero<-rbind(report_nnzero, n)    \n",
    "    \n",
    "    out <- data.frame(selectivity=report_select, nonZeroFacs=report_nnzero, total_pathways=report_number)\n",
    "    return(out)\n",
    "}"
   ]
  },
  {
   "cell_type": "code",
   "execution_count": null,
   "id": "474d68e1-e59d-414a-a64c-5b22f7e9535f",
   "metadata": {},
   "outputs": [],
   "source": [
    "# REACTOME"
   ]
  },
  {
   "cell_type": "code",
   "execution_count": 7,
   "id": "09286600-9d8a-41cd-9c97-838e4da2ff11",
   "metadata": {},
   "outputs": [],
   "source": [
    "path.database <- \"/sibcb1/chenluonanlab6/zhangchuanchao2/data/c2.cp.reactome.v7.5.1.symbols.gmt\""
   ]
  },
  {
   "cell_type": "code",
   "execution_count": 28,
   "id": "650aa2ad-3808-4691-ab4c-2a6a02f6d47d",
   "metadata": {
    "collapsed": true,
    "jupyter": {
     "outputs_hidden": true
    },
    "tags": []
   },
   "outputs": [
    {
     "name": "stderr",
     "output_type": "stream",
     "text": [
      "Warning message in fgsea(pathways, rnk, minSize = 15, maxSize = 100, nperm = 1000):\n",
      "“You are trying to run fgseaSimple. It is recommended to use fgseaMultilevel. To run fgseaMultilevel, you need to remove the nperm argument in the fgsea function call.”\n",
      "Warning message in preparePathwaysAndStats(pathways, stats, minSize, maxSize, gseaParam, :\n",
      "“There are ties in the preranked stats (29.86% of the list).\n",
      "The order of those tied genes will be arbitrary, which may produce unexpected results.”\n",
      "Warning message in fgsea(pathways, rnk, minSize = 15, maxSize = 100, nperm = 1000):\n",
      "“You are trying to run fgseaSimple. It is recommended to use fgseaMultilevel. To run fgseaMultilevel, you need to remove the nperm argument in the fgsea function call.”\n",
      "Warning message in preparePathwaysAndStats(pathways, stats, minSize, maxSize, gseaParam, :\n",
      "“There are ties in the preranked stats (46.6% of the list).\n",
      "The order of those tied genes will be arbitrary, which may produce unexpected results.”\n",
      "Warning message in fgsea(pathways, rnk, minSize = 15, maxSize = 100, nperm = 1000):\n",
      "“You are trying to run fgseaSimple. It is recommended to use fgseaMultilevel. To run fgseaMultilevel, you need to remove the nperm argument in the fgsea function call.”\n",
      "Warning message in preparePathwaysAndStats(pathways, stats, minSize, maxSize, gseaParam, :\n",
      "“There are ties in the preranked stats (36.36% of the list).\n",
      "The order of those tied genes will be arbitrary, which may produce unexpected results.”\n",
      "Warning message in fgsea(pathways, rnk, minSize = 15, maxSize = 100, nperm = 1000):\n",
      "“You are trying to run fgseaSimple. It is recommended to use fgseaMultilevel. To run fgseaMultilevel, you need to remove the nperm argument in the fgsea function call.”\n",
      "Warning message in preparePathwaysAndStats(pathways, stats, minSize, maxSize, gseaParam, :\n",
      "“There are ties in the preranked stats (1.54% of the list).\n",
      "The order of those tied genes will be arbitrary, which may produce unexpected results.”\n",
      "Warning message in fgsea(pathways, rnk, minSize = 15, maxSize = 100, nperm = 1000):\n",
      "“You are trying to run fgseaSimple. It is recommended to use fgseaMultilevel. To run fgseaMultilevel, you need to remove the nperm argument in the fgsea function call.”\n",
      "Warning message in preparePathwaysAndStats(pathways, stats, minSize, maxSize, gseaParam, :\n",
      "“There are ties in the preranked stats (38.06% of the list).\n",
      "The order of those tied genes will be arbitrary, which may produce unexpected results.”\n",
      "Warning message in fgsea(pathways, rnk, minSize = 15, maxSize = 100, nperm = 1000):\n",
      "“You are trying to run fgseaSimple. It is recommended to use fgseaMultilevel. To run fgseaMultilevel, you need to remove the nperm argument in the fgsea function call.”\n",
      "Warning message in preparePathwaysAndStats(pathways, stats, minSize, maxSize, gseaParam, :\n",
      "“There are ties in the preranked stats (38.7% of the list).\n",
      "The order of those tied genes will be arbitrary, which may produce unexpected results.”\n",
      "Warning message in fgsea(pathways, rnk, minSize = 15, maxSize = 100, nperm = 1000):\n",
      "“You are trying to run fgseaSimple. It is recommended to use fgseaMultilevel. To run fgseaMultilevel, you need to remove the nperm argument in the fgsea function call.”\n",
      "Warning message in preparePathwaysAndStats(pathways, stats, minSize, maxSize, gseaParam, :\n",
      "“There are ties in the preranked stats (37.7% of the list).\n",
      "The order of those tied genes will be arbitrary, which may produce unexpected results.”\n",
      "Warning message in fgsea(pathways, rnk, minSize = 15, maxSize = 100, nperm = 1000):\n",
      "“You are trying to run fgseaSimple. It is recommended to use fgseaMultilevel. To run fgseaMultilevel, you need to remove the nperm argument in the fgsea function call.”\n",
      "Warning message in preparePathwaysAndStats(pathways, stats, minSize, maxSize, gseaParam, :\n",
      "“There are ties in the preranked stats (33.66% of the list).\n",
      "The order of those tied genes will be arbitrary, which may produce unexpected results.”\n",
      "Warning message in fgsea(pathways, rnk, minSize = 15, maxSize = 100, nperm = 1000):\n",
      "“You are trying to run fgseaSimple. It is recommended to use fgseaMultilevel. To run fgseaMultilevel, you need to remove the nperm argument in the fgsea function call.”\n",
      "Warning message in preparePathwaysAndStats(pathways, stats, minSize, maxSize, gseaParam, :\n",
      "“There are ties in the preranked stats (43.18% of the list).\n",
      "The order of those tied genes will be arbitrary, which may produce unexpected results.”\n",
      "Warning message in fgsea(pathways, rnk, minSize = 15, maxSize = 100, nperm = 1000):\n",
      "“You are trying to run fgseaSimple. It is recommended to use fgseaMultilevel. To run fgseaMultilevel, you need to remove the nperm argument in the fgsea function call.”\n"
     ]
    }
   ],
   "source": [
    "# MOFA2\n",
    "metagenes <- scale(metagenes_icluster[[\"RNA\"]])\n",
    "res_mofa_reactome <- annotations_comparison(metagenes, path.database)"
   ]
  },
  {
   "cell_type": "code",
   "execution_count": 29,
   "id": "ef4681c7-27e5-40aa-8808-ce568b4f041e",
   "metadata": {},
   "outputs": [
    {
     "data": {
      "text/html": [
       "<table class=\"dataframe\">\n",
       "<caption>A data.frame: 1 × 3</caption>\n",
       "<thead>\n",
       "\t<tr><th></th><th scope=col>selectivity</th><th scope=col>nonZeroFacs</th><th scope=col>total_pathways</th></tr>\n",
       "\t<tr><th></th><th scope=col>&lt;dbl&gt;</th><th scope=col>&lt;dbl&gt;</th><th scope=col>&lt;dbl&gt;</th></tr>\n",
       "</thead>\n",
       "<tbody>\n",
       "\t<tr><th scope=row>n</th><td>1</td><td>2</td><td>2</td></tr>\n",
       "</tbody>\n",
       "</table>\n"
      ],
      "text/latex": [
       "A data.frame: 1 × 3\n",
       "\\begin{tabular}{r|lll}\n",
       "  & selectivity & nonZeroFacs & total\\_pathways\\\\\n",
       "  & <dbl> & <dbl> & <dbl>\\\\\n",
       "\\hline\n",
       "\tn & 1 & 2 & 2\\\\\n",
       "\\end{tabular}\n"
      ],
      "text/markdown": [
       "\n",
       "A data.frame: 1 × 3\n",
       "\n",
       "| <!--/--> | selectivity &lt;dbl&gt; | nonZeroFacs &lt;dbl&gt; | total_pathways &lt;dbl&gt; |\n",
       "|---|---|---|---|\n",
       "| n | 1 | 2 | 2 |\n",
       "\n"
      ],
      "text/plain": [
       "  selectivity nonZeroFacs total_pathways\n",
       "n 1           2           2             "
      ]
     },
     "metadata": {},
     "output_type": "display_data"
    }
   ],
   "source": [
    "res_mofa_reactome"
   ]
  },
  {
   "cell_type": "code",
   "execution_count": 36,
   "id": "d01b94c4-6d83-4a81-b1ea-e266b7a18ff0",
   "metadata": {
    "collapsed": true,
    "jupyter": {
     "outputs_hidden": true
    },
    "tags": []
   },
   "outputs": [
    {
     "name": "stderr",
     "output_type": "stream",
     "text": [
      "Warning message in preparePathwaysAndStats(pathways, stats, minSize, maxSize, gseaParam, :\n",
      "“There are ties in the preranked stats (16.62% of the list).\n",
      "The order of those tied genes will be arbitrary, which may produce unexpected results.”\n",
      "Warning message in preparePathwaysAndStats(pathways, stats, minSize, maxSize, gseaParam, :\n",
      "“There are ties in the preranked stats (15.8% of the list).\n",
      "The order of those tied genes will be arbitrary, which may produce unexpected results.”\n",
      "Warning message in preparePathwaysAndStats(pathways, stats, minSize, maxSize, gseaParam, :\n",
      "“There are ties in the preranked stats (16.26% of the list).\n",
      "The order of those tied genes will be arbitrary, which may produce unexpected results.”\n",
      "Warning message in preparePathwaysAndStats(pathways, stats, minSize, maxSize, gseaParam, :\n",
      "“There are ties in the preranked stats (57.47% of the list).\n",
      "The order of those tied genes will be arbitrary, which may produce unexpected results.”\n",
      "Warning message in preparePathwaysAndStats(pathways, stats, minSize, maxSize, gseaParam, :\n",
      "“There are ties in the preranked stats (55.97% of the list).\n",
      "The order of those tied genes will be arbitrary, which may produce unexpected results.”\n",
      "Warning message in preparePathwaysAndStats(pathways, stats, minSize, maxSize, gseaParam, :\n",
      "“There are ties in the preranked stats (55.17% of the list).\n",
      "The order of those tied genes will be arbitrary, which may produce unexpected results.”\n",
      "Warning message in preparePathwaysAndStats(pathways, stats, minSize, maxSize, gseaParam, :\n",
      "“There are ties in the preranked stats (75.74% of the list).\n",
      "The order of those tied genes will be arbitrary, which may produce unexpected results.”\n",
      "Warning message in preparePathwaysAndStats(pathways, stats, minSize, maxSize, gseaParam, :\n",
      "“There are ties in the preranked stats (17.69% of the list).\n",
      "The order of those tied genes will be arbitrary, which may produce unexpected results.”\n",
      "Warning message in preparePathwaysAndStats(pathways, stats, minSize, maxSize, gseaParam, :\n",
      "“There are ties in the preranked stats (15.93% of the list).\n",
      "The order of those tied genes will be arbitrary, which may produce unexpected results.”\n",
      "Warning message in preparePathwaysAndStats(pathways, stats, minSize, maxSize, gseaParam, :\n",
      "“There are ties in the preranked stats (15.96% of the list).\n",
      "The order of those tied genes will be arbitrary, which may produce unexpected results.”\n"
     ]
    }
   ],
   "source": [
    "# liger\n",
    "metagenes <- scale(log2(metagenes_liger+1))\n",
    "res_liger_reactome <- annotations_comparison(metagenes, path.database)"
   ]
  },
  {
   "cell_type": "code",
   "execution_count": 37,
   "id": "c89cc9ee-8fb2-40ff-9d4b-cf4a1b3f3785",
   "metadata": {
    "collapsed": true,
    "jupyter": {
     "outputs_hidden": true
    },
    "tags": []
   },
   "outputs": [
    {
     "name": "stderr",
     "output_type": "stream",
     "text": [
      "Warning message in preparePathwaysAndStats(pathways, stats, minSize, maxSize, gseaParam, :\n",
      "“There are ties in the preranked stats (0.18% of the list).\n",
      "The order of those tied genes will be arbitrary, which may produce unexpected results.”\n",
      "Warning message in preparePathwaysAndStats(pathways, stats, minSize, maxSize, gseaParam, :\n",
      "“There are ties in the preranked stats (0.18% of the list).\n",
      "The order of those tied genes will be arbitrary, which may produce unexpected results.”\n",
      "Warning message in preparePathwaysAndStats(pathways, stats, minSize, maxSize, gseaParam, :\n",
      "“There are ties in the preranked stats (0.18% of the list).\n",
      "The order of those tied genes will be arbitrary, which may produce unexpected results.”\n",
      "Warning message in preparePathwaysAndStats(pathways, stats, minSize, maxSize, gseaParam, :\n",
      "“There are ties in the preranked stats (0.18% of the list).\n",
      "The order of those tied genes will be arbitrary, which may produce unexpected results.”\n",
      "Warning message in preparePathwaysAndStats(pathways, stats, minSize, maxSize, gseaParam, :\n",
      "“There are ties in the preranked stats (0.18% of the list).\n",
      "The order of those tied genes will be arbitrary, which may produce unexpected results.”\n",
      "Warning message in preparePathwaysAndStats(pathways, stats, minSize, maxSize, gseaParam, :\n",
      "“There are ties in the preranked stats (0.18% of the list).\n",
      "The order of those tied genes will be arbitrary, which may produce unexpected results.”\n",
      "Warning message in preparePathwaysAndStats(pathways, stats, minSize, maxSize, gseaParam, :\n",
      "“There are ties in the preranked stats (0.18% of the list).\n",
      "The order of those tied genes will be arbitrary, which may produce unexpected results.”\n",
      "Warning message in preparePathwaysAndStats(pathways, stats, minSize, maxSize, gseaParam, :\n",
      "“There are ties in the preranked stats (0.18% of the list).\n",
      "The order of those tied genes will be arbitrary, which may produce unexpected results.”\n",
      "Warning message in preparePathwaysAndStats(pathways, stats, minSize, maxSize, gseaParam, :\n",
      "“There are ties in the preranked stats (0.19% of the list).\n",
      "The order of those tied genes will be arbitrary, which may produce unexpected results.”\n",
      "Warning message in preparePathwaysAndStats(pathways, stats, minSize, maxSize, gseaParam, :\n",
      "“There are ties in the preranked stats (0.19% of the list).\n",
      "The order of those tied genes will be arbitrary, which may produce unexpected results.”\n"
     ]
    }
   ],
   "source": [
    "# mcia\n",
    "res_mcia_reactome <- annotations_comparison(metagenes_mcia[[\"RNA\"]], path.database)"
   ]
  },
  {
   "cell_type": "code",
   "execution_count": 41,
   "id": "c665d7c4-805f-4085-ab1c-43402dcdf7f2",
   "metadata": {
    "collapsed": true,
    "jupyter": {
     "outputs_hidden": true
    },
    "tags": []
   },
   "outputs": [
    {
     "name": "stderr",
     "output_type": "stream",
     "text": [
      "Warning message in preparePathwaysAndStats(pathways, stats, minSize, maxSize, gseaParam, :\n",
      "“There are ties in the preranked stats (23.23% of the list).\n",
      "The order of those tied genes will be arbitrary, which may produce unexpected results.”\n",
      "Warning message in preparePathwaysAndStats(pathways, stats, minSize, maxSize, gseaParam, :\n",
      "“There are ties in the preranked stats (23.24% of the list).\n",
      "The order of those tied genes will be arbitrary, which may produce unexpected results.”\n",
      "Warning message in preparePathwaysAndStats(pathways, stats, minSize, maxSize, gseaParam, :\n",
      "“There are ties in the preranked stats (23.24% of the list).\n",
      "The order of those tied genes will be arbitrary, which may produce unexpected results.”\n",
      "Warning message in preparePathwaysAndStats(pathways, stats, minSize, maxSize, gseaParam, :\n",
      "“There are ties in the preranked stats (23.24% of the list).\n",
      "The order of those tied genes will be arbitrary, which may produce unexpected results.”\n",
      "Warning message in preparePathwaysAndStats(pathways, stats, minSize, maxSize, gseaParam, :\n",
      "“There are ties in the preranked stats (23.24% of the list).\n",
      "The order of those tied genes will be arbitrary, which may produce unexpected results.”\n",
      "Warning message in preparePathwaysAndStats(pathways, stats, minSize, maxSize, gseaParam, :\n",
      "“There are ties in the preranked stats (23.24% of the list).\n",
      "The order of those tied genes will be arbitrary, which may produce unexpected results.”\n",
      "Warning message in preparePathwaysAndStats(pathways, stats, minSize, maxSize, gseaParam, :\n",
      "“There are ties in the preranked stats (23.24% of the list).\n",
      "The order of those tied genes will be arbitrary, which may produce unexpected results.”\n",
      "Warning message in preparePathwaysAndStats(pathways, stats, minSize, maxSize, gseaParam, :\n",
      "“There are ties in the preranked stats (23.24% of the list).\n",
      "The order of those tied genes will be arbitrary, which may produce unexpected results.”\n",
      "Warning message in preparePathwaysAndStats(pathways, stats, minSize, maxSize, gseaParam, :\n",
      "“There are ties in the preranked stats (23.24% of the list).\n",
      "The order of those tied genes will be arbitrary, which may produce unexpected results.”\n",
      "Warning message in preparePathwaysAndStats(pathways, stats, minSize, maxSize, gseaParam, :\n",
      "“There are ties in the preranked stats (23.23% of the list).\n",
      "The order of those tied genes will be arbitrary, which may produce unexpected results.”\n"
     ]
    }
   ],
   "source": [
    "# tICA\n",
    "metagenes <- scale(metagenes_tica[[1]])\n",
    "res_tica_reactome <- annotations_comparison(metagenes, path.database)"
   ]
  },
  {
   "cell_type": "code",
   "execution_count": 9,
   "id": "4c4a30bc-e245-4c5b-b958-c805d0e55181",
   "metadata": {},
   "outputs": [],
   "source": [
    "metagenes <- scale(metagenes_tica[[1]])"
   ]
  },
  {
   "cell_type": "code",
   "execution_count": 10,
   "id": "187cd33f-3575-4228-9270-3caa2be40c8c",
   "metadata": {},
   "outputs": [
    {
     "name": "stderr",
     "output_type": "stream",
     "text": [
      "Warning message in preparePathwaysAndStats(pathways, stats, minSize, maxSize, gseaParam, :\n",
      "“There are ties in the preranked stats (23.23% of the list).\n",
      "The order of those tied genes will be arbitrary, which may produce unexpected results.”\n",
      "Warning message in preparePathwaysAndStats(pathways, stats, minSize, maxSize, gseaParam, :\n",
      "“There are ties in the preranked stats (23.24% of the list).\n",
      "The order of those tied genes will be arbitrary, which may produce unexpected results.”\n",
      "Warning message in preparePathwaysAndStats(pathways, stats, minSize, maxSize, gseaParam, :\n",
      "“There are ties in the preranked stats (23.24% of the list).\n",
      "The order of those tied genes will be arbitrary, which may produce unexpected results.”\n",
      "Warning message in preparePathwaysAndStats(pathways, stats, minSize, maxSize, gseaParam, :\n",
      "“There are ties in the preranked stats (23.24% of the list).\n",
      "The order of those tied genes will be arbitrary, which may produce unexpected results.”\n",
      "Warning message in preparePathwaysAndStats(pathways, stats, minSize, maxSize, gseaParam, :\n",
      "“There are ties in the preranked stats (23.24% of the list).\n",
      "The order of those tied genes will be arbitrary, which may produce unexpected results.”\n",
      "Warning message in preparePathwaysAndStats(pathways, stats, minSize, maxSize, gseaParam, :\n",
      "“There are ties in the preranked stats (23.24% of the list).\n",
      "The order of those tied genes will be arbitrary, which may produce unexpected results.”\n",
      "Warning message in preparePathwaysAndStats(pathways, stats, minSize, maxSize, gseaParam, :\n",
      "“There are ties in the preranked stats (23.24% of the list).\n",
      "The order of those tied genes will be arbitrary, which may produce unexpected results.”\n",
      "Warning message in preparePathwaysAndStats(pathways, stats, minSize, maxSize, gseaParam, :\n",
      "“There are ties in the preranked stats (23.24% of the list).\n",
      "The order of those tied genes will be arbitrary, which may produce unexpected results.”\n",
      "Warning message in preparePathwaysAndStats(pathways, stats, minSize, maxSize, gseaParam, :\n",
      "“There are ties in the preranked stats (23.24% of the list).\n",
      "The order of those tied genes will be arbitrary, which may produce unexpected results.”\n",
      "Warning message in preparePathwaysAndStats(pathways, stats, minSize, maxSize, gseaParam, :\n",
      "“There are ties in the preranked stats (23.23% of the list).\n",
      "The order of those tied genes will be arbitrary, which may produce unexpected results.”\n"
     ]
    }
   ],
   "source": [
    "pval.thr <- 0.05\n",
    "# Load annotation database\n",
    "pathways <- gmtPathways(path.database)\n",
    "\n",
    "# Containers to report results\n",
    "report_number <- numeric(0)\n",
    "report_nnzero <- numeric(0)\n",
    "report_select <- numeric(0)\n",
    "\n",
    "# Number of factors\n",
    "num.factors <- 10\n",
    "\n",
    "# Variables\n",
    "min_pval <- numeric(0)\n",
    "path <- numeric(0)\n",
    "n <- 0\n",
    "\n",
    "# Calculate biological annotation enrichment.\n",
    "# For each factor,\n",
    "for(j in 1:num.factors){\n",
    "    # Assign gene names\n",
    "    rnk <- setNames(as.matrix(metagenes[,j]), rownames(metagenes))\n",
    "    # Compute fgsea\n",
    "    fgseaRes <- fgsea(pathways, rnk, minSize=15, maxSize=100)\n",
    "    # If at least one pathway is significant\n",
    "    if(sum(fgseaRes$padj < pval.thr)!=0){\n",
    "        # Count this factor\n",
    "        n <- n+1\n",
    "        # Keep min adjusted p-value\n",
    "        min_pval <- rbind(min_pval, min(fgseaRes$padj))\n",
    "        # Keep names of significant pathways\n",
    "        path <- c(path, fgseaRes[fgseaRes$padj<pval.thr, \"pathway\"])\n",
    "    } else {\n",
    "        min_pval <- rbind(min_pval, NA)\n",
    "    }\n",
    "}"
   ]
  },
  {
   "cell_type": "code",
   "execution_count": 42,
   "id": "ea071d63-4fc9-48cd-8ec0-378ab473034c",
   "metadata": {},
   "outputs": [],
   "source": [
    "# icluster\n",
    "# metagenes <- scale(metagenes_icluster[[\"RNA\"]])\n",
    "res_icluster_reactome <- annotations_comparison(metagenes_icluster[[\"RNA\"]], path.database)"
   ]
  },
  {
   "cell_type": "code",
   "execution_count": null,
   "id": "57c01e3d-2523-448a-a037-e69e83971763",
   "metadata": {},
   "outputs": [],
   "source": []
  },
  {
   "cell_type": "code",
   "execution_count": 43,
   "id": "4da8e1f7-9589-4621-982c-1707a0c8e5db",
   "metadata": {},
   "outputs": [],
   "source": [
    "# Hallmarks\n",
    "path.database <- \"/sibcb1/chenluonanlab6/zhangchuanchao2/data/h.all.v7.5.1.symbols.gmt\""
   ]
  },
  {
   "cell_type": "code",
   "execution_count": 44,
   "id": "782e27fc-62a1-4009-99ab-c09404a11059",
   "metadata": {},
   "outputs": [],
   "source": [
    "# MOFA2\n",
    "res_mofa_hallmarks <- annotations_comparison(metagenes_mofa, path.database)"
   ]
  },
  {
   "cell_type": "code",
   "execution_count": 46,
   "id": "0f823b5a-e49f-4d59-976c-465f5fef01db",
   "metadata": {},
   "outputs": [
    {
     "data": {
      "text/html": [
       "<table class=\"dataframe\">\n",
       "<caption>A data.frame: 1 × 3</caption>\n",
       "<thead>\n",
       "\t<tr><th></th><th scope=col>selectivity</th><th scope=col>nonZeroFacs</th><th scope=col>total_pathways</th></tr>\n",
       "\t<tr><th></th><th scope=col>&lt;dbl&gt;</th><th scope=col>&lt;dbl&gt;</th><th scope=col>&lt;dbl&gt;</th></tr>\n",
       "</thead>\n",
       "<tbody>\n",
       "\t<tr><th scope=row>n</th><td>1</td><td>7</td><td>7</td></tr>\n",
       "</tbody>\n",
       "</table>\n"
      ],
      "text/latex": [
       "A data.frame: 1 × 3\n",
       "\\begin{tabular}{r|lll}\n",
       "  & selectivity & nonZeroFacs & total\\_pathways\\\\\n",
       "  & <dbl> & <dbl> & <dbl>\\\\\n",
       "\\hline\n",
       "\tn & 1 & 7 & 7\\\\\n",
       "\\end{tabular}\n"
      ],
      "text/markdown": [
       "\n",
       "A data.frame: 1 × 3\n",
       "\n",
       "| <!--/--> | selectivity &lt;dbl&gt; | nonZeroFacs &lt;dbl&gt; | total_pathways &lt;dbl&gt; |\n",
       "|---|---|---|---|\n",
       "| n | 1 | 7 | 7 |\n",
       "\n"
      ],
      "text/plain": [
       "  selectivity nonZeroFacs total_pathways\n",
       "n 1           7           7             "
      ]
     },
     "metadata": {},
     "output_type": "display_data"
    }
   ],
   "source": [
    "res_mofa_hallmarks"
   ]
  },
  {
   "cell_type": "code",
   "execution_count": 45,
   "id": "eb0ad595-4601-4ee9-8e64-16ef424bfa67",
   "metadata": {
    "collapsed": true,
    "jupyter": {
     "outputs_hidden": true
    },
    "tags": []
   },
   "outputs": [
    {
     "name": "stderr",
     "output_type": "stream",
     "text": [
      "Warning message in preparePathwaysAndStats(pathways, stats, minSize, maxSize, gseaParam, :\n",
      "“There are ties in the preranked stats (0.01% of the list).\n",
      "The order of those tied genes will be arbitrary, which may produce unexpected results.”\n"
     ]
    }
   ],
   "source": [
    "# liger\n",
    "res_liger_hallmarks <- annotations_comparison(metagenes_liger, path.database)"
   ]
  },
  {
   "cell_type": "code",
   "execution_count": 47,
   "id": "7ceb5815-f22f-4d1d-9c58-449c7ec779b7",
   "metadata": {
    "collapsed": true,
    "jupyter": {
     "outputs_hidden": true
    },
    "tags": []
   },
   "outputs": [
    {
     "name": "stderr",
     "output_type": "stream",
     "text": [
      "Warning message in preparePathwaysAndStats(pathways, stats, minSize, maxSize, gseaParam, :\n",
      "“There are ties in the preranked stats (0.18% of the list).\n",
      "The order of those tied genes will be arbitrary, which may produce unexpected results.”\n",
      "Warning message in preparePathwaysAndStats(pathways, stats, minSize, maxSize, gseaParam, :\n",
      "“There are ties in the preranked stats (0.18% of the list).\n",
      "The order of those tied genes will be arbitrary, which may produce unexpected results.”\n",
      "Warning message in preparePathwaysAndStats(pathways, stats, minSize, maxSize, gseaParam, :\n",
      "“There are ties in the preranked stats (0.18% of the list).\n",
      "The order of those tied genes will be arbitrary, which may produce unexpected results.”\n",
      "Warning message in preparePathwaysAndStats(pathways, stats, minSize, maxSize, gseaParam, :\n",
      "“There are ties in the preranked stats (0.18% of the list).\n",
      "The order of those tied genes will be arbitrary, which may produce unexpected results.”\n",
      "Warning message in preparePathwaysAndStats(pathways, stats, minSize, maxSize, gseaParam, :\n",
      "“There are ties in the preranked stats (0.18% of the list).\n",
      "The order of those tied genes will be arbitrary, which may produce unexpected results.”\n",
      "Warning message in preparePathwaysAndStats(pathways, stats, minSize, maxSize, gseaParam, :\n",
      "“There are ties in the preranked stats (0.18% of the list).\n",
      "The order of those tied genes will be arbitrary, which may produce unexpected results.”\n",
      "Warning message in preparePathwaysAndStats(pathways, stats, minSize, maxSize, gseaParam, :\n",
      "“There are ties in the preranked stats (0.18% of the list).\n",
      "The order of those tied genes will be arbitrary, which may produce unexpected results.”\n",
      "Warning message in preparePathwaysAndStats(pathways, stats, minSize, maxSize, gseaParam, :\n",
      "“There are ties in the preranked stats (0.18% of the list).\n",
      "The order of those tied genes will be arbitrary, which may produce unexpected results.”\n",
      "Warning message in preparePathwaysAndStats(pathways, stats, minSize, maxSize, gseaParam, :\n",
      "“There are ties in the preranked stats (0.19% of the list).\n",
      "The order of those tied genes will be arbitrary, which may produce unexpected results.”\n",
      "Warning message in preparePathwaysAndStats(pathways, stats, minSize, maxSize, gseaParam, :\n",
      "“There are ties in the preranked stats (0.19% of the list).\n",
      "The order of those tied genes will be arbitrary, which may produce unexpected results.”\n"
     ]
    }
   ],
   "source": [
    "# mcia\n",
    "res_mcia_hallmarks <- annotations_comparison(metagenes_mcia[[\"RNA\"]], path.database)"
   ]
  },
  {
   "cell_type": "code",
   "execution_count": 58,
   "id": "8661b275-6c78-4dce-b88b-271f73493ede",
   "metadata": {
    "collapsed": true,
    "jupyter": {
     "outputs_hidden": true
    },
    "tags": []
   },
   "outputs": [
    {
     "name": "stderr",
     "output_type": "stream",
     "text": [
      "Warning message in preparePathwaysAndStats(pathways, stats, minSize, maxSize, gseaParam, :\n",
      "“There are ties in the preranked stats (23.23% of the list).\n",
      "The order of those tied genes will be arbitrary, which may produce unexpected results.”\n",
      "Warning message in preparePathwaysAndStats(pathways, stats, minSize, maxSize, gseaParam, :\n",
      "“There are ties in the preranked stats (23.24% of the list).\n",
      "The order of those tied genes will be arbitrary, which may produce unexpected results.”\n",
      "Warning message in preparePathwaysAndStats(pathways, stats, minSize, maxSize, gseaParam, :\n",
      "“There are ties in the preranked stats (23.24% of the list).\n",
      "The order of those tied genes will be arbitrary, which may produce unexpected results.”\n",
      "Warning message in preparePathwaysAndStats(pathways, stats, minSize, maxSize, gseaParam, :\n",
      "“There are ties in the preranked stats (23.24% of the list).\n",
      "The order of those tied genes will be arbitrary, which may produce unexpected results.”\n",
      "Warning message in preparePathwaysAndStats(pathways, stats, minSize, maxSize, gseaParam, :\n",
      "“There are ties in the preranked stats (23.24% of the list).\n",
      "The order of those tied genes will be arbitrary, which may produce unexpected results.”\n",
      "Warning message in preparePathwaysAndStats(pathways, stats, minSize, maxSize, gseaParam, :\n",
      "“There are ties in the preranked stats (23.24% of the list).\n",
      "The order of those tied genes will be arbitrary, which may produce unexpected results.”\n",
      "Warning message in preparePathwaysAndStats(pathways, stats, minSize, maxSize, gseaParam, :\n",
      "“There are ties in the preranked stats (23.24% of the list).\n",
      "The order of those tied genes will be arbitrary, which may produce unexpected results.”\n",
      "Warning message in preparePathwaysAndStats(pathways, stats, minSize, maxSize, gseaParam, :\n",
      "“There are ties in the preranked stats (23.24% of the list).\n",
      "The order of those tied genes will be arbitrary, which may produce unexpected results.”\n",
      "Warning message in preparePathwaysAndStats(pathways, stats, minSize, maxSize, gseaParam, :\n",
      "“There are ties in the preranked stats (23.24% of the list).\n",
      "The order of those tied genes will be arbitrary, which may produce unexpected results.”\n",
      "Warning message in preparePathwaysAndStats(pathways, stats, minSize, maxSize, gseaParam, :\n",
      "“There are ties in the preranked stats (23.23% of the list).\n",
      "The order of those tied genes will be arbitrary, which may produce unexpected results.”\n"
     ]
    }
   ],
   "source": [
    "# tICA\n",
    "metagenes <- scale(metagenes_tica[[1]])\n",
    "res_tica_hallmarks <- annotations_comparison(metagenes, path.database)"
   ]
  },
  {
   "cell_type": "code",
   "execution_count": 49,
   "id": "b72bba07-f669-4eca-a913-5cfbc2050f91",
   "metadata": {},
   "outputs": [],
   "source": [
    "# icluster\n",
    "# metagenes <- scale(metagenes_icluster[[\"RNA\"]]+1)\n",
    "res_icluster_hallmarks <- annotations_comparison(metagenes_icluster[[\"RNA\"]], path.database)"
   ]
  },
  {
   "cell_type": "code",
   "execution_count": null,
   "id": "adb18b75-8707-4469-bd0f-b2ad50cf1ca3",
   "metadata": {},
   "outputs": [],
   "source": []
  },
  {
   "cell_type": "code",
   "execution_count": null,
   "id": "9904d9c6-47f6-4ef6-9020-37f85aa36fc6",
   "metadata": {},
   "outputs": [],
   "source": [
    "# GO"
   ]
  },
  {
   "cell_type": "code",
   "execution_count": 50,
   "id": "45a3ef50-3ae8-493d-acff-ee35028ba975",
   "metadata": {},
   "outputs": [],
   "source": [
    "path.database <- \"/sibcb1/chenluonanlab6/zhangchuanchao2/data/c5.all.v7.5.1.symbols.gmt\""
   ]
  },
  {
   "cell_type": "code",
   "execution_count": 59,
   "id": "92ddc843-214f-45d7-8ea7-96372fdd133c",
   "metadata": {
    "tags": []
   },
   "outputs": [
    {
     "name": "stderr",
     "output_type": "stream",
     "text": [
      "Warning message in selectChildren(jobs, timeout):\n",
      "“error 'No child processes' in select”\n"
     ]
    }
   ],
   "source": [
    "# mofa\n",
    "# metagenes <- scale(metagenes_mofa)\n",
    "res_mofa <- annotations_comparison(metagenes_mofa, path.database)"
   ]
  },
  {
   "cell_type": "code",
   "execution_count": 60,
   "id": "9abf0852-ac1e-4971-bf90-3251fef1b1b4",
   "metadata": {},
   "outputs": [
    {
     "data": {
      "text/html": [
       "<table class=\"dataframe\">\n",
       "<caption>A data.frame: 1 × 3</caption>\n",
       "<thead>\n",
       "\t<tr><th></th><th scope=col>selectivity</th><th scope=col>nonZeroFacs</th><th scope=col>total_pathways</th></tr>\n",
       "\t<tr><th></th><th scope=col>&lt;dbl&gt;</th><th scope=col>&lt;dbl&gt;</th><th scope=col>&lt;dbl&gt;</th></tr>\n",
       "</thead>\n",
       "<tbody>\n",
       "\t<tr><th scope=row>n</th><td>1</td><td>4</td><td>4</td></tr>\n",
       "</tbody>\n",
       "</table>\n"
      ],
      "text/latex": [
       "A data.frame: 1 × 3\n",
       "\\begin{tabular}{r|lll}\n",
       "  & selectivity & nonZeroFacs & total\\_pathways\\\\\n",
       "  & <dbl> & <dbl> & <dbl>\\\\\n",
       "\\hline\n",
       "\tn & 1 & 4 & 4\\\\\n",
       "\\end{tabular}\n"
      ],
      "text/markdown": [
       "\n",
       "A data.frame: 1 × 3\n",
       "\n",
       "| <!--/--> | selectivity &lt;dbl&gt; | nonZeroFacs &lt;dbl&gt; | total_pathways &lt;dbl&gt; |\n",
       "|---|---|---|---|\n",
       "| n | 1 | 4 | 4 |\n",
       "\n"
      ],
      "text/plain": [
       "  selectivity nonZeroFacs total_pathways\n",
       "n 1           4           4             "
      ]
     },
     "metadata": {},
     "output_type": "display_data"
    }
   ],
   "source": [
    "res_mofa"
   ]
  },
  {
   "cell_type": "code",
   "execution_count": 62,
   "id": "90e14c86-92fe-4a97-aadd-3c8eded4de17",
   "metadata": {
    "collapsed": true,
    "jupyter": {
     "outputs_hidden": true
    },
    "tags": []
   },
   "outputs": [
    {
     "name": "stderr",
     "output_type": "stream",
     "text": [
      "Warning message in preparePathwaysAndStats(pathways, stats, minSize, maxSize, gseaParam, :\n",
      "“There are ties in the preranked stats (16.62% of the list).\n",
      "The order of those tied genes will be arbitrary, which may produce unexpected results.”\n",
      "Warning message in preparePathwaysAndStats(pathways, stats, minSize, maxSize, gseaParam, :\n",
      "“There are ties in the preranked stats (15.8% of the list).\n",
      "The order of those tied genes will be arbitrary, which may produce unexpected results.”\n",
      "Warning message in preparePathwaysAndStats(pathways, stats, minSize, maxSize, gseaParam, :\n",
      "“There are ties in the preranked stats (16.26% of the list).\n",
      "The order of those tied genes will be arbitrary, which may produce unexpected results.”\n",
      "Warning message in preparePathwaysAndStats(pathways, stats, minSize, maxSize, gseaParam, :\n",
      "“There are ties in the preranked stats (57.47% of the list).\n",
      "The order of those tied genes will be arbitrary, which may produce unexpected results.”\n",
      "Warning message in preparePathwaysAndStats(pathways, stats, minSize, maxSize, gseaParam, :\n",
      "“There are ties in the preranked stats (55.97% of the list).\n",
      "The order of those tied genes will be arbitrary, which may produce unexpected results.”\n",
      "Warning message in preparePathwaysAndStats(pathways, stats, minSize, maxSize, gseaParam, :\n",
      "“There are ties in the preranked stats (55.17% of the list).\n",
      "The order of those tied genes will be arbitrary, which may produce unexpected results.”\n",
      "Warning message in preparePathwaysAndStats(pathways, stats, minSize, maxSize, gseaParam, :\n",
      "“There are ties in the preranked stats (75.74% of the list).\n",
      "The order of those tied genes will be arbitrary, which may produce unexpected results.”\n",
      "Warning message in preparePathwaysAndStats(pathways, stats, minSize, maxSize, gseaParam, :\n",
      "“There are ties in the preranked stats (17.69% of the list).\n",
      "The order of those tied genes will be arbitrary, which may produce unexpected results.”\n",
      "Warning message in preparePathwaysAndStats(pathways, stats, minSize, maxSize, gseaParam, :\n",
      "“There are ties in the preranked stats (15.93% of the list).\n",
      "The order of those tied genes will be arbitrary, which may produce unexpected results.”\n",
      "Warning message in preparePathwaysAndStats(pathways, stats, minSize, maxSize, gseaParam, :\n",
      "“There are ties in the preranked stats (15.96% of the list).\n",
      "The order of those tied genes will be arbitrary, which may produce unexpected results.”\n"
     ]
    }
   ],
   "source": [
    "# liger\n",
    "metagenes <- scale(metagenes_liger)\n",
    "res_liger <- annotations_comparison(metagenes, path.database)"
   ]
  },
  {
   "cell_type": "code",
   "execution_count": 53,
   "id": "aef96923-c9c8-4452-8f1c-32b32e04d7f5",
   "metadata": {
    "collapsed": true,
    "jupyter": {
     "outputs_hidden": true
    },
    "tags": []
   },
   "outputs": [
    {
     "name": "stderr",
     "output_type": "stream",
     "text": [
      "Warning message in preparePathwaysAndStats(pathways, stats, minSize, maxSize, gseaParam, :\n",
      "“There are ties in the preranked stats (0.18% of the list).\n",
      "The order of those tied genes will be arbitrary, which may produce unexpected results.”\n",
      "Warning message in preparePathwaysAndStats(pathways, stats, minSize, maxSize, gseaParam, :\n",
      "“There are ties in the preranked stats (0.18% of the list).\n",
      "The order of those tied genes will be arbitrary, which may produce unexpected results.”\n",
      "Warning message in preparePathwaysAndStats(pathways, stats, minSize, maxSize, gseaParam, :\n",
      "“There are ties in the preranked stats (0.18% of the list).\n",
      "The order of those tied genes will be arbitrary, which may produce unexpected results.”\n",
      "Warning message in preparePathwaysAndStats(pathways, stats, minSize, maxSize, gseaParam, :\n",
      "“There are ties in the preranked stats (0.18% of the list).\n",
      "The order of those tied genes will be arbitrary, which may produce unexpected results.”\n",
      "Warning message in preparePathwaysAndStats(pathways, stats, minSize, maxSize, gseaParam, :\n",
      "“There are ties in the preranked stats (0.18% of the list).\n",
      "The order of those tied genes will be arbitrary, which may produce unexpected results.”\n",
      "Warning message in preparePathwaysAndStats(pathways, stats, minSize, maxSize, gseaParam, :\n",
      "“There are ties in the preranked stats (0.18% of the list).\n",
      "The order of those tied genes will be arbitrary, which may produce unexpected results.”\n",
      "Warning message in selectChildren(jobs, timeout):\n",
      "“error 'No child processes' in select”\n",
      "Warning message in preparePathwaysAndStats(pathways, stats, minSize, maxSize, gseaParam, :\n",
      "“There are ties in the preranked stats (0.18% of the list).\n",
      "The order of those tied genes will be arbitrary, which may produce unexpected results.”\n",
      "Warning message in preparePathwaysAndStats(pathways, stats, minSize, maxSize, gseaParam, :\n",
      "“There are ties in the preranked stats (0.18% of the list).\n",
      "The order of those tied genes will be arbitrary, which may produce unexpected results.”\n",
      "Warning message in preparePathwaysAndStats(pathways, stats, minSize, maxSize, gseaParam, :\n",
      "“There are ties in the preranked stats (0.19% of the list).\n",
      "The order of those tied genes will be arbitrary, which may produce unexpected results.”\n",
      "Warning message in preparePathwaysAndStats(pathways, stats, minSize, maxSize, gseaParam, :\n",
      "“There are ties in the preranked stats (0.19% of the list).\n",
      "The order of those tied genes will be arbitrary, which may produce unexpected results.”\n"
     ]
    }
   ],
   "source": [
    "# mcia\n",
    "res_mcia <- annotations_comparison(metagenes_mcia[[\"RNA\"]], path.database)"
   ]
  },
  {
   "cell_type": "code",
   "execution_count": 64,
   "id": "1b71e278-3619-4c33-a779-48cabaf2807d",
   "metadata": {
    "collapsed": true,
    "jupyter": {
     "outputs_hidden": true
    },
    "tags": []
   },
   "outputs": [
    {
     "name": "stderr",
     "output_type": "stream",
     "text": [
      "Warning message in preparePathwaysAndStats(pathways, stats, minSize, maxSize, gseaParam, :\n",
      "“There are ties in the preranked stats (23.23% of the list).\n",
      "The order of those tied genes will be arbitrary, which may produce unexpected results.”\n",
      "Warning message in preparePathwaysAndStats(pathways, stats, minSize, maxSize, gseaParam, :\n",
      "“There are ties in the preranked stats (23.24% of the list).\n",
      "The order of those tied genes will be arbitrary, which may produce unexpected results.”\n",
      "Warning message in preparePathwaysAndStats(pathways, stats, minSize, maxSize, gseaParam, :\n",
      "“There are ties in the preranked stats (23.24% of the list).\n",
      "The order of those tied genes will be arbitrary, which may produce unexpected results.”\n",
      "Warning message in preparePathwaysAndStats(pathways, stats, minSize, maxSize, gseaParam, :\n",
      "“There are ties in the preranked stats (23.24% of the list).\n",
      "The order of those tied genes will be arbitrary, which may produce unexpected results.”\n",
      "Warning message in preparePathwaysAndStats(pathways, stats, minSize, maxSize, gseaParam, :\n",
      "“There are ties in the preranked stats (23.24% of the list).\n",
      "The order of those tied genes will be arbitrary, which may produce unexpected results.”\n",
      "Warning message in preparePathwaysAndStats(pathways, stats, minSize, maxSize, gseaParam, :\n",
      "“There are ties in the preranked stats (23.24% of the list).\n",
      "The order of those tied genes will be arbitrary, which may produce unexpected results.”\n",
      "Warning message in preparePathwaysAndStats(pathways, stats, minSize, maxSize, gseaParam, :\n",
      "“There are ties in the preranked stats (23.24% of the list).\n",
      "The order of those tied genes will be arbitrary, which may produce unexpected results.”\n",
      "Warning message in preparePathwaysAndStats(pathways, stats, minSize, maxSize, gseaParam, :\n",
      "“There are ties in the preranked stats (23.24% of the list).\n",
      "The order of those tied genes will be arbitrary, which may produce unexpected results.”\n",
      "Warning message in preparePathwaysAndStats(pathways, stats, minSize, maxSize, gseaParam, :\n",
      "“There are ties in the preranked stats (23.24% of the list).\n",
      "The order of those tied genes will be arbitrary, which may produce unexpected results.”\n",
      "Warning message in preparePathwaysAndStats(pathways, stats, minSize, maxSize, gseaParam, :\n",
      "“There are ties in the preranked stats (23.23% of the list).\n",
      "The order of those tied genes will be arbitrary, which may produce unexpected results.”\n"
     ]
    }
   ],
   "source": [
    "# tICA\n",
    "metagenes <- scale(metagenes_tica[[1]])\n",
    "res_tica <- annotations_comparison(metagenes, path.database)"
   ]
  },
  {
   "cell_type": "code",
   "execution_count": 65,
   "id": "e3c0db52-30f1-43ac-b151-35eec484db61",
   "metadata": {},
   "outputs": [],
   "source": [
    "# icluster\n",
    "# metagenes <- scale(metagenes_icluster[[\"RNA\"]])\n",
    "res_icluster <- annotations_comparison(metagenes_icluster[[\"RNA\"]], path.database)"
   ]
  },
  {
   "cell_type": "code",
   "execution_count": null,
   "id": "872a2d1a-456a-47e5-8d20-b33827761d20",
   "metadata": {},
   "outputs": [],
   "source": []
  },
  {
   "cell_type": "code",
   "execution_count": 66,
   "id": "1e0ab921-6014-4283-985c-c0e9998acdb0",
   "metadata": {},
   "outputs": [],
   "source": [
    "# 绘图\n",
    "library(ggplot2)"
   ]
  },
  {
   "cell_type": "code",
   "execution_count": 67,
   "id": "1f0db56f-512a-4ce9-8606-7ab5e8fda530",
   "metadata": {},
   "outputs": [],
   "source": [
    "res_go <- rbind(res_mofa, res_liger, res_mcia, res_tica, res_icluster)\n",
    "res_go$methods <- c(\"MOFA2\", \"liger\", \"MCIA\", \"tICA\", \"iCluster\")"
   ]
  },
  {
   "cell_type": "code",
   "execution_count": 68,
   "id": "832d5991-7098-41b2-a50b-d46ee52c95dc",
   "metadata": {},
   "outputs": [
    {
     "data": {
      "text/html": [
       "<table class=\"dataframe\">\n",
       "<caption>A data.frame: 5 × 4</caption>\n",
       "<thead>\n",
       "\t<tr><th></th><th scope=col>selectivity</th><th scope=col>nonZeroFacs</th><th scope=col>total_pathways</th><th scope=col>methods</th></tr>\n",
       "\t<tr><th></th><th scope=col>&lt;dbl&gt;</th><th scope=col>&lt;dbl&gt;</th><th scope=col>&lt;dbl&gt;</th><th scope=col>&lt;chr&gt;</th></tr>\n",
       "</thead>\n",
       "<tbody>\n",
       "\t<tr><th scope=row>n</th><td>1</td><td>4</td><td>4</td><td>MOFA2   </td></tr>\n",
       "\t<tr><th scope=row>n1</th><td>1</td><td>7</td><td>7</td><td>liger   </td></tr>\n",
       "\t<tr><th scope=row>n2</th><td>1</td><td>3</td><td>3</td><td>MCIA    </td></tr>\n",
       "\t<tr><th scope=row>n3</th><td>1</td><td>8</td><td>8</td><td>tICA    </td></tr>\n",
       "\t<tr><th scope=row>n4</th><td>1</td><td>9</td><td>9</td><td>iCluster</td></tr>\n",
       "</tbody>\n",
       "</table>\n"
      ],
      "text/latex": [
       "A data.frame: 5 × 4\n",
       "\\begin{tabular}{r|llll}\n",
       "  & selectivity & nonZeroFacs & total\\_pathways & methods\\\\\n",
       "  & <dbl> & <dbl> & <dbl> & <chr>\\\\\n",
       "\\hline\n",
       "\tn & 1 & 4 & 4 & MOFA2   \\\\\n",
       "\tn1 & 1 & 7 & 7 & liger   \\\\\n",
       "\tn2 & 1 & 3 & 3 & MCIA    \\\\\n",
       "\tn3 & 1 & 8 & 8 & tICA    \\\\\n",
       "\tn4 & 1 & 9 & 9 & iCluster\\\\\n",
       "\\end{tabular}\n"
      ],
      "text/markdown": [
       "\n",
       "A data.frame: 5 × 4\n",
       "\n",
       "| <!--/--> | selectivity &lt;dbl&gt; | nonZeroFacs &lt;dbl&gt; | total_pathways &lt;dbl&gt; | methods &lt;chr&gt; |\n",
       "|---|---|---|---|---|\n",
       "| n | 1 | 4 | 4 | MOFA2    |\n",
       "| n1 | 1 | 7 | 7 | liger    |\n",
       "| n2 | 1 | 3 | 3 | MCIA     |\n",
       "| n3 | 1 | 8 | 8 | tICA     |\n",
       "| n4 | 1 | 9 | 9 | iCluster |\n",
       "\n"
      ],
      "text/plain": [
       "   selectivity nonZeroFacs total_pathways methods \n",
       "n  1           4           4              MOFA2   \n",
       "n1 1           7           7              liger   \n",
       "n2 1           3           3              MCIA    \n",
       "n3 1           8           8              tICA    \n",
       "n4 1           9           9              iCluster"
      ]
     },
     "metadata": {},
     "output_type": "display_data"
    }
   ],
   "source": [
    "res_go"
   ]
  },
  {
   "cell_type": "code",
   "execution_count": 69,
   "id": "2403ce33-bff5-40e5-b96e-697a0a95678f",
   "metadata": {},
   "outputs": [
    {
     "name": "stderr",
     "output_type": "stream",
     "text": [
      "Warning message:\n",
      "“Continuous limits supplied to discrete scale.\n",
      "Did you mean `limits = factor(...)` or `scale_*_continuous()`?”\n"
     ]
    },
    {
     "data": {
      "image/png": "[encoded data removed]",
      "text/plain": [
       "plot without title"
      ]
     },
     "metadata": {
      "image/png": {
       "height": 420,
       "width": 420
      }
     },
     "output_type": "display_data"
    }
   ],
   "source": [
    "min_nonZero = min(res_go[, \"nonZeroFacs\"]) \n",
    "max_nonZero = max(res_go[, \"nonZeroFacs\"]) \n",
    "g <- ggplot(res_go, aes(x=nonZeroFacs,y=selectivity)) + \n",
    "    geom_point(aes(colour = methods), size=5, alpha=.6, position=position_jitter(h=0, w=0.15))+ \n",
    "    theme_bw() + \n",
    "    scale_shape_manual(values=c(15,17,16)) + \n",
    "    scale_color_manual(values=c('#FF00FF', '#FF6E28', '#C8961E', '#FF0000', '#0000FF', '#A0A0A0', '#48D1CC', '#00FF00')) +\n",
    "    ylim(floor(min((res_go[,\"selectivity\"]*10)-.4)) / 10,\n",
    "         ceiling(max((res_go[,\"selectivity\"]*10)+.2)) / 10) +\n",
    "    labs(title=\"Biological annotations: GO\", \n",
    "         x=\"# metagenes (factors) enriched in at least one annotation\") +\n",
    "    theme(plot.title = element_text(size=14,face=\"bold\"),\n",
    "          axis.text = element_text(size=11),\n",
    "          axis.title = element_text(size=13),\n",
    "          legend.text=element_text(size=10)) +\n",
    "    ylab(\"Selectivity\") + \n",
    "    labs(colour = \"methods\") +\n",
    "    guides(color = guide_legend(order = 1),shape = guide_legend(order = 2),size = guide_legend(order = 3)) + \n",
    "    scale_x_discrete(limits=min_nonZero:max_nonZero, labels = c(min_nonZero:max_nonZero));\n",
    "g"
   ]
  },
  {
   "cell_type": "code",
   "execution_count": 70,
   "id": "56e5e17a-7ae3-4632-8f05-6ca573cd9d13",
   "metadata": {},
   "outputs": [
    {
     "data": {
      "text/html": [
       "<table class=\"dataframe\">\n",
       "<caption>A data.frame: 5 × 4</caption>\n",
       "<thead>\n",
       "\t<tr><th></th><th scope=col>selectivity</th><th scope=col>nonZeroFacs</th><th scope=col>total_pathways</th><th scope=col>methods</th></tr>\n",
       "\t<tr><th></th><th scope=col>&lt;dbl&gt;</th><th scope=col>&lt;dbl&gt;</th><th scope=col>&lt;dbl&gt;</th><th scope=col>&lt;chr&gt;</th></tr>\n",
       "</thead>\n",
       "<tbody>\n",
       "\t<tr><th scope=row>n</th><td>1</td><td>7</td><td>7</td><td>MOFA2   </td></tr>\n",
       "\t<tr><th scope=row>n1</th><td>1</td><td>3</td><td>3</td><td>liger   </td></tr>\n",
       "\t<tr><th scope=row>n2</th><td>1</td><td>3</td><td>3</td><td>MCIA    </td></tr>\n",
       "\t<tr><th scope=row>n3</th><td>1</td><td>7</td><td>7</td><td>tICA    </td></tr>\n",
       "\t<tr><th scope=row>n4</th><td>1</td><td>7</td><td>7</td><td>iCluster</td></tr>\n",
       "</tbody>\n",
       "</table>\n"
      ],
      "text/latex": [
       "A data.frame: 5 × 4\n",
       "\\begin{tabular}{r|llll}\n",
       "  & selectivity & nonZeroFacs & total\\_pathways & methods\\\\\n",
       "  & <dbl> & <dbl> & <dbl> & <chr>\\\\\n",
       "\\hline\n",
       "\tn & 1 & 7 & 7 & MOFA2   \\\\\n",
       "\tn1 & 1 & 3 & 3 & liger   \\\\\n",
       "\tn2 & 1 & 3 & 3 & MCIA    \\\\\n",
       "\tn3 & 1 & 7 & 7 & tICA    \\\\\n",
       "\tn4 & 1 & 7 & 7 & iCluster\\\\\n",
       "\\end{tabular}\n"
      ],
      "text/markdown": [
       "\n",
       "A data.frame: 5 × 4\n",
       "\n",
       "| <!--/--> | selectivity &lt;dbl&gt; | nonZeroFacs &lt;dbl&gt; | total_pathways &lt;dbl&gt; | methods &lt;chr&gt; |\n",
       "|---|---|---|---|---|\n",
       "| n | 1 | 7 | 7 | MOFA2    |\n",
       "| n1 | 1 | 3 | 3 | liger    |\n",
       "| n2 | 1 | 3 | 3 | MCIA     |\n",
       "| n3 | 1 | 7 | 7 | tICA     |\n",
       "| n4 | 1 | 7 | 7 | iCluster |\n",
       "\n"
      ],
      "text/plain": [
       "   selectivity nonZeroFacs total_pathways methods \n",
       "n  1           7           7              MOFA2   \n",
       "n1 1           3           3              liger   \n",
       "n2 1           3           3              MCIA    \n",
       "n3 1           7           7              tICA    \n",
       "n4 1           7           7              iCluster"
      ]
     },
     "metadata": {},
     "output_type": "display_data"
    }
   ],
   "source": [
    "res_hallmarks <- rbind(res_mofa_hallmarks, res_liger_hallmarks, res_mcia_hallmarks, res_tica_hallmarks, res_icluster_hallmarks)\n",
    "res_hallmarks$methods <- c(\"MOFA2\", \"liger\", \"MCIA\", \"tICA\", \"iCluster\")\n",
    "res_hallmarks"
   ]
  },
  {
   "cell_type": "code",
   "execution_count": 71,
   "id": "17947326-9b90-473b-a892-02f9e55b67d3",
   "metadata": {},
   "outputs": [
    {
     "name": "stderr",
     "output_type": "stream",
     "text": [
      "Warning message:\n",
      "“Continuous limits supplied to discrete scale.\n",
      "Did you mean `limits = factor(...)` or `scale_*_continuous()`?”\n"
     ]
    },
    {
     "data": {
      "image/png": "[encoded data removed]",
      "text/plain": [
       "plot without title"
      ]
     },
     "metadata": {
      "image/png": {
       "height": 420,
       "width": 420
      }
     },
     "output_type": "display_data"
    }
   ],
   "source": [
    "min_nonZero = min(res_hallmarks[, \"nonZeroFacs\"]) \n",
    "max_nonZero = max(res_hallmarks[, \"nonZeroFacs\"]) \n",
    "g <- ggplot(res_hallmarks, aes(x=nonZeroFacs,y=selectivity)) + \n",
    "    geom_point(aes(colour = methods), size=5, alpha=.6, position=position_jitter(h=0, w=0.15))+ \n",
    "    theme_bw() + \n",
    "    scale_shape_manual(values=c(15,17,16)) + \n",
    "    scale_color_manual(values=c('#FF00FF', '#FF6E28', '#C8961E', '#FF0000', '#0000FF', '#A0A0A0', '#48D1CC', '#00FF00')) +\n",
    "    ylim(floor(min((res_hallmarks[,\"selectivity\"]*10)-.4)) / 10,\n",
    "         ceiling(max((res_hallmarks[,\"selectivity\"]*10)+.2)) / 10) +\n",
    "    labs(title=\"Biological annotations: HALLMARKS\", \n",
    "         x=\"# metagenes (factors) enriched in at least one annotation\") +\n",
    "    theme(plot.title = element_text(size=14,face=\"bold\"),\n",
    "          axis.text = element_text(size=11),\n",
    "          axis.title = element_text(size=13),\n",
    "          legend.text=element_text(size=10)) +\n",
    "    ylab(\"Selectivity\") + \n",
    "    labs(colour = \"methods\") +\n",
    "    guides(color = guide_legend(order = 1),shape = guide_legend(order = 2),size = guide_legend(order = 3)) + \n",
    "    scale_x_discrete(limits=min_nonZero:max_nonZero, labels = c(min_nonZero:max_nonZero));\n",
    "g"
   ]
  },
  {
   "cell_type": "code",
   "execution_count": 72,
   "id": "f7cc0c42-9214-47c7-be03-9456d81b1c5d",
   "metadata": {},
   "outputs": [
    {
     "data": {
      "text/html": [
       "<table class=\"dataframe\">\n",
       "<caption>A data.frame: 5 × 4</caption>\n",
       "<thead>\n",
       "\t<tr><th></th><th scope=col>selectivity</th><th scope=col>nonZeroFacs</th><th scope=col>total_pathways</th><th scope=col>methods</th></tr>\n",
       "\t<tr><th></th><th scope=col>&lt;dbl&gt;</th><th scope=col>&lt;dbl&gt;</th><th scope=col>&lt;dbl&gt;</th><th scope=col>&lt;chr&gt;</th></tr>\n",
       "</thead>\n",
       "<tbody>\n",
       "\t<tr><th scope=row>n</th><td>1.0000000</td><td>2</td><td>2</td><td>MOFA2   </td></tr>\n",
       "\t<tr><th scope=row>n1</th><td>1.0000000</td><td>6</td><td>6</td><td>liger   </td></tr>\n",
       "\t<tr><th scope=row>n2</th><td>1.0000000</td><td>2</td><td>2</td><td>MCIA    </td></tr>\n",
       "\t<tr><th scope=row>n3</th><td>0.8571429</td><td>7</td><td>5</td><td>tICA    </td></tr>\n",
       "\t<tr><th scope=row>n4</th><td>1.0000000</td><td>7</td><td>7</td><td>iCluster</td></tr>\n",
       "</tbody>\n",
       "</table>\n"
      ],
      "text/latex": [
       "A data.frame: 5 × 4\n",
       "\\begin{tabular}{r|llll}\n",
       "  & selectivity & nonZeroFacs & total\\_pathways & methods\\\\\n",
       "  & <dbl> & <dbl> & <dbl> & <chr>\\\\\n",
       "\\hline\n",
       "\tn & 1.0000000 & 2 & 2 & MOFA2   \\\\\n",
       "\tn1 & 1.0000000 & 6 & 6 & liger   \\\\\n",
       "\tn2 & 1.0000000 & 2 & 2 & MCIA    \\\\\n",
       "\tn3 & 0.8571429 & 7 & 5 & tICA    \\\\\n",
       "\tn4 & 1.0000000 & 7 & 7 & iCluster\\\\\n",
       "\\end{tabular}\n"
      ],
      "text/markdown": [
       "\n",
       "A data.frame: 5 × 4\n",
       "\n",
       "| <!--/--> | selectivity &lt;dbl&gt; | nonZeroFacs &lt;dbl&gt; | total_pathways &lt;dbl&gt; | methods &lt;chr&gt; |\n",
       "|---|---|---|---|---|\n",
       "| n | 1.0000000 | 2 | 2 | MOFA2    |\n",
       "| n1 | 1.0000000 | 6 | 6 | liger    |\n",
       "| n2 | 1.0000000 | 2 | 2 | MCIA     |\n",
       "| n3 | 0.8571429 | 7 | 5 | tICA     |\n",
       "| n4 | 1.0000000 | 7 | 7 | iCluster |\n",
       "\n"
      ],
      "text/plain": [
       "   selectivity nonZeroFacs total_pathways methods \n",
       "n  1.0000000   2           2              MOFA2   \n",
       "n1 1.0000000   6           6              liger   \n",
       "n2 1.0000000   2           2              MCIA    \n",
       "n3 0.8571429   7           5              tICA    \n",
       "n4 1.0000000   7           7              iCluster"
      ]
     },
     "metadata": {},
     "output_type": "display_data"
    }
   ],
   "source": [
    "res_reactome <- rbind(res_mofa_reactome, res_liger_reactome, res_mcia_reactome, res_tica_reactome, res_icluster_reactome)\n",
    "res_reactome$methods <- c(\"MOFA2\", \"liger\", \"MCIA\", \"tICA\", \"iCluster\")\n",
    "res_reactome"
   ]
  },
  {
   "cell_type": "code",
   "execution_count": 73,
   "id": "88f396d7-801b-440e-8496-9dada19f4f1b",
   "metadata": {},
   "outputs": [
    {
     "name": "stderr",
     "output_type": "stream",
     "text": [
      "Warning message:\n",
      "“Continuous limits supplied to discrete scale.\n",
      "Did you mean `limits = factor(...)` or `scale_*_continuous()`?”\n"
     ]
    },
    {
     "data": {
      "image/png": "[encoded data removed]",
      "text/plain": [
       "plot without title"
      ]
     },
     "metadata": {
      "image/png": {
       "height": 420,
       "width": 420
      }
     },
     "output_type": "display_data"
    }
   ],
   "source": [
    "min_nonZero = min(res_reactome[, \"nonZeroFacs\"]) \n",
    "max_nonZero = max(res_reactome[, \"nonZeroFacs\"]) \n",
    "g <- ggplot(res_reactome, aes(x=nonZeroFacs,y=selectivity)) + \n",
    "    geom_point(aes(colour = methods), size=5, alpha=.6, position=position_jitter(h=0, w=0.15))+ \n",
    "    theme_bw() + \n",
    "    scale_shape_manual(values=c(15,17,16)) + \n",
    "    scale_color_manual(values=c('#FF00FF', '#FF6E28', '#C8961E', '#FF0000', '#0000FF', '#A0A0A0', '#48D1CC', '#00FF00')) +\n",
    "    ylim(floor(min((res_reactome[,\"selectivity\"]*10)-.4)) / 10,\n",
    "         ceiling(max((res_reactome[,\"selectivity\"]*10)+.2)) / 10) +\n",
    "    labs(title=\"Biological annotations: REACTOME\", \n",
    "         x=\"# metagenes (factors) enriched in at least one annotation\") +\n",
    "    theme(plot.title = element_text(size=14,face=\"bold\"),\n",
    "          axis.text = element_text(size=11),\n",
    "          axis.title = element_text(size=13),\n",
    "          legend.text=element_text(size=10)) +\n",
    "    ylab(\"Selectivity\") + \n",
    "    labs(colour = \"methods\") +\n",
    "    guides(color = guide_legend(order = 1),shape = guide_legend(order = 2),size = guide_legend(order = 3)) + \n",
    "    scale_x_discrete(limits=min_nonZero:max_nonZero, labels = c(min_nonZero:max_nonZero));\n",
    "g"
   ]
  },
  {
   "cell_type": "code",
   "execution_count": 74,
   "id": "740bb1ae-6d45-4d07-b57d-abfb70be1a99",
   "metadata": {},
   "outputs": [],
   "source": [
    "save(res_go, res_reactome, res_hallmarks, file = \"/sibcb1/chenluonanlab6/zhangchuanchao2/ASTAR-seq/benchmark/astar_annotations.Rdata\")"
   ]
  },
  {
   "cell_type": "code",
   "execution_count": null,
   "id": "49ccc1c5-364a-4903-88e6-da6a73b43201",
   "metadata": {},
   "outputs": [],
   "source": []
  }
 ],
 "metadata": {
  "kernelspec": {
   "display_name": "R",
   "language": "R",
   "name": "ir"
  },
  "language_info": {
   "codemirror_mode": "r",
   "file_extension": ".r",
   "mimetype": "text/x-r-source",
   "name": "R",
   "pygments_lexer": "r",
   "version": "4.1.0"
  }
 },
 "nbformat": 4,
 "nbformat_minor": 5
}
