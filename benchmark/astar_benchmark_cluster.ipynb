{
 "cells": [
  {
   "cell_type": "code",
   "execution_count": 1,
   "id": "ef3901c7-5b3b-4e0b-9944-dce239a292c9",
   "metadata": {
    "collapsed": true,
    "jupyter": {
     "outputs_hidden": true
    },
    "tags": []
   },
   "outputs": [
    {
     "name": "stderr",
     "output_type": "stream",
     "text": [
      "Loading required package: cowplot\n",
      "\n",
      "Loading required package: Matrix\n",
      "\n",
      "Loading required package: patchwork\n",
      "\n",
      "\n",
      "Attaching package: ‘patchwork’\n",
      "\n",
      "\n",
      "The following object is masked from ‘package:cowplot’:\n",
      "\n",
      "    align_plots\n",
      "\n",
      "\n",
      "Registered S3 method overwritten by 'spatstat.geom':\n",
      "  method     from\n",
      "  print.boxx cli \n",
      "\n",
      "Attaching SeuratObject\n",
      "\n",
      "\n",
      "Attaching package: ‘MOFA2’\n",
      "\n",
      "\n",
      "The following object is masked from ‘package:stats’:\n",
      "\n",
      "    predict\n",
      "\n",
      "\n"
     ]
    }
   ],
   "source": [
    "library(rliger)\n",
    "library(Seurat)\n",
    "library(cluster)\n",
    "library(MOFA2)\n",
    "library(Signac)\n",
    "library(umap)\n",
    "seurat <- readRDS(\"/sibcb1/chenluonanlab6/zhangchuanchao2/ASTAR-seq/process/astar_seurat.rds\")\n",
    "mofa <- readRDS(\"/sibcb1/chenluonanlab6/zhangchuanchao2/ASTAR-seq/process/astar_mofa.rds\")\n",
    "liger <- readRDS(\"/sibcb1/chenluonanlab6/zhangchuanchao2/ASTAR-seq/process/astar_liger.rds\")\n",
    "mcia <- readRDS(\"/sibcb1/chenluonanlab6/zhangchuanchao2/ASTAR-seq/process/astar_mcia.rds\")\n",
    "icluster <- readRDS(\"/sibcb1/chenluonanlab6/zhangchuanchao2/ASTAR-seq/process/astar_icluster.rds\")\n",
    "tica <- readRDS(\"/sibcb1/chenluonanlab6/zhangchuanchao2/ASTAR-seq/process/astar_tica.rds\")"
   ]
  },
  {
   "cell_type": "code",
   "execution_count": null,
   "id": "59e88b19-f1cc-44f2-8b27-9c9dfef41c94",
   "metadata": {},
   "outputs": [],
   "source": [
    "# silhoutte"
   ]
  },
  {
   "cell_type": "code",
   "execution_count": null,
   "id": "4edf145a-9d67-45fb-bbb0-c7a5e74e6c49",
   "metadata": {},
   "outputs": [],
   "source": [
    "## 未整合前\n",
    "# RNA"
   ]
  },
  {
   "cell_type": "code",
   "execution_count": 2,
   "id": "a87ec1b6-9bb1-4d05-8c38-9d77e76f6b45",
   "metadata": {},
   "outputs": [
    {
     "data": {
      "text/plain": [
       "An object of class Seurat \n",
       "709875 features across 378 samples within 3 assays \n",
       "Active assay: SCT (16668 features, 3000 variable features)\n",
       " 2 other assays present: RNA, ATAC\n",
       " 5 dimensional reductions calculated: lsi, umap.atac, pca, umap.rna, wnn.umap"
      ]
     },
     "metadata": {},
     "output_type": "display_data"
    }
   ],
   "source": [
    "seurat"
   ]
  },
  {
   "cell_type": "code",
   "execution_count": 4,
   "id": "c1be68b4-da03-41c0-a5dd-c6883b674389",
   "metadata": {},
   "outputs": [],
   "source": [
    "cluster <- samples_metadata(mofa)$orig.ident"
   ]
  },
  {
   "cell_type": "code",
   "execution_count": 5,
   "id": "ec854365-2151-41cb-bec5-f137b53153fa",
   "metadata": {},
   "outputs": [],
   "source": [
    "distance.rna <- Embeddings(object = seurat[[\"umap.rna\"]])\n",
    "silhouette_rna <- silhouette(as.integer(as.factor(cluster)), dist(as.data.frame(distance.rna)))"
   ]
  },
  {
   "cell_type": "code",
   "execution_count": 6,
   "id": "50c44aaa-2077-4221-a4cf-09414583cde2",
   "metadata": {},
   "outputs": [
    {
     "data": {
      "text/plain": [
       "Silhouette of 378 units in 4 clusters from silhouette.default(x = as.integer(as.factor(cluster)), dist = dist(as.data.frame(distance.rna))) :\n",
       " Cluster sizes and average silhouette widths:\n",
       "       96        91        95        96 \n",
       "0.8572307 0.7911935 0.7924248 0.7527718 \n",
       "Individual silhouette widths:\n",
       "   Min. 1st Qu.  Median    Mean 3rd Qu.    Max. \n",
       "-0.8758  0.8073  0.8508  0.7985  0.8834  0.9053 "
      ]
     },
     "metadata": {},
     "output_type": "display_data"
    }
   ],
   "source": [
    "summary(silhouette_rna)"
   ]
  },
  {
   "cell_type": "code",
   "execution_count": 7,
   "id": "e0103609-bdf8-4fe0-9f62-b2b5d824935e",
   "metadata": {},
   "outputs": [],
   "source": [
    "sil.rna.sum <- data.frame(cluster = silhouette_rna[,\"cluster\"], score = silhouette_rna[,\"sil_width\"])\n",
    "sil.rna.sum$method <- \"RNA-seq\""
   ]
  },
  {
   "cell_type": "code",
   "execution_count": null,
   "id": "eda4fc19-8336-40f4-9d38-dd10f472ae6f",
   "metadata": {},
   "outputs": [],
   "source": []
  },
  {
   "cell_type": "code",
   "execution_count": null,
   "id": "3ee770bf-5e6e-431f-b851-9823a86b7712",
   "metadata": {},
   "outputs": [],
   "source": []
  },
  {
   "cell_type": "code",
   "execution_count": null,
   "id": "f4a6f235-0467-40fc-9fc8-a34145463947",
   "metadata": {},
   "outputs": [],
   "source": [
    "# ATAC"
   ]
  },
  {
   "cell_type": "code",
   "execution_count": 8,
   "id": "7accfeaa-7095-4c5f-988a-ab784824d7df",
   "metadata": {},
   "outputs": [
    {
     "data": {
      "text/plain": [
       "Silhouette of 378 units in 4 clusters from silhouette.default(x = as.integer(as.factor(cluster)), dist = dist(as.data.frame(distance.atac))) :\n",
       " Cluster sizes and average silhouette widths:\n",
       "         96          91          95          96 \n",
       "-0.02307063  0.58863886  0.82158284  0.14214151 \n",
       "Individual silhouette widths:\n",
       "    Min.  1st Qu.   Median     Mean  3rd Qu.     Max. \n",
       "-0.81345  0.03098  0.30256  0.37843  0.78558  0.85612 "
      ]
     },
     "metadata": {},
     "output_type": "display_data"
    }
   ],
   "source": [
    "distance.atac <- Embeddings(object = seurat[[\"umap.atac\"]])\n",
    "silhouette_atac <- silhouette(as.integer(as.factor(cluster)), dist(as.data.frame(distance.atac)))\n",
    "summary(silhouette_atac)"
   ]
  },
  {
   "cell_type": "code",
   "execution_count": 9,
   "id": "e73a3237-2aad-4edd-bd2d-7bc1db80668b",
   "metadata": {},
   "outputs": [],
   "source": [
    "sil.atac.sum <- data.frame(cluster = silhouette_atac[,\"cluster\"], score = silhouette_atac[,\"sil_width\"])\n",
    "sil.atac.sum$method <- \"ATAC-seq\""
   ]
  },
  {
   "cell_type": "code",
   "execution_count": null,
   "id": "29630e80-db1c-4fd8-acf9-3b8a2e3b5ffe",
   "metadata": {},
   "outputs": [],
   "source": []
  },
  {
   "cell_type": "code",
   "execution_count": null,
   "id": "0b29f7a2-7b4e-4f0a-9c31-39c000b46ffa",
   "metadata": {},
   "outputs": [],
   "source": [
    "# Seurat"
   ]
  },
  {
   "cell_type": "code",
   "execution_count": 10,
   "id": "b3501def-7d7a-45d4-be61-9d16bd2beabd",
   "metadata": {},
   "outputs": [
    {
     "data": {
      "text/plain": [
       "Silhouette of 378 units in 4 clusters from silhouette.default(x = as.integer(as.factor(cluster)), dist = dist(as.data.frame(distance.seurat))) :\n",
       " Cluster sizes and average silhouette widths:\n",
       "       96        91        95        96 \n",
       "0.8473086 0.5785851 0.8270488 0.7811337 \n",
       "Individual silhouette widths:\n",
       "   Min. 1st Qu.  Median    Mean 3rd Qu.    Max. \n",
       "-0.8142  0.7359  0.8177  0.7607  0.8552  0.8985 "
      ]
     },
     "metadata": {},
     "output_type": "display_data"
    }
   ],
   "source": [
    "distance.seurat <- Embeddings(object = seurat[[\"wnn.umap\"]])\n",
    "silhouette_seurat <- silhouette(as.integer(as.factor(cluster)), dist(as.data.frame(distance.seurat)))\n",
    "summary(silhouette_seurat)\n",
    "sil.seurat.sum <- data.frame(cluster = silhouette_seurat[,\"cluster\"], score = silhouette_seurat[,\"sil_width\"])\n",
    "sil.seurat.sum$method <- \"Seurat\""
   ]
  },
  {
   "cell_type": "code",
   "execution_count": null,
   "id": "88b63ccd-9bc1-4025-8ea9-efa02cbdf309",
   "metadata": {},
   "outputs": [],
   "source": []
  },
  {
   "cell_type": "code",
   "execution_count": null,
   "id": "dc0e25e6-cf76-4c57-a1ea-6852aa5cf75b",
   "metadata": {},
   "outputs": [],
   "source": [
    "# mofa"
   ]
  },
  {
   "cell_type": "code",
   "execution_count": 12,
   "id": "66bb6ebb-5204-4a64-bf54-8b54abf5235d",
   "metadata": {},
   "outputs": [],
   "source": [
    "mofa <- run_umap(mofa)"
   ]
  },
  {
   "cell_type": "code",
   "execution_count": 13,
   "id": "2ee56b99-7a9c-48f8-8eee-34fa4ebe37ca",
   "metadata": {},
   "outputs": [
    {
     "data": {
      "text/plain": [
       "Silhouette of 378 units in 4 clusters from silhouette.default(x = as.integer(as.factor(cluster)), dist = dist(mofa@dim_red$UMAP[,  from     c(2, 3)])) :\n",
       " Cluster sizes and average silhouette widths:\n",
       "         96          91          95          96 \n",
       " 0.30966712  0.23324064  0.25975025 -0.02147098 \n",
       "Individual silhouette widths:\n",
       "    Min.  1st Qu.   Median     Mean  3rd Qu.     Max. \n",
       "-0.51795  0.04807  0.25353  0.19462  0.47218  0.52910 "
      ]
     },
     "metadata": {},
     "output_type": "display_data"
    }
   ],
   "source": [
    "silhouette_mofa <- silhouette(as.integer(as.factor(cluster)), dist(mofa@dim_red$UMAP[,c(2,3)]))\n",
    "summary(silhouette_mofa)\n",
    "sil.mofa.sum <- data.frame(cluster = silhouette_mofa[,\"cluster\"], score = silhouette_mofa[,\"sil_width\"])\n",
    "sil.mofa.sum$method <- \"MOFA2\""
   ]
  },
  {
   "cell_type": "code",
   "execution_count": null,
   "id": "3c6cfde1-4d94-4004-a0a9-da708ade5129",
   "metadata": {},
   "outputs": [],
   "source": []
  },
  {
   "cell_type": "code",
   "execution_count": null,
   "id": "032457df-73ac-438e-84ab-9e142492a1dc",
   "metadata": {},
   "outputs": [],
   "source": [
    "# liger"
   ]
  },
  {
   "cell_type": "code",
   "execution_count": 8,
   "id": "170a49c1-a777-4d2f-9348-9179c9e22719",
   "metadata": {},
   "outputs": [],
   "source": [
    "library(cluster)"
   ]
  },
  {
   "cell_type": "code",
   "execution_count": 1,
   "id": "5333aa8e-9e9a-4bbe-9842-7a59b85ae649",
   "metadata": {
    "collapsed": true,
    "jupyter": {
     "outputs_hidden": true
    },
    "tags": []
   },
   "outputs": [
    {
     "name": "stderr",
     "output_type": "stream",
     "text": [
      "Loading required package: cowplot\n",
      "\n",
      "Loading required package: Matrix\n",
      "\n",
      "Loading required package: patchwork\n",
      "\n",
      "\n",
      "Attaching package: ‘patchwork’\n",
      "\n",
      "\n",
      "The following object is masked from ‘package:cowplot’:\n",
      "\n",
      "    align_plots\n",
      "\n",
      "\n"
     ]
    }
   ],
   "source": [
    "library(rliger)\n",
    "liger <- readRDS(\"/sibcb1/chenluonanlab6/zhangchuanchao2/ASTAR-seq/process/astar_liger.rds\")"
   ]
  },
  {
   "cell_type": "code",
   "execution_count": null,
   "id": "b10607aa-2ce0-49d2-b9b1-2df7a7e88748",
   "metadata": {},
   "outputs": [],
   "source": [
    "# liger的embedding和降维\n",
    "liger@H.norm\n",
    "liger@tsne.coords"
   ]
  },
  {
   "cell_type": "code",
   "execution_count": 17,
   "id": "ba7cb7a3-0d7a-470b-a119-e2ceb2106389",
   "metadata": {},
   "outputs": [
    {
     "data": {
      "text/html": [
       "<style>\n",
       ".list-inline {list-style: none; margin:0; padding: 0}\n",
       ".list-inline>li {display: inline-block}\n",
       ".list-inline>li:not(:last-child)::after {content: \"\\00b7\"; padding: 0 .5ex}\n",
       "</style>\n",
       "<ol class=list-inline><li>728</li><li>2</li></ol>\n"
      ],
      "text/latex": [
       "\\begin{enumerate*}\n",
       "\\item 728\n",
       "\\item 2\n",
       "\\end{enumerate*}\n"
      ],
      "text/markdown": [
       "1. 728\n",
       "2. 2\n",
       "\n",
       "\n"
      ],
      "text/plain": [
       "[1] 728   2"
      ]
     },
     "metadata": {},
     "output_type": "display_data"
    }
   ],
   "source": [
    "dim(liger@tsne.coords)"
   ]
  },
  {
   "cell_type": "code",
   "execution_count": null,
   "id": "92d522a2-c066-439b-b993-57db161bba4a",
   "metadata": {},
   "outputs": [],
   "source": [
    "# 展示icluster对细胞的分类\n",
    "liger@clusters"
   ]
  },
  {
   "cell_type": "code",
   "execution_count": null,
   "id": "577bb6b2-b8ac-4c99-805a-45021162d46e",
   "metadata": {},
   "outputs": [],
   "source": [
    "strsplit(rownames(liger@tsne.coords), \"_\")"
   ]
  },
  {
   "cell_type": "code",
   "execution_count": null,
   "id": "c952bf79-8059-42e5-9f02-bcc360234f59",
   "metadata": {},
   "outputs": [],
   "source": [
    "# 得到真实分类"
   ]
  },
  {
   "cell_type": "code",
   "execution_count": 2,
   "id": "84b9983e-fe73-4e7e-9540-22afd542a726",
   "metadata": {
    "tags": []
   },
   "outputs": [],
   "source": [
    "cluster <- list()\n",
    "list0 <- strsplit(rownames(liger@tsne.coords), \"_\")\n",
    "for (i in c(1:728)){\n",
    "    if (i <= 351){\n",
    "        cluster[i] <- list0[[i]][1]\n",
    "    }\n",
    "    else {\n",
    "        cluster[i] <- list0[[i]][2]\n",
    "    }\n",
    "}"
   ]
  },
  {
   "cell_type": "code",
   "execution_count": 3,
   "id": "8dab8aa8-f3ae-40c8-a702-742f9860e71b",
   "metadata": {},
   "outputs": [],
   "source": [
    "liger <- quantile_norm(liger)\n",
    "liger <- runUMAP(liger)"
   ]
  },
  {
   "cell_type": "code",
   "execution_count": 4,
   "id": "214170e4-79a5-469f-a60e-32155942685d",
   "metadata": {},
   "outputs": [],
   "source": [
    "cluster_cell <- list()\n",
    "for (i in c(1:728)){\n",
    "    if (i <= 351){\n",
    "        cluster_cell[i] <- \"ATAC_seq\"\n",
    "    }\n",
    "    else {\n",
    "        cluster_cell[i] <- \"RNA_seq\"\n",
    "    }\n",
    "}"
   ]
  },
  {
   "cell_type": "code",
   "execution_count": 6,
   "id": "21f4d80f-71fd-475f-aead-ff2e416327ab",
   "metadata": {
    "tags": []
   },
   "outputs": [
    {
     "data": {
      "text/html": [
       "728"
      ],
      "text/latex": [
       "728"
      ],
      "text/markdown": [
       "728"
      ],
      "text/plain": [
       "[1] 728"
      ]
     },
     "metadata": {},
     "output_type": "display_data"
    }
   ],
   "source": [
    "length(cluster_cell)"
   ]
  },
  {
   "cell_type": "code",
   "execution_count": 9,
   "id": "1a7a04ee-8c70-4cdf-a0eb-12efe2073f6a",
   "metadata": {
    "tags": []
   },
   "outputs": [
    {
     "data": {
      "text/plain": [
       "Silhouette of 728 units in 5 clusters from silhouette.default(x = as.integer(as.factor(as.character(cluster))),  from     dist = dist(liger@tsne.coords)) :\n",
       " Cluster sizes and average silhouette widths:\n",
       "        191         155         190         191           1 \n",
       "-0.03278908 -0.51534282  0.52547597  0.58869386  0.00000000 \n",
       "Individual silhouette widths:\n",
       "   Min. 1st Qu.  Median    Mean 3rd Qu.    Max. \n",
       "-0.9988 -0.1593  0.3760  0.1733  0.5940  0.6633 "
      ]
     },
     "metadata": {},
     "output_type": "display_data"
    }
   ],
   "source": [
    "silhouette_liger_cell <- silhouette(as.integer(as.factor(as.character(cluster))), dist(liger@tsne.coords))\n",
    "summary(silhouette_liger_cell)"
   ]
  },
  {
   "cell_type": "code",
   "execution_count": 77,
   "id": "3715d3bf-a110-4957-9898-a2386c5f4d80",
   "metadata": {
    "tags": []
   },
   "outputs": [
    {
     "data": {
      "text/html": [
       "<table class=\"dataframe\">\n",
       "<caption>A matrix: 6 × 3 of type dbl</caption>\n",
       "<thead>\n",
       "\t<tr><th scope=col>cluster</th><th scope=col>neighbor</th><th scope=col>sil_width</th></tr>\n",
       "</thead>\n",
       "<tbody>\n",
       "\t<tr><td>2</td><td>4</td><td>-0.1833282</td></tr>\n",
       "\t<tr><td>2</td><td>3</td><td>-0.3227769</td></tr>\n",
       "\t<tr><td>2</td><td>3</td><td>-0.2045621</td></tr>\n",
       "\t<tr><td>2</td><td>3</td><td>-0.2661756</td></tr>\n",
       "\t<tr><td>2</td><td>3</td><td>-0.2154869</td></tr>\n",
       "\t<tr><td>2</td><td>3</td><td>-0.1984578</td></tr>\n",
       "</tbody>\n",
       "</table>\n"
      ],
      "text/latex": [
       "A matrix: 6 × 3 of type dbl\n",
       "\\begin{tabular}{lll}\n",
       " cluster & neighbor & sil\\_width\\\\\n",
       "\\hline\n",
       "\t 2 & 4 & -0.1833282\\\\\n",
       "\t 2 & 3 & -0.3227769\\\\\n",
       "\t 2 & 3 & -0.2045621\\\\\n",
       "\t 2 & 3 & -0.2661756\\\\\n",
       "\t 2 & 3 & -0.2154869\\\\\n",
       "\t 2 & 3 & -0.1984578\\\\\n",
       "\\end{tabular}\n"
      ],
      "text/markdown": [
       "\n",
       "A matrix: 6 × 3 of type dbl\n",
       "\n",
       "| cluster | neighbor | sil_width |\n",
       "|---|---|---|\n",
       "| 2 | 4 | -0.1833282 |\n",
       "| 2 | 3 | -0.3227769 |\n",
       "| 2 | 3 | -0.2045621 |\n",
       "| 2 | 3 | -0.2661756 |\n",
       "| 2 | 3 | -0.2154869 |\n",
       "| 2 | 3 | -0.1984578 |\n",
       "\n"
      ],
      "text/plain": [
       "     cluster neighbor sil_width \n",
       "[1,] 2       4        -0.1833282\n",
       "[2,] 2       3        -0.3227769\n",
       "[3,] 2       3        -0.2045621\n",
       "[4,] 2       3        -0.2661756\n",
       "[5,] 2       3        -0.2154869\n",
       "[6,] 2       3        -0.1984578"
      ]
     },
     "metadata": {},
     "output_type": "display_data"
    }
   ],
   "source": [
    "head(silhouette_liger_cell)"
   ]
  },
  {
   "cell_type": "code",
   "execution_count": 10,
   "id": "ae9d0e4a-dd8c-4dfd-90c3-3e912d340da4",
   "metadata": {},
   "outputs": [],
   "source": [
    "sil.liger.sum <- data.frame(cluster = silhouette_liger_cell[,\"cluster\"], score = silhouette_liger_cell[,\"sil_width\"])\n",
    "sil.liger.sum$method <- \"LIGER\""
   ]
  },
  {
   "cell_type": "code",
   "execution_count": 21,
   "id": "36fc1deb-528c-4b0b-bdde-3f54aa991162",
   "metadata": {},
   "outputs": [
    {
     "data": {
      "text/plain": [
       "Silhouette of 728 units in 2 clusters from silhouette.default(x = as.integer(as.factor(as.character(cluster_cell))),  from     dist = dist(liger@tsne.coords)) :\n",
       " Cluster sizes and average silhouette widths:\n",
       "      351       377 \n",
       "0.3549302 0.2216265 \n",
       "Individual silhouette widths:\n",
       "   Min. 1st Qu.  Median    Mean 3rd Qu.    Max. \n",
       "-0.3440  0.2682  0.3266  0.2859  0.3965  0.5044 "
      ]
     },
     "metadata": {},
     "output_type": "display_data"
    }
   ],
   "source": [
    "silhouette_liger_batch <- silhouette(as.integer(as.factor(as.character(cluster_cell))), dist(liger@tsne.coords))\n",
    "summary(silhouette_liger_batch)"
   ]
  },
  {
   "cell_type": "code",
   "execution_count": 22,
   "id": "b7f25a04-323c-4f93-acc5-7ef7dc560075",
   "metadata": {},
   "outputs": [],
   "source": [
    "# F1=2SILcell type (1 − SILbatch) / (1 − SILbatch + SILcell type)\n",
    "F1 = 2 * silhouette_liger_cell[,\"sil_width\"] * (1 - silhouette_liger_batch[,\"sil_width\"]) / (1 - silhouette_liger_batch[,\"sil_width\"] + silhouette_liger_cell[,\"sil_width\"]) "
   ]
  },
  {
   "cell_type": "code",
   "execution_count": null,
   "id": "a07c8bcc-d281-4d3e-ab03-ef8311ffe8a1",
   "metadata": {},
   "outputs": [],
   "source": [
    "silhouette_liger_cell"
   ]
  },
  {
   "cell_type": "code",
   "execution_count": 80,
   "id": "e25caf6e-415f-4f95-8485-0c208d11f235",
   "metadata": {},
   "outputs": [
    {
     "data": {
      "text/plain": [
       "      Min.    1st Qu.     Median       Mean    3rd Qu.       Max. \n",
       "-1297.8610    -0.1325     0.5399    -2.0054     0.6576    51.8239 "
      ]
     },
     "metadata": {},
     "output_type": "display_data"
    }
   ],
   "source": [
    "summary(F1)"
   ]
  },
  {
   "cell_type": "code",
   "execution_count": 25,
   "id": "ef0b17e8-5c06-4a84-88ee-016d767bf244",
   "metadata": {
    "tags": []
   },
   "outputs": [],
   "source": [
    "silhouette_liger_F1 <- silhouette_liger_cell\n",
    "silhouette_liger_F1[,\"sil_width\"] <- F1"
   ]
  },
  {
   "cell_type": "code",
   "execution_count": 27,
   "id": "bfa911d5-c7cd-4679-b7bc-2858bb72da9b",
   "metadata": {},
   "outputs": [],
   "source": [
    "sil.liger.sum <- data.frame(cluster = silhouette_liger_F1[,\"cluster\"], score = silhouette_liger_F1[,\"sil_width\"])\n",
    "sil.liger.sum$method <- \"LIGER\""
   ]
  },
  {
   "cell_type": "code",
   "execution_count": 35,
   "id": "38803d73-ed8d-463a-80ff-725c0b0a7416",
   "metadata": {},
   "outputs": [
    {
     "data": {
      "text/html": [
       "<table class=\"dataframe\">\n",
       "<caption>A data.frame: 6 × 3</caption>\n",
       "<thead>\n",
       "\t<tr><th></th><th scope=col>cluster</th><th scope=col>score</th><th scope=col>method</th></tr>\n",
       "\t<tr><th></th><th scope=col>&lt;dbl&gt;</th><th scope=col>&lt;dbl&gt;</th><th scope=col>&lt;chr&gt;</th></tr>\n",
       "</thead>\n",
       "<tbody>\n",
       "\t<tr><th scope=row>1</th><td>2</td><td>-0.5234939</td><td>LIGER</td></tr>\n",
       "\t<tr><th scope=row>2</th><td>2</td><td>-1.2782107</td><td>LIGER</td></tr>\n",
       "\t<tr><th scope=row>3</th><td>2</td><td>-0.6111234</td><td>LIGER</td></tr>\n",
       "\t<tr><th scope=row>4</th><td>2</td><td>-0.9092301</td><td>LIGER</td></tr>\n",
       "\t<tr><th scope=row>5</th><td>2</td><td>-0.6592883</td><td>LIGER</td></tr>\n",
       "\t<tr><th scope=row>6</th><td>2</td><td>-0.5814859</td><td>LIGER</td></tr>\n",
       "</tbody>\n",
       "</table>\n"
      ],
      "text/latex": [
       "A data.frame: 6 × 3\n",
       "\\begin{tabular}{r|lll}\n",
       "  & cluster & score & method\\\\\n",
       "  & <dbl> & <dbl> & <chr>\\\\\n",
       "\\hline\n",
       "\t1 & 2 & -0.5234939 & LIGER\\\\\n",
       "\t2 & 2 & -1.2782107 & LIGER\\\\\n",
       "\t3 & 2 & -0.6111234 & LIGER\\\\\n",
       "\t4 & 2 & -0.9092301 & LIGER\\\\\n",
       "\t5 & 2 & -0.6592883 & LIGER\\\\\n",
       "\t6 & 2 & -0.5814859 & LIGER\\\\\n",
       "\\end{tabular}\n"
      ],
      "text/markdown": [
       "\n",
       "A data.frame: 6 × 3\n",
       "\n",
       "| <!--/--> | cluster &lt;dbl&gt; | score &lt;dbl&gt; | method &lt;chr&gt; |\n",
       "|---|---|---|---|\n",
       "| 1 | 2 | -0.5234939 | LIGER |\n",
       "| 2 | 2 | -1.2782107 | LIGER |\n",
       "| 3 | 2 | -0.6111234 | LIGER |\n",
       "| 4 | 2 | -0.9092301 | LIGER |\n",
       "| 5 | 2 | -0.6592883 | LIGER |\n",
       "| 6 | 2 | -0.5814859 | LIGER |\n",
       "\n"
      ],
      "text/plain": [
       "  cluster score      method\n",
       "1 2       -0.5234939 LIGER \n",
       "2 2       -1.2782107 LIGER \n",
       "3 2       -0.6111234 LIGER \n",
       "4 2       -0.9092301 LIGER \n",
       "5 2       -0.6592883 LIGER \n",
       "6 2       -0.5814859 LIGER "
      ]
     },
     "metadata": {},
     "output_type": "display_data"
    }
   ],
   "source": [
    "head(sil.liger.sum)"
   ]
  },
  {
   "cell_type": "code",
   "execution_count": null,
   "id": "f3b6c6ee-5ec3-4676-87d0-3bdf38e7427c",
   "metadata": {},
   "outputs": [],
   "source": []
  },
  {
   "cell_type": "code",
   "execution_count": null,
   "id": "1853c11a-2944-4ac3-a0c9-df89cf5ffdaa",
   "metadata": {},
   "outputs": [],
   "source": [
    "#  mcia"
   ]
  },
  {
   "cell_type": "code",
   "execution_count": 16,
   "id": "d49a2e46-1662-4410-92e5-47279ee766f9",
   "metadata": {},
   "outputs": [
    {
     "name": "stderr",
     "output_type": "stream",
     "text": [
      "Warning message:\n",
      "“failed creating initial embedding; using random embedding instead”\n"
     ]
    },
    {
     "data": {
      "text/plain": [
       "Silhouette of 378 units in 4 clusters from silhouette.default(x = as.integer(as.factor(cluster)), dist = dist(umap_mcia_df)) :\n",
       " Cluster sizes and average silhouette widths:\n",
       "        96         91         95         96 \n",
       "-0.2041523  0.8911282  0.9422867 -0.2436298 \n",
       "Individual silhouette widths:\n",
       "   Min. 1st Qu.  Median    Mean 3rd Qu.    Max. \n",
       "-0.5469 -0.2510  0.1141  0.3376  0.9189  0.9571 "
      ]
     },
     "metadata": {},
     "output_type": "display_data"
    }
   ],
   "source": [
    "factors_mcia <- mcia$mcoa$SynVar\n",
    "umap_mcia <- umap(factors_mcia, metric=\"cosine\")\n",
    "umap_mcia_df <- data.frame(umap_mcia$layout)\n",
    "silhouette_mcia <- silhouette(as.integer(as.factor(cluster)), dist(umap_mcia_df))\n",
    "summary(silhouette_mcia)\n",
    "sil.mcia.sum <- data.frame(cluster = silhouette_mcia[,\"cluster\"], score = silhouette_mcia[,\"sil_width\"])\n",
    "sil.mcia.sum$method <- \"MCIA\""
   ]
  },
  {
   "cell_type": "code",
   "execution_count": null,
   "id": "2129867f-1cbe-4e0d-829c-4936d4259f7f",
   "metadata": {},
   "outputs": [],
   "source": []
  },
  {
   "cell_type": "code",
   "execution_count": null,
   "id": "5f0ff0db-f5b2-49be-afd0-217e0e9c0e86",
   "metadata": {},
   "outputs": [],
   "source": [
    "# tICA"
   ]
  },
  {
   "cell_type": "code",
   "execution_count": 24,
   "id": "f84e1c44-c4b1-4aad-8fe0-c2852295f67a",
   "metadata": {},
   "outputs": [
    {
     "name": "stderr",
     "output_type": "stream",
     "text": [
      "Warning message:\n",
      "“failed creating initial embedding; using random embedding instead”\n"
     ]
    },
    {
     "data": {
      "text/plain": [
       "Silhouette of 378 units in 4 clusters from silhouette.default(x = as.integer(as.factor(cluster)), dist = dist(umap_tica_df)) :\n",
       " Cluster sizes and average silhouette widths:\n",
       "         96          91          95          96 \n",
       "-0.04599547  0.83678319  0.87097037 -0.18004488 \n",
       "Individual silhouette widths:\n",
       "    Min.  1st Qu.   Median     Mean  3rd Qu.     Max. \n",
       "-0.65017 -0.08263  0.23074  0.36294  0.86212  0.90360 "
      ]
     },
     "metadata": {},
     "output_type": "display_data"
    }
   ],
   "source": [
    "factors_tica <- as.matrix(tica$signals)\n",
    "umap_tica <- umap(factors_tica, metric=\"cosine\")\n",
    "umap_tica_df <- data.frame(umap_tica$layout)\n",
    "silhouette_tica <- silhouette(as.integer(as.factor(cluster)), dist(umap_tica_df))\n",
    "summary(silhouette_tica)\n",
    "sil.tica.sum <- data.frame(cluster = silhouette_tica[,\"cluster\"], score = silhouette_tica[,\"sil_width\"])\n",
    "sil.tica.sum$method <- \"tICA\""
   ]
  },
  {
   "cell_type": "code",
   "execution_count": null,
   "id": "467b607a-8422-48cb-99b5-e4abdcffca81",
   "metadata": {},
   "outputs": [],
   "source": []
  },
  {
   "cell_type": "code",
   "execution_count": null,
   "id": "7fb9d04b-dae2-4fef-bc5f-93d80da47801",
   "metadata": {},
   "outputs": [],
   "source": [
    "# iCluster"
   ]
  },
  {
   "cell_type": "code",
   "execution_count": 25,
   "id": "163d1b56-3f53-432d-9a1d-bcd284c56220",
   "metadata": {},
   "outputs": [
    {
     "data": {
      "text/plain": [
       "Silhouette of 378 units in 4 clusters from silhouette.default(x = as.integer(as.factor(cluster)), dist = dist(umap_icluster_df)) :\n",
       " Cluster sizes and average silhouette widths:\n",
       "         96          91          95          96 \n",
       " 0.86692649 -0.07273676  0.35387899  0.46908171 \n",
       "Individual silhouette widths:\n",
       "   Min. 1st Qu.  Median    Mean 3rd Qu.    Max. \n",
       "-0.7099  0.2150  0.4304  0.4107  0.7929  0.8967 "
      ]
     },
     "metadata": {},
     "output_type": "display_data"
    }
   ],
   "source": [
    "umap_icluster <- umap(t(icluster$expZ), metric=\"cosine\")\n",
    "umap_icluster_df <- data.frame(umap_icluster$layout)\n",
    "silhouette_icluster <- silhouette(as.integer(as.factor(cluster)), dist(umap_icluster_df))\n",
    "summary(silhouette_icluster)\n",
    "sil.icluster.sum <- data.frame(cluster = silhouette_icluster[,\"cluster\"], score = silhouette_icluster[,\"sil_width\"])\n",
    "sil.icluster.sum$method <- \"iCluster\""
   ]
  },
  {
   "cell_type": "code",
   "execution_count": null,
   "id": "3327c424-e2cf-44f5-8964-500d7272c042",
   "metadata": {},
   "outputs": [],
   "source": []
  },
  {
   "cell_type": "code",
   "execution_count": null,
   "id": "cb9ba4b8-871c-41ce-96b5-4e47e9afd576",
   "metadata": {},
   "outputs": [],
   "source": [
    "# 综合分析"
   ]
  },
  {
   "cell_type": "code",
   "execution_count": null,
   "id": "703df4d1-9eb4-4264-9be5-26bde859692c",
   "metadata": {
    "collapsed": true,
    "jupyter": {
     "outputs_hidden": true
    },
    "tags": []
   },
   "outputs": [
    {
     "name": "stderr",
     "output_type": "stream",
     "text": [
      "── \u001b[1mAttaching packages\u001b[22m ─────────────────────────────────────────────────────────────────────────────── tidyverse 1.3.1 ──\n",
      "\n",
      "\u001b[32m✔\u001b[39m \u001b[34mggplot2\u001b[39m 3.3.5     \u001b[32m✔\u001b[39m \u001b[34mpurrr  \u001b[39m 0.3.4\n",
      "\u001b[32m✔\u001b[39m \u001b[34mtibble \u001b[39m 3.1.6     \u001b[32m✔\u001b[39m \u001b[34mdplyr  \u001b[39m 1.0.8\n",
      "\u001b[32m✔\u001b[39m \u001b[34mtidyr  \u001b[39m 1.2.0     \u001b[32m✔\u001b[39m \u001b[34mstringr\u001b[39m 1.4.0\n",
      "\u001b[32m✔\u001b[39m \u001b[34mreadr  \u001b[39m 2.1.2     \u001b[32m✔\u001b[39m \u001b[34mforcats\u001b[39m 0.5.1\n",
      "\n",
      "── \u001b[1mConflicts\u001b[22m ────────────────────────────────────────────────────────────────────────────────── tidyverse_conflicts() ──\n",
      "\u001b[31m✖\u001b[39m \u001b[34mtidyr\u001b[39m::\u001b[32mexpand()\u001b[39m masks \u001b[34mMatrix\u001b[39m::expand()\n",
      "\u001b[31m✖\u001b[39m \u001b[34mdplyr\u001b[39m::\u001b[32mfilter()\u001b[39m masks \u001b[34mstats\u001b[39m::filter()\n",
      "\u001b[31m✖\u001b[39m \u001b[34mdplyr\u001b[39m::\u001b[32mlag()\u001b[39m    masks \u001b[34mstats\u001b[39m::lag()\n",
      "\u001b[31m✖\u001b[39m \u001b[34mtidyr\u001b[39m::\u001b[32mpack()\u001b[39m   masks \u001b[34mMatrix\u001b[39m::pack()\n",
      "\u001b[31m✖\u001b[39m \u001b[34mtidyr\u001b[39m::\u001b[32munpack()\u001b[39m masks \u001b[34mMatrix\u001b[39m::unpack()\n",
      "\n",
      "\n",
      "Attaching package: ‘rstatix’\n",
      "\n",
      "\n",
      "The following object is masked from ‘package:stats’:\n",
      "\n",
      "    filter\n",
      "\n",
      "\n"
     ]
    }
   ],
   "source": [
    "library(tidyverse)\n",
    "library(rstatix)\n",
    "library(cluster)\n",
    "library(ggplot2)"
   ]
  },
  {
   "cell_type": "code",
   "execution_count": 27,
   "id": "0904d9c0-9098-4686-b4d4-36f75d619d49",
   "metadata": {},
   "outputs": [],
   "source": [
    "silhouette_sum <- rbind(sil.rna.sum, sil.atac.sum, sil.seurat.sum, sil.mofa.sum, sil.liger.sum, sil.mcia.sum, sil.tica.sum, sil.icluster.sum)"
   ]
  },
  {
   "cell_type": "code",
   "execution_count": 12,
   "id": "1ed47de7-5d49-4232-89ea-b0b5c8d18c4b",
   "metadata": {},
   "outputs": [],
   "source": [
    "silhouette_sum <- readRDS(file = \"/sibcb1/chenluonanlab6/zhangchuanchao2/ASTAR-seq/benchmark/astar_silhouette_sum.rds\")"
   ]
  },
  {
   "cell_type": "code",
   "execution_count": 14,
   "id": "75a9e6e3-ae1b-4f99-bf08-0f3bb0dcfdc4",
   "metadata": {},
   "outputs": [
    {
     "data": {
      "text/html": [
       "<style>\n",
       ".list-inline {list-style: none; margin:0; padding: 0}\n",
       ".list-inline>li {display: inline-block}\n",
       ".list-inline>li:not(:last-child)::after {content: \"\\00b7\"; padding: 0 .5ex}\n",
       "</style>\n",
       "<ol class=list-inline><li>3024</li><li>3</li></ol>\n"
      ],
      "text/latex": [
       "\\begin{enumerate*}\n",
       "\\item 3024\n",
       "\\item 3\n",
       "\\end{enumerate*}\n"
      ],
      "text/markdown": [
       "1. 3024\n",
       "2. 3\n",
       "\n",
       "\n"
      ],
      "text/plain": [
       "[1] 3024    3"
      ]
     },
     "metadata": {},
     "output_type": "display_data"
    }
   ],
   "source": [
    "dim(silhouette_sum)"
   ]
  },
  {
   "cell_type": "code",
   "execution_count": 15,
   "id": "ed4c2ed5-c0e2-4fba-90bc-43e65384ee2a",
   "metadata": {},
   "outputs": [],
   "source": [
    "silhouette_sum <- silhouette_sum[which(silhouette_sum$method != \"LIGER\"),]"
   ]
  },
  {
   "cell_type": "code",
   "execution_count": 16,
   "id": "d245992c-e0d3-4251-a359-d920b66a6afd",
   "metadata": {},
   "outputs": [
    {
     "data": {
      "text/html": [
       "<style>\n",
       ".list-inline {list-style: none; margin:0; padding: 0}\n",
       ".list-inline>li {display: inline-block}\n",
       ".list-inline>li:not(:last-child)::after {content: \"\\00b7\"; padding: 0 .5ex}\n",
       "</style>\n",
       "<ol class=list-inline><li>2646</li><li>3</li></ol>\n"
      ],
      "text/latex": [
       "\\begin{enumerate*}\n",
       "\\item 2646\n",
       "\\item 3\n",
       "\\end{enumerate*}\n"
      ],
      "text/markdown": [
       "1. 2646\n",
       "2. 3\n",
       "\n",
       "\n"
      ],
      "text/plain": [
       "[1] 2646    3"
      ]
     },
     "metadata": {},
     "output_type": "display_data"
    }
   ],
   "source": [
    "dim(silhouette_sum)"
   ]
  },
  {
   "cell_type": "code",
   "execution_count": 17,
   "id": "7635d12e-ece0-4f6c-8457-b5a4cea01d3c",
   "metadata": {},
   "outputs": [],
   "source": [
    "silhouette_sum <- rbind(silhouette_sum, sil.liger.sum)"
   ]
  },
  {
   "cell_type": "code",
   "execution_count": 18,
   "id": "6e427a11-6738-4a26-bee6-437c3dc97321",
   "metadata": {},
   "outputs": [],
   "source": [
    "# 定义绘图主题\n",
    "theme_boxplot <- theme(panel.background = element_rect(fill = \"white\", colour = \"black\", size = 0.25),\n",
    "      axis.line = element_line(colour = \"black\", size = 0.25),\n",
    "      axis.title = element_text(size = 13, face = \"plain\", color = \"black\"),\n",
    "      axis.text = element_text(size = 12,face = \"plain\", color = \"black\"),\n",
    "      legend.position = \"none\",\n",
    "      plot.title = element_text(hjust = 0.5))"
   ]
  },
  {
   "cell_type": "code",
   "execution_count": 19,
   "id": "3c734c40-ac25-436a-b270-0c4449b182fa",
   "metadata": {},
   "outputs": [],
   "source": [
    "silhouette_sum$method <- factor(silhouette_sum$method, levels = c(\"RNA-seq\", \"ATAC-seq\", \"Seurat\", \"MOFA2\", \"LIGER\", \"MCIA\", \"tICA\", \"iCluster\"))"
   ]
  },
  {
   "cell_type": "code",
   "execution_count": 31,
   "id": "8fc421aa-4d2b-42b1-825d-6e33508b42a0",
   "metadata": {},
   "outputs": [
    {
     "data": {
      "image/png": "[encoded data removed]",
      "text/plain": [
       "plot without title"
      ]
     },
     "metadata": {
      "image/png": {
       "height": 420,
       "width": 420
      }
     },
     "output_type": "display_data"
    }
   ],
   "source": [
    "ggplot(silhouette_sum, aes(method, score)) +\n",
    "    geom_boxplot(aes(fill = method), notch = FALSE) +\n",
    "    scale_fill_brewer(palette = \"Set2\") +\n",
    "    theme_classic() + theme_boxplot +  labs(title = \"ASTAR-seq Silhouette\")"
   ]
  },
  {
   "cell_type": "code",
   "execution_count": 32,
   "id": "8cba5730-cb2e-4baa-a417-0275cd80f85f",
   "metadata": {},
   "outputs": [
    {
     "data": {
      "text/html": [
       "<strong>png:</strong> 2"
      ],
      "text/latex": [
       "\\textbf{png:} 2"
      ],
      "text/markdown": [
       "**png:** 2"
      ],
      "text/plain": [
       "png \n",
       "  2 "
      ]
     },
     "metadata": {},
     "output_type": "display_data"
    }
   ],
   "source": [
    "jpeg(file = \"/sibcb1/chenluonanlab6/zhangchuanchao2/ASTAR-seq/benchmark/snare_silhoutte.jpg\", width = 7, height = 7, units = \"in\", res = 200)\n",
    "ggplot(silhouette_sum, aes(method, score)) +\n",
    "    geom_boxplot(aes(fill = method), notch = FALSE) +\n",
    "    scale_fill_brewer(palette = \"Set2\") +\n",
    "    theme_classic() + theme_boxplot +  labs(title = \"ASTAR-seq Silhouette\")\n",
    "dev.off()"
   ]
  },
  {
   "cell_type": "code",
   "execution_count": 20,
   "id": "c7484a02-ea0b-4125-b1c5-5d3f2fa5ec9f",
   "metadata": {},
   "outputs": [
    {
     "data": {
      "image/png": "[encoded data removed]",
      "text/plain": [
       "plot without title"
      ]
     },
     "metadata": {
      "image/png": {
       "height": 420,
       "width": 420
      }
     },
     "output_type": "display_data"
    }
   ],
   "source": [
    "# 改变LIGER为所有细胞类型计算后\n",
    "ggplot(silhouette_sum, aes(method, score)) +\n",
    "    geom_boxplot(aes(fill = method), notch = FALSE) +\n",
    "    scale_fill_brewer(palette = \"Set2\") +\n",
    "    theme_classic() + theme_boxplot +  labs(title = \"ASTAR-seq Silhouette\")"
   ]
  },
  {
   "cell_type": "code",
   "execution_count": 33,
   "id": "0101b739-0a83-4af6-a1fc-e657091eeb05",
   "metadata": {},
   "outputs": [],
   "source": [
    "# 改变LIGER为F1计算后\n",
    "silhouette_sum <- silhouette_sum[which(silhouette_sum$method != \"LIGER\"),]"
   ]
  },
  {
   "cell_type": "code",
   "execution_count": null,
   "id": "bd3a731b-84bf-4122-9458-6a984169f79a",
   "metadata": {},
   "outputs": [],
   "source": [
    "silhouette_sum <- rbind(silhouette_sum, sil.liger.sum)\n",
    "silhouette_sum$method <- factor(silhouette_sum$method, levels = c(\"RNA-seq\", \"ATAC-seq\", \"Seurat\", \"MOFA2\", \"LIGER\", \"MCIA\", \"tICA\", \"iCluster\"))"
   ]
  },
  {
   "cell_type": "code",
   "execution_count": 34,
   "id": "abf5eaca-f4ee-4bbc-b404-4f690c4f97d9",
   "metadata": {},
   "outputs": [
    {
     "data": {
      "text/html": [
       "<style>\n",
       ".list-inline {list-style: none; margin:0; padding: 0}\n",
       ".list-inline>li {display: inline-block}\n",
       ".list-inline>li:not(:last-child)::after {content: \"\\00b7\"; padding: 0 .5ex}\n",
       "</style>\n",
       "<ol class=list-inline><li>2646</li><li>3</li></ol>\n"
      ],
      "text/latex": [
       "\\begin{enumerate*}\n",
       "\\item 2646\n",
       "\\item 3\n",
       "\\end{enumerate*}\n"
      ],
      "text/markdown": [
       "1. 2646\n",
       "2. 3\n",
       "\n",
       "\n"
      ],
      "text/plain": [
       "[1] 2646    3"
      ]
     },
     "metadata": {},
     "output_type": "display_data"
    }
   ],
   "source": [
    "dim(silhouette_sum)"
   ]
  },
  {
   "cell_type": "code",
   "execution_count": null,
   "id": "6210ae28-bf48-4ad0-867b-36eda9cf1d46",
   "metadata": {},
   "outputs": [],
   "source": [
    "# 删除一些过大偏差的值"
   ]
  },
  {
   "cell_type": "code",
   "execution_count": 36,
   "id": "91ca4d47-75af-485d-8c34-20c74447a485",
   "metadata": {},
   "outputs": [],
   "source": [
    "x <- sil.liger.sum$score[!sil.liger.sum$score %in% boxplot.stats(sil.liger.sum$score)$out]"
   ]
  },
  {
   "cell_type": "code",
   "execution_count": 38,
   "id": "96d033a3-897a-479f-ab09-4284aa3360e7",
   "metadata": {},
   "outputs": [
    {
     "data": {
      "text/html": [
       "<table class=\"dataframe\">\n",
       "<caption>A data.frame: 6 × 3</caption>\n",
       "<thead>\n",
       "\t<tr><th></th><th scope=col>cluster</th><th scope=col>score</th><th scope=col>method</th></tr>\n",
       "\t<tr><th></th><th scope=col>&lt;dbl&gt;</th><th scope=col>&lt;dbl&gt;</th><th scope=col>&lt;chr&gt;</th></tr>\n",
       "</thead>\n",
       "<tbody>\n",
       "\t<tr><th scope=row>1</th><td>2</td><td>-0.5234939</td><td>LIGER</td></tr>\n",
       "\t<tr><th scope=row>2</th><td>2</td><td>-1.2782107</td><td>LIGER</td></tr>\n",
       "\t<tr><th scope=row>3</th><td>2</td><td>-0.6111234</td><td>LIGER</td></tr>\n",
       "\t<tr><th scope=row>4</th><td>2</td><td>-0.9092301</td><td>LIGER</td></tr>\n",
       "\t<tr><th scope=row>5</th><td>2</td><td>-0.6592883</td><td>LIGER</td></tr>\n",
       "\t<tr><th scope=row>6</th><td>2</td><td>-0.5814859</td><td>LIGER</td></tr>\n",
       "</tbody>\n",
       "</table>\n"
      ],
      "text/latex": [
       "A data.frame: 6 × 3\n",
       "\\begin{tabular}{r|lll}\n",
       "  & cluster & score & method\\\\\n",
       "  & <dbl> & <dbl> & <chr>\\\\\n",
       "\\hline\n",
       "\t1 & 2 & -0.5234939 & LIGER\\\\\n",
       "\t2 & 2 & -1.2782107 & LIGER\\\\\n",
       "\t3 & 2 & -0.6111234 & LIGER\\\\\n",
       "\t4 & 2 & -0.9092301 & LIGER\\\\\n",
       "\t5 & 2 & -0.6592883 & LIGER\\\\\n",
       "\t6 & 2 & -0.5814859 & LIGER\\\\\n",
       "\\end{tabular}\n"
      ],
      "text/markdown": [
       "\n",
       "A data.frame: 6 × 3\n",
       "\n",
       "| <!--/--> | cluster &lt;dbl&gt; | score &lt;dbl&gt; | method &lt;chr&gt; |\n",
       "|---|---|---|---|\n",
       "| 1 | 2 | -0.5234939 | LIGER |\n",
       "| 2 | 2 | -1.2782107 | LIGER |\n",
       "| 3 | 2 | -0.6111234 | LIGER |\n",
       "| 4 | 2 | -0.9092301 | LIGER |\n",
       "| 5 | 2 | -0.6592883 | LIGER |\n",
       "| 6 | 2 | -0.5814859 | LIGER |\n",
       "\n"
      ],
      "text/plain": [
       "  cluster score      method\n",
       "1 2       -0.5234939 LIGER \n",
       "2 2       -1.2782107 LIGER \n",
       "3 2       -0.6111234 LIGER \n",
       "4 2       -0.9092301 LIGER \n",
       "5 2       -0.6592883 LIGER \n",
       "6 2       -0.5814859 LIGER "
      ]
     },
     "metadata": {},
     "output_type": "display_data"
    }
   ],
   "source": [
    "head(sil.liger.sum)"
   ]
  },
  {
   "cell_type": "code",
   "execution_count": 37,
   "id": "5c543046-5885-4e5a-ba85-4c616e8cd49d",
   "metadata": {},
   "outputs": [
    {
     "data": {
      "text/html": [
       "728"
      ],
      "text/latex": [
       "728"
      ],
      "text/markdown": [
       "728"
      ],
      "text/plain": [
       "[1] 728"
      ]
     },
     "metadata": {},
     "output_type": "display_data"
    },
    {
     "data": {
      "text/html": [
       "626"
      ],
      "text/latex": [
       "626"
      ],
      "text/markdown": [
       "626"
      ],
      "text/plain": [
       "[1] 626"
      ]
     },
     "metadata": {},
     "output_type": "display_data"
    }
   ],
   "source": [
    "length(sil.liger.sum$score)\n",
    "length(x)"
   ]
  },
  {
   "cell_type": "code",
   "execution_count": 40,
   "id": "b124fae3-e752-4d16-a3aa-ae250e76a253",
   "metadata": {},
   "outputs": [],
   "source": [
    "sil.liger.sum0 <- sil.liger.sum[1:626,]\n",
    "sil.liger.sum0$score <- x\n",
    "silhouette_sum <- silhouette_sum[which(silhouette_sum$method != \"LIGER\"),]\n",
    "silhouette_sum <- rbind(silhouette_sum, sil.liger.sum0)\n",
    "silhouette_sum$method <- factor(silhouette_sum$method, levels = c(\"RNA-seq\", \"ATAC-seq\", \"Seurat\", \"MOFA2\", \"LIGER\", \"MCIA\", \"tICA\", \"iCluster\"))"
   ]
  },
  {
   "cell_type": "code",
   "execution_count": 41,
   "id": "325dbb87-c6ac-44cb-9756-0111e49a3ffc",
   "metadata": {},
   "outputs": [
    {
     "data": {
      "image/png": "[encoded data removed]",
      "text/plain": [
       "plot without title"
      ]
     },
     "metadata": {
      "image/png": {
       "height": 420,
       "width": 420
      }
     },
     "output_type": "display_data"
    }
   ],
   "source": [
    "ggplot(silhouette_sum, aes(method, score)) +\n",
    "    geom_boxplot(aes(fill = method), notch = FALSE) +\n",
    "    scale_fill_brewer(palette = \"Set2\") +\n",
    "    theme_classic() + theme_boxplot +  labs(title = \"ASTAR-seq Silhouette\")"
   ]
  },
  {
   "cell_type": "code",
   "execution_count": 70,
   "id": "a37c91a3-0620-4c1d-bb63-b30c1c9aa721",
   "metadata": {},
   "outputs": [],
   "source": [
    "saveRDS(silhouette_sum, file = \"/sibcb1/chenluonanlab6/zhangchuanchao2/ASTAR-seq/benchmark/astar_silhouette_sum.rds\")"
   ]
  },
  {
   "cell_type": "code",
   "execution_count": null,
   "id": "2ee3eeb2-996b-4b08-a7a1-037d03b6c963",
   "metadata": {},
   "outputs": [],
   "source": []
  },
  {
   "cell_type": "code",
   "execution_count": null,
   "id": "edcff887-6005-48d9-addc-49242cd9d2b4",
   "metadata": {},
   "outputs": [],
   "source": [
    "## 逆辛普森指数"
   ]
  },
  {
   "cell_type": "code",
   "execution_count": 43,
   "id": "58a2cf30-208f-432d-8407-6be2fa197870",
   "metadata": {},
   "outputs": [],
   "source": [
    "library(lisi)"
   ]
  },
  {
   "cell_type": "code",
   "execution_count": 35,
   "id": "5a21c452-e46f-4c9f-982c-0157066efa97",
   "metadata": {},
   "outputs": [],
   "source": [
    "clusters <- data.frame(label1 = as.integer(as.factor(cluster)))"
   ]
  },
  {
   "cell_type": "code",
   "execution_count": null,
   "id": "69024bfa-5976-4c4b-985b-4806712da238",
   "metadata": {},
   "outputs": [],
   "source": [
    "# RNA"
   ]
  },
  {
   "cell_type": "code",
   "execution_count": 36,
   "id": "19cd29a2-ea9c-469e-80a5-ef0adf5ea146",
   "metadata": {},
   "outputs": [
    {
     "data": {
      "text/html": [
       "1.06043478676882"
      ],
      "text/latex": [
       "1.06043478676882"
      ],
      "text/markdown": [
       "1.06043478676882"
      ],
      "text/plain": [
       "[1] 1.060435"
      ]
     },
     "metadata": {},
     "output_type": "display_data"
    },
    {
     "data": {
      "text/html": [
       "1"
      ],
      "text/latex": [
       "1"
      ],
      "text/markdown": [
       "1"
      ],
      "text/plain": [
       "[1] 1"
      ]
     },
     "metadata": {},
     "output_type": "display_data"
    }
   ],
   "source": [
    "lisi_rna <- compute_lisi(distance.rna, clusters, c('label1'))\n",
    "lisi_rna[,2] <- \"RNA-seq\"\n",
    "colnames(lisi_rna) <- c(\"score\", \"method\")\n",
    "lisi_rna$cluster <- clusters$label1\n",
    "mean(lisi_rna[,1])\n",
    "median(lisi_rna[,1])"
   ]
  },
  {
   "cell_type": "code",
   "execution_count": 37,
   "id": "48b61ebb-5d9a-4f61-94b4-574613e9d8b6",
   "metadata": {},
   "outputs": [
    {
     "data": {
      "text/html": [
       "1.21453720811077"
      ],
      "text/latex": [
       "1.21453720811077"
      ],
      "text/markdown": [
       "1.21453720811077"
      ],
      "text/plain": [
       "[1] 1.214537"
      ]
     },
     "metadata": {},
     "output_type": "display_data"
    },
    {
     "data": {
      "text/html": [
       "1.09976750281993"
      ],
      "text/latex": [
       "1.09976750281993"
      ],
      "text/markdown": [
       "1.09976750281993"
      ],
      "text/plain": [
       "[1] 1.099768"
      ]
     },
     "metadata": {},
     "output_type": "display_data"
    }
   ],
   "source": [
    "# ATAC\n",
    "lisi_atac <- compute_lisi(distance.atac, clusters, c('label1'))\n",
    "lisi_atac[,2] <- \"ATAC-seq\"\n",
    "colnames(lisi_atac) <- c(\"score\", \"method\")\n",
    "lisi_atac$cluster <- clusters$label1\n",
    "mean(lisi_atac[,1])\n",
    "median(lisi_atac[,1])"
   ]
  },
  {
   "cell_type": "code",
   "execution_count": 38,
   "id": "62605668-9bb5-4cb1-b37c-060b8170d08b",
   "metadata": {},
   "outputs": [
    {
     "data": {
      "text/html": [
       "1.02792904504133"
      ],
      "text/latex": [
       "1.02792904504133"
      ],
      "text/markdown": [
       "1.02792904504133"
      ],
      "text/plain": [
       "[1] 1.027929"
      ]
     },
     "metadata": {},
     "output_type": "display_data"
    },
    {
     "data": {
      "text/html": [
       "1"
      ],
      "text/latex": [
       "1"
      ],
      "text/markdown": [
       "1"
      ],
      "text/plain": [
       "[1] 1"
      ]
     },
     "metadata": {},
     "output_type": "display_data"
    }
   ],
   "source": [
    "# Seurat\n",
    "lisi_seurat <- compute_lisi(as.data.frame(distance.seurat), clusters, c('label1'))\n",
    "lisi_seurat[,2] <- \"Seurat\"\n",
    "colnames(lisi_seurat) <- c(\"score\", \"method\")\n",
    "lisi_seurat$cluster <- clusters$label1\n",
    "mean(lisi_seurat[,1])\n",
    "median(lisi_seurat[,1])"
   ]
  },
  {
   "cell_type": "code",
   "execution_count": 39,
   "id": "bce18c0a-9893-466e-b84e-01015f1132f4",
   "metadata": {},
   "outputs": [
    {
     "data": {
      "text/html": [
       "1.36938244926234"
      ],
      "text/latex": [
       "1.36938244926234"
      ],
      "text/markdown": [
       "1.36938244926234"
      ],
      "text/plain": [
       "[1] 1.369382"
      ]
     },
     "metadata": {},
     "output_type": "display_data"
    },
    {
     "data": {
      "text/html": [
       "1.31334720222507"
      ],
      "text/latex": [
       "1.31334720222507"
      ],
      "text/markdown": [
       "1.31334720222507"
      ],
      "text/plain": [
       "[1] 1.313347"
      ]
     },
     "metadata": {},
     "output_type": "display_data"
    }
   ],
   "source": [
    "# mofa\n",
    "lisi_mofa <- compute_lisi(mofa@dim_red$UMAP[,c(2,3)], clusters, c('label1'))\n",
    "lisi_mofa[,2] <- \"MOFA2\"\n",
    "colnames(lisi_mofa) <- c(\"score\", \"method\")\n",
    "lisi_mofa$cluster <- clusters$label1\n",
    "mean(lisi_mofa[,1])\n",
    "median(lisi_mofa[,1])"
   ]
  },
  {
   "cell_type": "code",
   "execution_count": 41,
   "id": "05875826-3512-404c-ac3b-6c9674f48939",
   "metadata": {},
   "outputs": [
    {
     "data": {
      "text/html": [
       "1.00000002018359"
      ],
      "text/latex": [
       "1.00000002018359"
      ],
      "text/markdown": [
       "1.00000002018359"
      ],
      "text/plain": [
       "[1] 1"
      ]
     },
     "metadata": {},
     "output_type": "display_data"
    },
    {
     "data": {
      "text/html": [
       "1"
      ],
      "text/latex": [
       "1"
      ],
      "text/markdown": [
       "1"
      ],
      "text/plain": [
       "[1] 1"
      ]
     },
     "metadata": {},
     "output_type": "display_data"
    }
   ],
   "source": [
    "# liger\n",
    "lisi_liger <- compute_lisi(liger@tsne.coords[351:728,], clusters, c('label1'))\n",
    "lisi_liger[,2] <- \"LIGER\"\n",
    "colnames(lisi_liger) <- c(\"score\", \"method\")\n",
    "lisi_liger$cluster <- clusters$label1\n",
    "mean(lisi_liger[,1])\n",
    "median(lisi_liger[,1])"
   ]
  },
  {
   "cell_type": "code",
   "execution_count": 50,
   "id": "15ea8d58-7fe2-4e73-9f0e-5f23e78e0e36",
   "metadata": {},
   "outputs": [],
   "source": [
    "clusters <- data.frame(label1 = as.integer(as.factor(as.character(cluster))))"
   ]
  },
  {
   "cell_type": "code",
   "execution_count": 51,
   "id": "0ba0b401-8886-4651-9524-e0ad4e879cc2",
   "metadata": {},
   "outputs": [
    {
     "data": {
      "text/html": [
       "1.0333142229719"
      ],
      "text/latex": [
       "1.0333142229719"
      ],
      "text/markdown": [
       "1.0333142229719"
      ],
      "text/plain": [
       "[1] 1.033314"
      ]
     },
     "metadata": {},
     "output_type": "display_data"
    },
    {
     "data": {
      "text/html": [
       "1"
      ],
      "text/latex": [
       "1"
      ],
      "text/markdown": [
       "1"
      ],
      "text/plain": [
       "[1] 1"
      ]
     },
     "metadata": {},
     "output_type": "display_data"
    }
   ],
   "source": [
    "# liger\n",
    "lisi_liger <- compute_lisi(liger@tsne.coords, clusters, c('label1'))\n",
    "lisi_liger[,2] <- \"LIGER\"\n",
    "colnames(lisi_liger) <- c(\"score\", \"method\")\n",
    "lisi_liger$cluster <- clusters$label1\n",
    "mean(lisi_liger[,1])\n",
    "median(lisi_liger[,1])"
   ]
  },
  {
   "cell_type": "code",
   "execution_count": 52,
   "id": "3862cc51-ab8a-4ab6-8f22-4094a270fd84",
   "metadata": {},
   "outputs": [
    {
     "data": {
      "text/html": [
       "<table class=\"dataframe\">\n",
       "<caption>A data.frame: 6 × 3</caption>\n",
       "<thead>\n",
       "\t<tr><th></th><th scope=col>score</th><th scope=col>method</th><th scope=col>cluster</th></tr>\n",
       "\t<tr><th></th><th scope=col>&lt;dbl&gt;</th><th scope=col>&lt;chr&gt;</th><th scope=col>&lt;int&gt;</th></tr>\n",
       "</thead>\n",
       "<tbody>\n",
       "\t<tr><th scope=row>1</th><td>1.000040</td><td>LIGER</td><td>2</td></tr>\n",
       "\t<tr><th scope=row>2</th><td>1.120934</td><td>LIGER</td><td>2</td></tr>\n",
       "\t<tr><th scope=row>3</th><td>1.000049</td><td>LIGER</td><td>2</td></tr>\n",
       "\t<tr><th scope=row>4</th><td>1.014975</td><td>LIGER</td><td>2</td></tr>\n",
       "\t<tr><th scope=row>5</th><td>1.000198</td><td>LIGER</td><td>2</td></tr>\n",
       "\t<tr><th scope=row>6</th><td>1.000184</td><td>LIGER</td><td>2</td></tr>\n",
       "</tbody>\n",
       "</table>\n"
      ],
      "text/latex": [
       "A data.frame: 6 × 3\n",
       "\\begin{tabular}{r|lll}\n",
       "  & score & method & cluster\\\\\n",
       "  & <dbl> & <chr> & <int>\\\\\n",
       "\\hline\n",
       "\t1 & 1.000040 & LIGER & 2\\\\\n",
       "\t2 & 1.120934 & LIGER & 2\\\\\n",
       "\t3 & 1.000049 & LIGER & 2\\\\\n",
       "\t4 & 1.014975 & LIGER & 2\\\\\n",
       "\t5 & 1.000198 & LIGER & 2\\\\\n",
       "\t6 & 1.000184 & LIGER & 2\\\\\n",
       "\\end{tabular}\n"
      ],
      "text/markdown": [
       "\n",
       "A data.frame: 6 × 3\n",
       "\n",
       "| <!--/--> | score &lt;dbl&gt; | method &lt;chr&gt; | cluster &lt;int&gt; |\n",
       "|---|---|---|---|\n",
       "| 1 | 1.000040 | LIGER | 2 |\n",
       "| 2 | 1.120934 | LIGER | 2 |\n",
       "| 3 | 1.000049 | LIGER | 2 |\n",
       "| 4 | 1.014975 | LIGER | 2 |\n",
       "| 5 | 1.000198 | LIGER | 2 |\n",
       "| 6 | 1.000184 | LIGER | 2 |\n",
       "\n"
      ],
      "text/plain": [
       "  score    method cluster\n",
       "1 1.000040 LIGER  2      \n",
       "2 1.120934 LIGER  2      \n",
       "3 1.000049 LIGER  2      \n",
       "4 1.014975 LIGER  2      \n",
       "5 1.000198 LIGER  2      \n",
       "6 1.000184 LIGER  2      "
      ]
     },
     "metadata": {},
     "output_type": "display_data"
    }
   ],
   "source": [
    "head(lisi_liger)"
   ]
  },
  {
   "cell_type": "code",
   "execution_count": 53,
   "id": "acaf2869-1199-4980-a25f-3e29261d96f3",
   "metadata": {},
   "outputs": [],
   "source": [
    "clusters_cell <- data.frame(label1 = as.integer(as.factor(as.character(cluster_cell))))"
   ]
  },
  {
   "cell_type": "code",
   "execution_count": 61,
   "id": "a1b8ba68-f587-4786-b596-1c5a96efb81d",
   "metadata": {},
   "outputs": [],
   "source": [
    "# liger batch\n",
    "lisi_liger_score <- compute_lisi(liger@tsne.coords, clusters_cell, c('label1'))"
   ]
  },
  {
   "cell_type": "code",
   "execution_count": 58,
   "id": "11bd12ae-a26f-4762-85be-118b0161b4c7",
   "metadata": {},
   "outputs": [
    {
     "data": {
      "text/plain": [
       "     label1     \n",
       " Min.   :1.000  \n",
       " 1st Qu.:1.000  \n",
       " Median :1.000  \n",
       " Mean   :1.004  \n",
       " 3rd Qu.:1.000  \n",
       " Max.   :1.205  "
      ]
     },
     "metadata": {},
     "output_type": "display_data"
    }
   ],
   "source": [
    "summary(lisi_liger0)"
   ]
  },
  {
   "cell_type": "code",
   "execution_count": 65,
   "id": "c2a4d3dd-ede3-48eb-8849-c15b49af3de5",
   "metadata": {},
   "outputs": [
    {
     "data": {
      "text/html": [
       "-0.00946057305466381"
      ],
      "text/latex": [
       "-0.00946057305466381"
      ],
      "text/markdown": [
       "-0.00946057305466381"
      ],
      "text/plain": [
       "[1] -0.009460573"
      ]
     },
     "metadata": {},
     "output_type": "display_data"
    },
    {
     "data": {
      "text/html": [
       "0"
      ],
      "text/latex": [
       "0"
      ],
      "text/markdown": [
       "0"
      ],
      "text/plain": [
       "[1] 0"
      ]
     },
     "metadata": {},
     "output_type": "display_data"
    }
   ],
   "source": [
    "lisi_liger0 <- lisi_liger\n",
    "# F1=2SILcell type (1 − SILbatch) / (1 − SILbatch + SILcell type)\n",
    "F1 = 2 * lisi_liger$score * (1 - lisi_liger_score$label1) / (1 - lisi_liger_score$label1 + lisi_liger$score)\n",
    "lisi_liger0$score <- F1\n",
    "mean(lisi_liger0[,1])\n",
    "median(lisi_liger0[,1])"
   ]
  },
  {
   "cell_type": "code",
   "execution_count": 67,
   "id": "c8ecce1a-6c38-4a56-b26e-ad7b7e6f3dbe",
   "metadata": {},
   "outputs": [
    {
     "data": {
      "text/plain": [
       "      Min.    1st Qu.     Median       Mean    3rd Qu.       Max. \n",
       "-0.4947622 -0.0000002  0.0000000 -0.0094606  0.0000000  0.0000000 "
      ]
     },
     "metadata": {},
     "output_type": "display_data"
    }
   ],
   "source": [
    "summary(F1)"
   ]
  },
  {
   "cell_type": "code",
   "execution_count": null,
   "id": "2984d6a2-eeb0-4823-92e3-6a32d85eff1f",
   "metadata": {},
   "outputs": [],
   "source": []
  },
  {
   "cell_type": "code",
   "execution_count": null,
   "id": "578b65d2-d771-4121-b795-7b14b9730329",
   "metadata": {},
   "outputs": [],
   "source": []
  },
  {
   "cell_type": "code",
   "execution_count": 42,
   "id": "ca0227dd-87fc-4207-be51-c57dea8d68c1",
   "metadata": {},
   "outputs": [
    {
     "data": {
      "text/html": [
       "1.19120497759001"
      ],
      "text/latex": [
       "1.19120497759001"
      ],
      "text/markdown": [
       "1.19120497759001"
      ],
      "text/plain": [
       "[1] 1.191205"
      ]
     },
     "metadata": {},
     "output_type": "display_data"
    },
    {
     "data": {
      "text/html": [
       "1.13798144709132"
      ],
      "text/latex": [
       "1.13798144709132"
      ],
      "text/markdown": [
       "1.13798144709132"
      ],
      "text/plain": [
       "[1] 1.137981"
      ]
     },
     "metadata": {},
     "output_type": "display_data"
    }
   ],
   "source": [
    "# mcia\n",
    "lisi_mcia <- compute_lisi(umap_mcia_df, clusters, c('label1'))\n",
    "lisi_mcia[,2] <- \"MCIA\"\n",
    "colnames(lisi_mcia) <- c(\"score\", \"method\")\n",
    "lisi_mcia$cluster <- clusters$label1\n",
    "mean(lisi_mcia[,1])\n",
    "median(lisi_mcia[,1])"
   ]
  },
  {
   "cell_type": "code",
   "execution_count": 43,
   "id": "a1064979-ad73-44ac-8cb2-97bfece1ab83",
   "metadata": {},
   "outputs": [
    {
     "data": {
      "text/html": [
       "1.23213732577201"
      ],
      "text/latex": [
       "1.23213732577201"
      ],
      "text/markdown": [
       "1.23213732577201"
      ],
      "text/plain": [
       "[1] 1.232137"
      ]
     },
     "metadata": {},
     "output_type": "display_data"
    },
    {
     "data": {
      "text/html": [
       "1.12160456189076"
      ],
      "text/latex": [
       "1.12160456189076"
      ],
      "text/markdown": [
       "1.12160456189076"
      ],
      "text/plain": [
       "[1] 1.121605"
      ]
     },
     "metadata": {},
     "output_type": "display_data"
    }
   ],
   "source": [
    "# tICA\n",
    "lisi_tica <- compute_lisi(umap_tica_df, clusters, c('label1'))\n",
    "lisi_tica[,2] <- \"tICA\"\n",
    "colnames(lisi_tica) <- c(\"score\", \"method\")\n",
    "lisi_tica$cluster <- clusters$label1\n",
    "mean(lisi_tica[,1])\n",
    "median(lisi_tica[,1])"
   ]
  },
  {
   "cell_type": "code",
   "execution_count": 44,
   "id": "0b475646-12dc-4c3c-a1ca-ff7fd174cd01",
   "metadata": {},
   "outputs": [
    {
     "data": {
      "text/html": [
       "1.30296978193759"
      ],
      "text/latex": [
       "1.30296978193759"
      ],
      "text/markdown": [
       "1.30296978193759"
      ],
      "text/plain": [
       "[1] 1.30297"
      ]
     },
     "metadata": {},
     "output_type": "display_data"
    },
    {
     "data": {
      "text/html": [
       "1.1710702070315"
      ],
      "text/latex": [
       "1.1710702070315"
      ],
      "text/markdown": [
       "1.1710702070315"
      ],
      "text/plain": [
       "[1] 1.17107"
      ]
     },
     "metadata": {},
     "output_type": "display_data"
    }
   ],
   "source": [
    "# iCluster\n",
    "lisi_icluster <- compute_lisi(umap_icluster_df, clusters, c('label1'))\n",
    "lisi_icluster[,2] <- \"iCluster\"\n",
    "colnames(lisi_icluster) <- c(\"score\", \"method\")\n",
    "lisi_icluster$cluster <- clusters$label1\n",
    "mean(lisi_icluster[,1])\n",
    "median(lisi_icluster[,1])"
   ]
  },
  {
   "cell_type": "code",
   "execution_count": 45,
   "id": "6911bec7-3210-4c8c-b1d1-d3d5c66fb5bd",
   "metadata": {},
   "outputs": [],
   "source": [
    "lisi_sum <- rbind(lisi_rna, lisi_atac, lisi_seurat, lisi_mofa, lisi_liger, lisi_mcia, lisi_tica, lisi_icluster)"
   ]
  },
  {
   "cell_type": "code",
   "execution_count": 46,
   "id": "398cc02a-463d-4086-bc16-d01010b8e16a",
   "metadata": {},
   "outputs": [],
   "source": [
    "lisi_sum$method <- factor(lisi_sum$method, levels = c(\"RNA-seq\", \"ATAC-seq\", \"Seurat\", \"MOFA2\", \"LIGER\", \"MCIA\", \"tICA\", \"iCluster\"))"
   ]
  },
  {
   "cell_type": "code",
   "execution_count": 47,
   "id": "9ba9aab5-a55e-437d-994d-9a39d29468fa",
   "metadata": {},
   "outputs": [
    {
     "data": {
      "image/png": "[encoded data removed]",
      "text/plain": [
       "plot without title"
      ]
     },
     "metadata": {
      "image/png": {
       "height": 420,
       "width": 420
      }
     },
     "output_type": "display_data"
    }
   ],
   "source": [
    "ggplot(lisi_sum, aes(method, score)) +\n",
    "    geom_boxplot(aes(fill = method), notch = FALSE) +\n",
    "    scale_fill_brewer(palette = \"Set2\") +\n",
    "    theme_classic() + theme_boxplot + labs(title = \"ASATR-seq lisi\")"
   ]
  },
  {
   "cell_type": "code",
   "execution_count": 48,
   "id": "928ed65a-9cf8-49b5-9c98-6215ac8919c2",
   "metadata": {},
   "outputs": [
    {
     "data": {
      "text/html": [
       "<strong>png:</strong> 2"
      ],
      "text/latex": [
       "\\textbf{png:} 2"
      ],
      "text/markdown": [
       "**png:** 2"
      ],
      "text/plain": [
       "png \n",
       "  2 "
      ]
     },
     "metadata": {},
     "output_type": "display_data"
    }
   ],
   "source": [
    "jpeg(file = \"/sibcb1/chenluonanlab6/zhangchuanchao2/ASTAR-seq/benchmark/astar_lisi.jpg\", width = 7, height = 7, units = \"in\", res = 200)\n",
    "ggplot(lisi_sum, aes(method, score)) +\n",
    "    geom_boxplot(aes(fill = method), notch = FALSE) +\n",
    "    scale_fill_brewer(palette = \"Set2\") +\n",
    "    theme_classic() + theme_boxplot + labs(title = \"ASATR-seq lisi\")\n",
    "dev.off()"
   ]
  },
  {
   "cell_type": "code",
   "execution_count": 49,
   "id": "81f6d417-656f-4803-b4b9-38a9d8708ff2",
   "metadata": {},
   "outputs": [],
   "source": [
    "saveRDS(lisi_sum, file = \"/sibcb1/chenluonanlab6/zhangchuanchao2/ASTAR-seq/benchmark/astar_lisi_sum.rds\")"
   ]
  },
  {
   "cell_type": "code",
   "execution_count": null,
   "id": "0b043d3d-340e-4630-a8f8-4e73050e5343",
   "metadata": {},
   "outputs": [],
   "source": []
  },
  {
   "cell_type": "code",
   "execution_count": 54,
   "id": "c98cba80-534d-467a-89cb-c3070ca3cdf5",
   "metadata": {},
   "outputs": [],
   "source": [
    "lisi_sum <- readRDS(file = \"/sibcb1/chenluonanlab6/zhangchuanchao2/ASTAR-seq/benchmark/astar_lisi_sum.rds\")"
   ]
  },
  {
   "cell_type": "code",
   "execution_count": 68,
   "id": "4ee43790-7cd5-4c56-92b5-b92c96c2dfe4",
   "metadata": {},
   "outputs": [
    {
     "data": {
      "image/png": "[encoded data removed]",
      "text/plain": [
       "plot without title"
      ]
     },
     "metadata": {
      "image/png": {
       "height": 420,
       "width": 420
      }
     },
     "output_type": "display_data"
    }
   ],
   "source": [
    "lisi_sum <- lisi_sum[which(lisi_sum$method != \"LIGER\"),]\n",
    "lisi_sum <- rbind(lisi_sum, lisi_liger)\n",
    "lisi_sum$method <- factor(lisi_sum$method, levels = c(\"RNA-seq\", \"ATAC-seq\", \"Seurat\", \"MOFA2\", \"LIGER\", \"MCIA\", \"tICA\", \"iCluster\"))\n",
    "ggplot(lisi_sum, aes(method, score)) +\n",
    "    geom_boxplot(aes(fill = method), notch = FALSE) +\n",
    "    scale_fill_brewer(palette = \"Set2\") +\n",
    "    theme_classic() + theme_boxplot + labs(title = \"ASATR-seq lisi\")"
   ]
  },
  {
   "cell_type": "code",
   "execution_count": 66,
   "id": "5638e556-675b-424f-8b4a-b78265b599d8",
   "metadata": {},
   "outputs": [
    {
     "data": {
      "image/png": "[encoded data removed]",
      "text/plain": [
       "plot without title"
      ]
     },
     "metadata": {
      "image/png": {
       "height": 420,
       "width": 420
      }
     },
     "output_type": "display_data"
    }
   ],
   "source": [
    "# liger F1 score\n",
    "lisi_sum <- lisi_sum[which(lisi_sum$method != \"LIGER\"),]\n",
    "lisi_sum <- rbind(lisi_sum, lisi_liger0)\n",
    "lisi_sum$method <- factor(lisi_sum$method, levels = c(\"RNA-seq\", \"ATAC-seq\", \"Seurat\", \"MOFA2\", \"LIGER\", \"MCIA\", \"tICA\", \"iCluster\"))\n",
    "ggplot(lisi_sum, aes(method, score)) +\n",
    "    geom_boxplot(aes(fill = method), notch = FALSE) +\n",
    "    scale_fill_brewer(palette = \"Set2\") +\n",
    "    theme_classic() + theme_boxplot + labs(title = \"ASATR-seq lisi\")"
   ]
  },
  {
   "cell_type": "code",
   "execution_count": 69,
   "id": "e4b7dd78-0192-4d75-8976-5301e9e0fb1d",
   "metadata": {},
   "outputs": [],
   "source": [
    "saveRDS(lisi_sum, file = \"/sibcb1/chenluonanlab6/zhangchuanchao2/ASTAR-seq/benchmark/astar_lisi_sum.rds\")"
   ]
  },
  {
   "cell_type": "code",
   "execution_count": null,
   "id": "a018f54e-a189-4535-9c32-aba3773a56f1",
   "metadata": {},
   "outputs": [],
   "source": []
  }
 ],
 "metadata": {
  "kernelspec": {
   "display_name": "R",
   "language": "R",
   "name": "ir"
  },
  "language_info": {
   "codemirror_mode": "r",
   "file_extension": ".r",
   "mimetype": "text/x-r-source",
   "name": "R",
   "pygments_lexer": "r",
   "version": "4.1.0"
  }
 },
 "nbformat": 4,
 "nbformat_minor": 5
}
