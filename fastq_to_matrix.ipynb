{
 "cells": [
  {
   "cell_type": "markdown",
   "id": "37b71a2c-f8dd-48b1-8c7c-1f0dd158ed4a",
   "metadata": {},
   "source": [
    "# 将scRNA-seq和scATAC-seq原始fastq文件转换为gene-cell matrix和peak-cell matrix"
   ]
  },
  {
   "cell_type": "markdown",
   "id": "11e9cd34-863d-49ac-b9c8-b5bcb9ac67ab",
   "metadata": {},
   "source": [
    "以ASTAR-seq的[GSE113418](https://www.ncbi.nlm.nih.gov/geo/query/acc.cgi?acc=GSE113418)为例, 由于给出的文件为每个细胞单独测序的fastq，所以使用脚本循环进行处理"
   ]
  },
  {
   "cell_type": "markdown",
   "id": "0dc969d4-6b94-48f4-a1dd-7ed6ec8eef05",
   "metadata": {},
   "source": [
    "## scATAC-seq fastq处理"
   ]
  },
  {
   "cell_type": "markdown",
   "id": "c0d8e425-c269-4366-82cf-d9c24f80d131",
   "metadata": {
    "tags": []
   },
   "source": [
    "### 下载原始文件、比对"
   ]
  },
  {
   "cell_type": "markdown",
   "id": "208fcee7-ac5c-424d-9395-b7653fa9a9e7",
   "metadata": {},
   "source": [
    "运行脚本"
   ]
  },
  {
   "cell_type": "code",
   "execution_count": null,
   "id": "191641ea-5f84-4dce-84e8-821ad94f9dd0",
   "metadata": {},
   "outputs": [],
   "source": [
    "#!/bin/bash\n",
    "\n",
    "for line in `cat SRR_Acc_List.txt`    # SRR_Acc_List文件包含了每个细胞初始数据的SRR号\n",
    "do\n",
    "    # 下载SRA \n",
    "    prefetch $line\n",
    "    cd $line\n",
    "    # 将SRA文件拆解为fastq文件\n",
    "    fasterq-dump -p --include-technical -S -e 10 -O ./ ${line}.sra\n",
    "    rm ${line}.sra\n",
    "\n",
    "    # 比对\n",
    "    bwa mem -t 8 /sibcb1/chenluonanlab6/zhangchuanchao2/data/Homo_sapiens/UCSC/hg38/Sequence/BWAIndex/genome.fa ${line}_1.fastq ${line}_2.fastq | samtools view -b - > ${line}.bam\n",
    "    rm ${line}_1.fastq\n",
    "    rm ${line}_2.fastq\n",
    "\n",
    "    # 排序和加索引\n",
    "    samtools sort -n ${line}.bam -o ${line}.sort.bam\n",
    "    rm ${line}.bam\n",
    "\n",
    "    # peak calling\n",
    "    Genrich -t ${line}.sort.bam -o ${line}.narrowPeak -j -r -q 0.05\n",
    "    cd ..\n",
    "done"
   ]
  },
  {
   "cell_type": "markdown",
   "id": "3ad6bc6d-c5b2-4313-8594-4a56bda38222",
   "metadata": {},
   "source": [
    "![narrowPeak文件](img/narrowpeak.png)"
   ]
  },
  {
   "cell_type": "markdown",
   "id": "22d4af90-9813-403f-909e-66d596752113",
   "metadata": {},
   "source": [
    "### 从narrowPeak文件到peak-cell matrix"
   ]
  },
  {
   "cell_type": "markdown",
   "id": "f80233a5-a9b2-4063-a9e8-71edf646e448",
   "metadata": {},
   "source": [
    "运行脚本，multiIntersectBed可以得到输入样本间存在的共同位置，以及在该位置上的peak数"
   ]
  },
  {
   "cell_type": "code",
   "execution_count": null,
   "id": "1709dfa2-d9ea-4e10-b930-1ca9a9318f5e",
   "metadata": {},
   "outputs": [],
   "source": [
    "#!/bin/bash\n",
    "\n",
    "files=''\n",
    "for line in `cat SRR_Acc_List.txt`\n",
    "do\n",
    "    # 首先用merge转换为只包含染色体及起始位置的bed文件\n",
    "    bedtools merge -i ${line}/${line}.narrowPeak > test/${line}.bed\n",
    "    cd test\n",
    "    # 去除常染色体外的片段\n",
    "    sed '/chrM\\|chrUn\\|chr[0-9]\\{1,2\\}_/d' ${line}.bed > ${line}.new.bed\n",
    "    rm ${line}.bed\n",
    "    # 为后续multiIntersectBed编写命令中需要的参数\n",
    "    files=${files}\" \"${line}\".new.bed\"\n",
    "    cd ..\n",
    "done\n",
    "\n",
    "cd test\n",
    "# 使用multiIntersectBed将所有的细胞的bed文件整合为peak-cell matrix\n",
    "multiIntersectBed -i ${files} -header > test.bed"
   ]
  },
  {
   "cell_type": "markdown",
   "id": "b97ec832-859e-4f47-9813-2a4917076698",
   "metadata": {},
   "source": [
    "multiIntersectBed示例结果："
   ]
  },
  {
   "cell_type": "markdown",
   "id": "a7b548b7-33c2-442b-90b4-e6f39567ff6a",
   "metadata": {},
   "source": [
    "![multiIntersectBed示例结果](img/sample.png)"
   ]
  },
  {
   "cell_type": "markdown",
   "id": "3ff8d90e-7aa1-4ed3-ba1e-f009ee50b9c5",
   "metadata": {},
   "source": [
    "由于multiIntersectBed产生的文件中还会包含存在重合的样本数量、重合的样本名，而且可能存在上下两个染色体位置彼此相连，所以我们再通过bedtools merge进行处理"
   ]
  },
  {
   "cell_type": "markdown",
   "id": "8eedc0dc-a555-4e43-9c41-02a3cdd4b32c",
   "metadata": {},
   "source": [
    "[merge参数设置参考](https://www.biostars.org/p/103076/)：在merge的过程中，相连的染色体位置会整合在一起，所以相应的peak数应该相加，使用-c设置需要相加的列，-o设置对每列使用的方法（即sum"
   ]
  },
  {
   "cell_type": "code",
   "execution_count": null,
   "id": "1bb72ba2-bbc6-4a06-b551-381646023b84",
   "metadata": {},
   "outputs": [],
   "source": [
    "#!/bin/bash\n",
    "\n",
    "columns=''\n",
    "nsum=\"sum\"\n",
    "for i in {6..389};\n",
    "do\n",
    "    if [ \"$i\" -eq 6 ];then\n",
    "    nsum=\"sum\"\n",
    "    columns=\"6\"\n",
    "    else nsum=${nsum}\",sum\"\n",
    "    columns=${columns}\",\"${i}\n",
    "    fi\n",
    "done\n",
    "\n",
    "bedtools merge -i test.bed -c ${columns} -o ${nsum} > test0.bed"
   ]
  },
  {
   "cell_type": "markdown",
   "id": "6aae44cf-c667-4dd5-b2bf-2380e47d7b83",
   "metadata": {},
   "source": [
    "由于我们最终需要的matrix如下图所示，所以还需要改变列名和行名"
   ]
  },
  {
   "cell_type": "markdown",
   "id": "c3b1542d-4e47-497b-a28e-09d43bd96de5",
   "metadata": {},
   "source": [
    "![peak-cell matrix](img/atac_matrix.png)"
   ]
  },
  {
   "cell_type": "code",
   "execution_count": null,
   "id": "b1e21602-a86a-4678-90b4-3e3dd4674c86",
   "metadata": {},
   "outputs": [],
   "source": [
    "# 得到染色体位置，到时候直接读入作为行名\n",
    "awk '{ print $1 \":\" $2 \"-\" $3}' test0.bed > test0.txt\n",
    "# 删除染色体位置的信息\n",
    "cut -f 4- test0.bed > test.txt"
   ]
  },
  {
   "cell_type": "markdown",
   "id": "0ea01d63-c7ad-4eb1-bf74-29eacacc8d4f",
   "metadata": {
    "tags": []
   },
   "source": [
    "## scRNA-seq fastq处理"
   ]
  },
  {
   "cell_type": "markdown",
   "id": "8538f732-e54d-4981-9fee-8d9192a1f506",
   "metadata": {},
   "source": [
    "### 下载原始文件、质控、比对"
   ]
  },
  {
   "cell_type": "markdown",
   "id": "2f84c98f-43dc-4251-8cdb-6775b66df840",
   "metadata": {},
   "source": [
    "运行脚本"
   ]
  },
  {
   "cell_type": "code",
   "execution_count": null,
   "id": "97999ffc-5305-4ed5-962f-a23f38d26f87",
   "metadata": {},
   "outputs": [],
   "source": [
    "#!/bin/bash\n",
    "\n",
    "files=''\n",
    "for line in `cat SRR_Acc_List.txt`    # SRR_Acc_List文件包含了每个细胞初始数据的SRR号\n",
    "do\n",
    "    # 下载SRA \n",
    "    prefetch $line\n",
    "    cd $line\n",
    "    # 将SRA文件拆解为fastq文件\n",
    "    fasterq-dump -p --include-technical -S -e 10 -O ./ ${line}.sra\n",
    "    rm ${line}.sra\n",
    "    # fastp质控\n",
    "    fastp -i ${line}_1.fastq -o ${line}_1.clean.fastq -I ${line}_2.fastq -O ${line}_2.clean.fastq\n",
    "    rm ${line}_1.fastq\n",
    "    rm ${line}_2.fastq\n",
    "\n",
    "    # 比对\n",
    "    STAR --runThreadN 10 --genomeDir /sibcb1/chenluonanlab6/zhangchuanchao2/data/star_index --readFilesIn ${line}_1.clean.fastq ${line}_2.clean.fastq --outFileNamePrefix ${line}_ --outSAMtype BAM SortedByCoordinate --outSAMstrandField intronMotif --outFilterMultimapNmax 2 --outFilterMismatchNmax 3\n",
    "    rm ${line}_1.clean.fastq\n",
    "    rm ${line}_2.clean.fastq\n",
    "\n",
    "    # 使用cuffquant定量分析每个样本的基因转录本表达水平，得到cxb文件\n",
    "    /sibcb1/chenluonanlab6/zhangchuanchao2/install/cufflinks-2.2.1.Linux_x86_64/cuffquant -o ./. -u -p 10 --library-type fr-unstranded -b /sibcb1/chenluonanlab6/zhangchuanchao2/data/Homo_sapiens/UCSC/hg38/Sequence/WholeGenomeFasta/genome.fa /sibcb1/chenluonanlab6/zhangchuanchao2/data/Homo_sapiens/UCSC/hg38/Annotation/Archives/archive-2015-08-14-08-18-15/Genes/genes.gtf ${line}_Aligned.sortedByCoord.out.bam\n",
    "    \n",
    "    # 为后续cuffnorm编写命令中需要的参数\n",
    "    files=${files}\" \"${line}\"/abundances.cxb\"\n",
    "    cd ..\n",
    "done\n",
    "\n",
    "/sibcb1/chenluonanlab6/zhangchuanchao2/install/cufflinks-2.2.1.Linux_x86_64/cuffnorm -o ./. -L sum_fpkm -p 10 --library-norm-method classic-fpkm --library-type fr-unstranded /sibcb1/chenluonanlab6/zhangchuanchao2/data/Homo_sapiens/UCSC/hg38/Annotation/Archives/archive-2015-08-14-08-18-15/Genes/genes.gtf ${files}"
   ]
  },
  {
   "cell_type": "markdown",
   "id": "65757e7a-35ff-4f95-ba88-cfe2ed506964",
   "metadata": {},
   "source": [
    "最终得到的结果文件中，genes.fpkm_table即是我们需要的gene-cell matrix，修改列名后的文件如下图所示："
   ]
  },
  {
   "cell_type": "markdown",
   "id": "fdd4ab34-1c6d-4293-88c7-e92b6d828084",
   "metadata": {},
   "source": [
    "![gene-cell matrix](img/rna_matrix.png)"
   ]
  },
  {
   "cell_type": "code",
   "execution_count": null,
   "id": "e6656412-2d96-4e32-b838-62a802ea6d32",
   "metadata": {},
   "outputs": [],
   "source": []
  }
 ],
 "metadata": {
  "kernelspec": {
   "display_name": "R",
   "language": "R",
   "name": "ir"
  },
  "language_info": {
   "codemirror_mode": "r",
   "file_extension": ".r",
   "mimetype": "text/x-r-source",
   "name": "R",
   "pygments_lexer": "r",
   "version": "4.1.0"
  }
 },
 "nbformat": 4,
 "nbformat_minor": 5
}
